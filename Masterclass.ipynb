{
 "cells": [
  {
   "cell_type": "markdown",
   "id": "c3588f39",
   "metadata": {},
   "source": [
    "# Masterclass\n",
    "\n",
    "### Importieren Bibliotheken\n",
    "\n",
    "An dieser Stelle werden die Bibliotheken importiert, die für die Datenanalyse notwendig sind."
   ]
  },
  {
   "cell_type": "code",
   "execution_count": 16,
   "id": "0ea3f513",
   "metadata": {},
   "outputs": [],
   "source": [
    "import ROOT\n",
    "import uproot\n",
    "import pandas as pd\n",
    "import numpy as np\n",
    "import matplotlib.pyplot as plt\n",
    "import ipywidgets as widgets\n",
    "import math"
   ]
  },
  {
   "cell_type": "markdown",
   "id": "41731fa5",
   "metadata": {},
   "source": [
    "### Erstellen DataFrame\n",
    "\n",
    "Hier wird ein Pandas Dataframe erstellt. Darin werden die Daten gespeichert, die für die Analyse von Nöten sind. Wir nutzen sie, um die Histogramme zu füllen.\n",
    "Die Datei wird zusätzlich noch ausgelesen, um eine zweite Art von Histogramm zu erstellen, aus denen bestimmte Punkte besser abzulesen sind!"
   ]
  },
  {
   "cell_type": "code",
   "execution_count": 8,
   "id": "d99fcde8",
   "metadata": {},
   "outputs": [],
   "source": [
    "#2015MU in Panda DF\n",
    "df = uproot.open(\"/eos/user/s/sharst/SWAN_projects/MasterclassTest/Data2015.root\")[\"DecayTree\"].arrays(library=\"pd\")\n",
    "gf = uproot.open(\"/eos/user/s/sharst/SWAN_projects/MasterclassTest/Data2015WS.root\")[\"DecayTree\"].arrays(library=\"pd\")\n",
    "\n",
    "f = ROOT.TFile.Open(\"/eos/user/s/sharst/SWAN_projects/MasterclassTest/Data2015.root\")\n",
    "tree1 = f.Get(\"DecayTree\")\n",
    "\n",
    "g = ROOT.TFile.Open(\"/eos/user/s/sharst/SWAN_projects/MasterclassTest/Data2015WS.root\")\n",
    "tree2 = g.Get(\"DecayTree\")"
   ]
  },
  {
   "cell_type": "markdown",
   "id": "29092196",
   "metadata": {},
   "source": [
    "### Plots Xi_c\n",
    "#### Anpassen Cuts mit Slider\n",
    "In der nächsten Zelle sollst Du zum ersten Mal selsbt arbeiten, hier beginnt die eigentliche Datenanalyse! Du sollst ein sauberes Signal von Xi_c erhalten, was möglichst wenig Hintergrund hat. Dafür wendest Du Cuts auf die Daten an, um diese zuzuschneiden.\n",
    "\n",
    "Das Signal für Xi_c soll im orangefarbenen Histogramm bestimmt werden. In den blauen Histogrammen kannst Du sehen, wie die Werteverteilung der Cuts ist. Daran kannst Du erahnen, welche Cuts sinnvoll sind und welche nicht.\n",
    "\n",
    "Es kann zunächst einen kurzen Moment dauern, bis die Histogramme erstellt sind, aber dann kann es direkt losgehen. Mithilfe der Schieberegler können die einzelnen Cuts angepasst und so die Daten zugeschnitten werden. Eine Beschreibung, was welcher Cut bedeutet, findest du auf dem Aufgabenblatt.\n",
    "\n",
    "Wenn Du einen Schieberegler verstellt hast, wartest Du am besten kurz (5-10s), bis der zuletzt angewendete Cut von den Histogrammen übernommen wurde."
   ]
  },
  {
   "cell_type": "code",
   "execution_count": 4,
   "id": "8258c0e8",
   "metadata": {
    "scrolled": false
   },
   "outputs": [
    {
     "data": {
      "application/vnd.jupyter.widget-view+json": {
       "model_id": "26b287c777be40db969da0fa355646ee",
       "version_major": 2,
       "version_minor": 0
      },
      "text/plain": [
       "Canvas(toolbar=Toolbar(toolitems=[('Home', 'Reset original view', 'home', 'home'), ('Back', 'Back to previous …"
      ]
     },
     "metadata": {},
     "output_type": "display_data"
    },
    {
     "name": "stdout",
     "output_type": "stream",
     "text": [
      "Eine kurze Erinnerung: Ist der Slider auf der linken Seite, wird wenig eingeschränkt, rechts schränkt er stark ein.\n"
     ]
    },
    {
     "data": {
      "application/vnd.jupyter.widget-view+json": {
       "model_id": "9f90ac49db0e49688a91d54ef1cd7709",
       "version_major": 2,
       "version_minor": 0
      },
      "text/plain": [
       "Label(value='Filter 1: $P(e^-)$ Wahrscheinlichkeit, dass ein Teilchen ein Elektron ist')"
      ]
     },
     "metadata": {},
     "output_type": "display_data"
    },
    {
     "data": {
      "application/vnd.jupyter.widget-view+json": {
       "model_id": "b2dc775f14754916826232e018c6b7aa",
       "version_major": 2,
       "version_minor": 0
      },
      "text/plain": [
       "Label(value='Filter 2: $P(e^-)$ Wahrscheinlichkeit, dass ein Teilchen ein Proton ist')"
      ]
     },
     "metadata": {},
     "output_type": "display_data"
    },
    {
     "data": {
      "application/vnd.jupyter.widget-view+json": {
       "model_id": "ac26224dc2f94ed9b20896b9a0045a5e",
       "version_major": 2,
       "version_minor": 0
      },
      "text/plain": [
       "Label(value='Filter 3: $\\\\chi^2_{Stoß}$ Qualität des Stoßparameters zwischen Teilchen und Kollisionspunkt')"
      ]
     },
     "metadata": {},
     "output_type": "display_data"
    },
    {
     "data": {
      "application/vnd.jupyter.widget-view+json": {
       "model_id": "4fa3bbb17bde4431ae15c145855cdf71",
       "version_major": 2,
       "version_minor": 0
      },
      "text/plain": [
       "Label(value='Filter 4: $\\\\chi^2_{Flug}$ Qualität der Flugdistanz bezüglich des Kollisionspunkts')"
      ]
     },
     "metadata": {},
     "output_type": "display_data"
    },
    {
     "data": {
      "application/vnd.jupyter.widget-view+json": {
       "model_id": "cc9282f6529a45ab8606da9bbdd6d5b8",
       "version_major": 2,
       "version_minor": 0
      },
      "text/plain": [
       "interactive(children=(FloatSlider(value=0.0, continuous_update=False, description='Ftr.1 $P(e^-)$', max=1.0, s…"
      ]
     },
     "metadata": {},
     "output_type": "display_data"
    }
   ],
   "source": [
    "%matplotlib widget\n",
    "\n",
    "fig = plt.figure()\n",
    "fig.set_size_inches(10, 5)\n",
    "fig.canvas.header_visible = False\n",
    "\n",
    "ax = plt.subplot2grid((7,16),(1,1),colspan = 7, rowspan = 5)\n",
    "bx = plt.subplot2grid((7,16),(1,9),colspan = 3, rowspan = 2)\n",
    "dx = plt.subplot2grid((7,16),(4,9),colspan = 3, rowspan = 2)\n",
    "cx = plt.subplot2grid((7,16),(1,13),colspan = 3, rowspan = 2)\n",
    "ex = plt.subplot2grid((7,16),(4,13),colspan = 3, rowspan = 2)\n",
    "\n",
    "\n",
    "plt.tight_layout()\n",
    "\n",
    "a = 0\n",
    "\n",
    "#fig, ((ax,bx,cx),(dx,ex)) = plt.subplots(2,3)\n",
    "#fig.set_size_inches(16, 7)\n",
    "#print(\"Filter 2: Wahrscheinlichkeit, dass ein Teilchen ein Proton ist\")\n",
    "#print(\"Filter 3: Qualität des Stoßparameters zwischen Teilchen und Kollisionspunkt\")\n",
    "#print(\"Filter 4: Qualität der Flugdistanz bezüglich des Kollisionspunkts\")\n",
    "print(\"Eine kurze Erinnerung: Ist der Slider auf der linken Seite, wird wenig eingeschränkt, rechts schränkt er stark ein.\")\n",
    "lb1 = widgets.Label(\"Filter 1: $P(e^-)$ Wahrscheinlichkeit, dass ein Teilchen ein Elektron ist\")\n",
    "lb2 = widgets.Label(\"Filter 2: $P(e^-)$ Wahrscheinlichkeit, dass ein Teilchen ein Proton ist\")\n",
    "lb3 = widgets.Label(\"Filter 3: $\\chi^2_{Stoß}$ Qualität des Stoßparameters zwischen Teilchen und Kollisionspunkt\")\n",
    "lb4 = widgets.Label(\"Filter 4: $\\chi^2_{Flug}$ Qualität der Flugdistanz bezüglich des Kollisionspunkts\")\n",
    "display(lb1)\n",
    "display(lb2)\n",
    "display(lb3)\n",
    "display(lb4)\n",
    "\n",
    "@widgets.interact(Cut1=widgets.FloatSlider(min = 0, max = 1, step = 0.05, description = \"Ftr.1 $P(e^-)$\",continuous_update = False), Cut2=widgets.FloatSlider(min = 0, max = 1, step = 0.05, description = \"Ftr.2 $P(p)$\",continuous_update = False), Cut3=widgets.FloatSlider(value=0,min = 0, max = 11, step = 0.1, description = \"Ftr.3 $\\chi^2_{Stoß}$\",continuous_update = False), Cut4=widgets.IntSlider(min = 0, max = 500, step = 2, description = \"Ftr.4 $\\chi^2_{Flug}$\",continuous_update = False))\n",
    "def update(Cut1, Cut2=0, Cut3=11, Cut4=0):\n",
    "    \n",
    "    ax.cla()\n",
    "    bx.cla()\n",
    "    cx.cla()\n",
    "    dx.cla()\n",
    "    ex.cla()\n",
    "    \n",
    "    ax.set_title(\"Kombination $p$ mit $K^-$ und $\\pi^+$\")\n",
    "    ax.set_ylabel(\"Einträge pro 1.1MeV\")\n",
    "    ax.set_xlabel(\"$m(pK^-\\pi^+)$ [$MeV$]\")\n",
    "    \n",
    "    bx.set_title(\"\")\n",
    "    bx.set_ylabel(\"Einträge\")\n",
    "    bx.set_xlabel(\"Filter 1: Elektron\")\n",
    "    bx.set_yscale(\"log\")\n",
    "    \n",
    "    cx.set_title(\"\")\n",
    "    cx.set_ylabel(\"Einträge\")\n",
    "    cx.set_xlabel(\"Filter 2: Proton\")\n",
    "    \n",
    "    dx.set_title(\"\")\n",
    "    dx.set_ylabel(\"Einträge\")\n",
    "    dx.set_xlabel(\"Filter 3: Stoßparameter\")\n",
    "    dx.set_yscale(\"log\")\n",
    "    \n",
    "    ex.set_title(\"\")\n",
    "    ex.set_ylabel(\"Einträge\")\n",
    "    ex.set_xlabel(\"Filter 4: Flugdistanz\")\n",
    "    \n",
    "    ax.hist(df[\"lab1_M\"], bins=100, range =(2420,2510), color = \"brown\")\n",
    "    ax.hist(df[\"lab1_M\"][df[\"lab2_ProbNNe\"]>Cut1][df[\"lab2_ProbNNp\"]>Cut2][df[\"lab1_IPCHI2_OWNPV\"]<(11-Cut3)][df[\"lab1_FDCHI2_OWNPV\"]>Cut4], bins=100, range =(2420,2510), color = \"darkorange\")\n",
    "    bx.hist(df[\"lab2_ProbNNe\"][df[\"lab2_ProbNNe\"]>Cut1], bins=100, range =(0,1))\n",
    "    cx.hist(df[\"lab2_ProbNNp\"][df[\"lab2_ProbNNp\"]>Cut2], bins=100, range =(0,1))\n",
    "    dx.hist(df[\"lab1_IPCHI2_OWNPV\"][df[\"lab1_IPCHI2_OWNPV\"]<(11-Cut3)], bins=100, range =(0,11))\n",
    "    ex.hist(df[\"lab1_FDCHI2_OWNPV\"][df[\"lab1_FDCHI2_OWNPV\"]>Cut4], bins=100, range =(0,500))"
   ]
  },
  {
   "cell_type": "markdown",
   "id": "6367e92e",
   "metadata": {},
   "source": [
    "### Plot Xi_c\n",
    "#### Histogramm in ROOT\n",
    "Die nächste Zelle fordert Dich auf, die Werte für die Cuts anzugeben, die Du in dem vorherigen Teil mit den Schiebereglern erörtert hast.\n",
    "\n",
    "Als nächstes wird dann ein anderes Histogramm erzeugt, was nur das Spektrum von Xi_c zeigt. In diesem kannst Du Dir mit dem Mauszeiger Werte anzeigen lassen, indem Du den Mauszeiger an die Stelle in das Histogramm bewegst, von der Du den Wert wissen möchtest. Zusätzlich wird dir ein Bereich an der X-Achse angezeigt, sodass Du besser ablesen kannst."
   ]
  },
  {
   "cell_type": "code",
   "execution_count": null,
   "id": "54f41a79",
   "metadata": {},
   "outputs": [],
   "source": [
    "cut11 = ROOT.TCut(\"lab2_ProbNNe>###\") #Einfügen Filter1\n",
    "cut12 = ROOT.TCut(\"lab2_ProbNNp>###\") #Einfügen Filter2\n",
    "cut13 = ROOT.TCut(\"lab1_IPCHI2_OWNPV<###\") #Einfügen Filter3\n",
    "cut14 = ROOT.TCut(\"lab1_FDCHI2_OWNPV>###\") #Einfügen Filter4\n",
    "cut10 = ROOT.TCut(cut11+cut12+cut13+cut14)"
   ]
  },
  {
   "cell_type": "code",
   "execution_count": 13,
   "id": "ba3e88a3",
   "metadata": {},
   "outputs": [],
   "source": [
    "cut11 = ROOT.TCut(\"lab2_ProbNNe>0.0\") #Einfügen Filter1\n",
    "cut12 = ROOT.TCut(\"lab2_ProbNNp>0.45\") #Einfügen Filter2\n",
    "cut13 = ROOT.TCut(\"lab1_IPCHI2_OWNPV<3\") #Einfügen Filter3\n",
    "cut14 = ROOT.TCut(\"lab1_FDCHI2_OWNPV>100\") #Einfügen Filter4\n",
    "cut10 = ROOT.TCut(cut11+cut12+cut13+cut14)"
   ]
  },
  {
   "cell_type": "code",
   "execution_count": 19,
   "id": "580606d1",
   "metadata": {
    "scrolled": false
   },
   "outputs": [
    {
     "name": "stdout",
     "output_type": "stream",
     "text": [
      "Signal: 78386.3416429361\n",
      "Signal + Untergrund: 196946.34158218425\n",
      "Reinheit: 0.6308792436592233\n",
      "Breite: 6.595954612372771\n",
      " \n"
     ]
    },
    {
     "name": "stderr",
     "output_type": "stream",
     "text": [
      "Warning in <TFile::Append>: Replacing existing TH1: h1 (Potential memory leak).\n",
      "Warning in <TFile::Append>: Replacing existing TH1: h2 (Potential memory leak).\n",
      "Warning in <TCanvas::Constructor>: Deleting canvas with same name: myCanvasName\n"
     ]
    },
    {
     "data": {
      "text/html": [
       "\n",
       "\n",
       "<div id=\"root_plot_1635313143846\"\n",
       "     style=\"width: 796px; height: 572px\">\n",
       "</div>\n",
       "<script>\n",
       "\n",
       "function display_root_plot_1635313143846(Core) {\n",
       "   let obj = Core.parse({\"_typename\":\"TCanvas\",\"fUniqueID\":0,\"fBits\":3342344,\"fLineColor\":1,\"fLineStyle\":1,\"fLineWidth\":1,\"fFillColor\":0,\"fFillStyle\":1001,\"fLeftMargin\":0.12,\"fRightMargin\":0.1,\"fBottomMargin\":0.1,\"fTopMargin\":0.1,\"fXfile\":2,\"fYfile\":2,\"fAfile\":1,\"fXstat\":0.99,\"fYstat\":0.99,\"fAstat\":2,\"fFrameFillColor\":0,\"fFrameLineColor\":1,\"fFrameFillStyle\":1001,\"fFrameLineStyle\":1,\"fFrameLineWidth\":1,\"fFrameBorderSize\":1,\"fFrameBorderMode\":0,\"fX1\":2408.74999916181,\"fY1\":-3744.43152898188,\"fX2\":2521.25000083819,\"fY2\":33699.8815289819,\"fXtoAbsPixelk\":-17043.2441345497,\"fXtoPixelk\":-17043.2441345497,\"fXtoPixel\":7.07555545012156,\"fYtoAbsPixelk\":514.800046590614,\"fYtoPixelk\":514.800046590614,\"fYtoPixel\":-0.0152760179927602,\"fUtoAbsPixelk\":5e-5,\"fUtoPixelk\":5e-5,\"fUtoPixel\":796,\"fVtoAbsPixelk\":572.00005,\"fVtoPixelk\":572,\"fVtoPixel\":-572,\"fAbsPixeltoXk\":2408.74999916181,\"fPixeltoXk\":2408.74999916181,\"fPixeltoX\":0.141331660397463,\"fAbsPixeltoYk\":33699.8815289819,\"fPixeltoYk\":-3744.43152898188,\"fPixeltoY\":-65.4620857656709,\"fXlowNDC\":0,\"fYlowNDC\":0,\"fXUpNDC\":1,\"fYUpNDC\":1,\"fWNDC\":1,\"fHNDC\":1,\"fAbsXlowNDC\":0,\"fAbsYlowNDC\":0,\"fAbsWNDC\":1,\"fAbsHNDC\":1,\"fUxmin\":2420,\"fUymin\":0,\"fUxmax\":2510,\"fUymax\":29955.45,\"fTheta\":30,\"fPhi\":30,\"fAspectRatio\":0,\"fNumber\":0,\"fTickx\":0,\"fTicky\":0,\"fLogx\":0,\"fLogy\":0,\"fLogz\":0,\"fPadPaint\":0,\"fCrosshair\":0,\"fCrosshairPos\":0,\"fBorderSize\":2,\"fBorderMode\":0,\"fModified\":true,\"fGridx\":false,\"fGridy\":false,\"fAbsCoord\":false,\"fEditable\":true,\"fFixedAspectRatio\":false,\"fPrimitives\":{\"_typename\":\"TList\",\"name\":\"TList\",\"arr\":[{\"_typename\":\"TFrame\",\"fUniqueID\":0,\"fBits\":8,\"fLineColor\":1,\"fLineStyle\":1,\"fLineWidth\":1,\"fFillColor\":0,\"fFillStyle\":1001,\"fX1\":2420,\"fY1\":0,\"fX2\":2510,\"fY2\":29955.45,\"fBorderSize\":1,\"fBorderMode\":0},{\"_typename\":\"TH1F\",\"fUniqueID\":0,\"fBits\":520,\"fName\":\"h2\",\"fTitle\":\"Kombination der Teilchen\",\"fLineColor\":632,\"fLineStyle\":1,\"fLineWidth\":1,\"fFillColor\":0,\"fFillStyle\":1001,\"fMarkerColor\":1,\"fMarkerStyle\":1,\"fMarkerSize\":1,\"fNcells\":102,\"fXaxis\":{\"_typename\":\"TAxis\",\"fUniqueID\":0,\"fBits\":0,\"fName\":\"xaxis\",\"fTitle\":\"m(p K^{-} #pi^{+}) [MeV]\",\"fNdivisions\":510,\"fAxisColor\":1,\"fLabelColor\":1,\"fLabelFont\":42,\"fLabelOffset\":0.005,\"fLabelSize\":0.035,\"fTickLength\":0.03,\"fTitleOffset\":1,\"fTitleSize\":0.035,\"fTitleColor\":1,\"fTitleFont\":42,\"fNbins\":100,\"fXmin\":2420,\"fXmax\":2510,\"fXbins\":[],\"fFirst\":0,\"fLast\":0,\"fBits2\":0,\"fTimeDisplay\":false,\"fTimeFormat\":\"\",\"fLabels\":null,\"fModLabs\":null},\"fYaxis\":{\"_typename\":\"TAxis\",\"fUniqueID\":0,\"fBits\":0,\"fName\":\"yaxis\",\"fTitle\":\"Eintr#ddot{a}ge pro 1.1MeV [1\\/1.1MeV]\",\"fNdivisions\":510,\"fAxisColor\":1,\"fLabelColor\":1,\"fLabelFont\":42,\"fLabelOffset\":0.005,\"fLabelSize\":0.035,\"fTickLength\":0.03,\"fTitleOffset\":0,\"fTitleSize\":0.035,\"fTitleColor\":1,\"fTitleFont\":42,\"fNbins\":1,\"fXmin\":0,\"fXmax\":1,\"fXbins\":[],\"fFirst\":0,\"fLast\":0,\"fBits2\":0,\"fTimeDisplay\":false,\"fTimeFormat\":\"\",\"fLabels\":null,\"fModLabs\":null},\"fZaxis\":{\"_typename\":\"TAxis\",\"fUniqueID\":0,\"fBits\":0,\"fName\":\"zaxis\",\"fTitle\":\"\",\"fNdivisions\":510,\"fAxisColor\":1,\"fLabelColor\":1,\"fLabelFont\":42,\"fLabelOffset\":0.005,\"fLabelSize\":0.035,\"fTickLength\":0.03,\"fTitleOffset\":1,\"fTitleSize\":0.035,\"fTitleColor\":1,\"fTitleFont\":42,\"fNbins\":1,\"fXmin\":0,\"fXmax\":1,\"fXbins\":[],\"fFirst\":0,\"fLast\":0,\"fBits2\":0,\"fTimeDisplay\":false,\"fTimeFormat\":\"\",\"fLabels\":null,\"fModLabs\":null},\"fBarOffset\":0,\"fBarWidth\":1000,\"fEntries\":2651842,\"fTsumw\":2203828,\"fTsumw2\":2203828,\"fTsumwx\":5431319862.59644,\"fTsumwx2\":13386843521560.6,\"fMaximum\":-1111,\"fMinimum\":-1111,\"fNormFactor\":0,\"fContour\":[],\"fSumw2\":[],\"fOption\":\"\",\"fFunctions\":{\"_typename\":\"TList\",\"name\":\"TList\",\"arr\":[{\"_typename\":\"TF1\",\"fUniqueID\":0,\"fBits\":1024,\"fName\":\"f1\",\"fTitle\":\"[0] + x*[1] + [3] * exp(-(x - [4])^2\\/(2*[2]*[2]))+ [5] * exp(-(x - [7])^2\\/(2*[6]*[6]))\",\"fLineColor\":632,\"fLineStyle\":1,\"fLineWidth\":2,\"fFillColor\":19,\"fFillStyle\":0,\"fMarkerColor\":1,\"fMarkerStyle\":1,\"fMarkerSize\":1,\"fXmin\":2420,\"fXmax\":2510,\"fNpar\":8,\"fNdim\":1,\"fNpx\":100,\"fType\":0,\"fNpfits\":100,\"fNDF\":92,\"fChisquare\":294.691938593731,\"fMinimum\":-1111,\"fMaximum\":-1111,\"fParErrors\":[1384.18094584251,0.561829849659842,0.0585608092611989,57.6557176548451,0.0532123413768015,47.4286949025064,47.4286949025064,47.4286949025064],\"fParMin\":[0,0,0,0,0,0,0,0],\"fParMax\":[0,0,0,0,0,0,0,0],\"fSave\":[21670.665461251,21648.4002266294,21626.1349921188,21603.869757878,21581.6045242799,21559.3392921857,21537.0740635457,21514.8088426949,21492.5436390853,21470.278472938,21448.0133866883,21425.7484676916,21403.4838923213,21381.220009817,21358.9574983015,21336.6976488081,21314.4428709813,21292.1975733308,21269.9696605347,21247.7730210073,21225.6315609665,21203.5855857021,21181.7016374256,21160.0872618162,21138.9125605219,21118.4407313563,21099.0699980815,21081.389237888,21066.2490347929,21054.848603726,21048.8368365539,21050.4224798056,21062.4841716843,21088.6659809954,21133.4387474475,21202.1028119743,21300.7048564718,21435.8419504565,21614.3309006549,21842.7316327846,22126.7298807757,22470.406107144,22875.4422069791,23340.3417324761,23859.7587090038,24424.0398604322,25019.0810685136,25626.5786153788,26224.7191739444,26789.3026515419,27295.2349153623,27718.2715046316,28036.8480098215,28233.80645733,28297.8258152086,28224.3906989276,28016.1829071529,27682.8485321182,27240.1687943432,26708.7338072604,26112.2743604798,25475.8395175205,24824.0135588294,24179.3454652844,23561.1228613989,22984.5682141333,22460.4774376397,21995.2686556012,21591.3684673494,21247.8384905548,20961.136939276,20725.916567893,20535.7776320349,20383.9179050181,20263.6466771011,20168.7523346191,20093.7310981791,20033.8966605261,19985.3968345969,19945.1647627107,19910.8300640105,19880.6109327509,19853.2029202721,19827.6749168419,19803.3783276381,19779.8719202965,19756.8623679074,19734.159012564,19711.6406352969,19689.2318195202,19666.8866359815,19644.5776963408,19622.2890047119,19600.0114090769,19577.7397786928,19555.4712946694,19533.2044389709,19510.9384101831,19488.6727934846,19466.4073783285,19444.1420599132,2420,2510],\"fNormalized\":false,\"fNormIntegral\":0,\"fFormula\":{\"_typename\":\"TFormula\",\"fUniqueID\":0,\"fBits\":1024,\"fName\":\"f1\",\"fTitle\":\"[0] + x*[1] + [3] * exp(-(x - [4])^2\\/(2*[2]*[2]))+ [5] * exp(-(x - [7])^2\\/(2*[6]*[6]))\",\"fClingParameters\":[81539.4076428825,-24.7391496618506,6.77657158949611,7830.61903531085,2468.71543390242,1,0,2468],\"fAllParametersSetted\":true,\"fParams\":[{\"$pair\":\"pair<TString,int,TFormulaParamOrder>\",\"first\":\"p0\",\"second\":0},{\"$pair\":\"pair<TString,int,TFormulaParamOrder>\",\"first\":\"p1\",\"second\":1},{\"$pair\":\"pair<TString,int,TFormulaParamOrder>\",\"first\":\"p2\",\"second\":2},{\"$pair\":\"pair<TString,int,TFormulaParamOrder>\",\"first\":\"p3\",\"second\":3},{\"$pair\":\"pair<TString,int,TFormulaParamOrder>\",\"first\":\"p4\",\"second\":4},{\"$pair\":\"pair<TString,int,TFormulaParamOrder>\",\"first\":\"p5\",\"second\":5},{\"$pair\":\"pair<TString,int,TFormulaParamOrder>\",\"first\":\"p6\",\"second\":6},{\"$pair\":\"pair<TString,int,TFormulaParamOrder>\",\"first\":\"p7\",\"second\":7}],\"fFormula\":\"[p0]+x*[p1]+[p3]*exp(-pow((x-[p4]),2)\\/(2*[p2]*[p2]))+[p5]*exp(-pow((x-[p7]),2)\\/(2*[p6]*[p6]))\",\"fNdim\":1,\"fLinearParts\":[],\"fVectorized\":false},\"fParams\":null,\"fComposition\":null}],\"opt\":[\"\"]},\"fBufferSize\":0,\"fBuffer\":[],\"fBinStatErrOpt\":0,\"fStatOverflows\":2,\"fArray\":[168553,21232,21438,21444,20887,21091,21320,21458,21001,21278,21647,21173,21709,21452,21385,21669,21297,21373,21374,21175,21129,21644,21292,21545,21422,21044,21286,21140,21224,20945,21331,21070,21104,21178,21628,21566,21112,21590,21865,21764,22094,22495,23037,23186,23427,23974,24405,25066,25932,26104,27035,27522,27735,28327,28453,28529,28125,28341,27629,27168,26240,25687,25044,24230,23760,22927,22573,22465,21806,21400,20991,20914,20669,20934,20157,20456,20250,20375,20412,19681,20027,20174,19872,20022,19665,19682,19511,19822,19701,19225,20205,19609,19468,19790,19221,19377,19060,19759,19449,19177,19175,279461]},{\"_typename\":\"TH1F\",\"fUniqueID\":0,\"fBits\":520,\"fName\":\"h1\",\"fTitle\":\"Kombination der Teilchen\",\"fLineColor\":602,\"fLineStyle\":1,\"fLineWidth\":1,\"fFillColor\":0,\"fFillStyle\":1001,\"fMarkerColor\":1,\"fMarkerStyle\":1,\"fMarkerSize\":1,\"fNcells\":102,\"fXaxis\":{\"_typename\":\"TAxis\",\"fUniqueID\":0,\"fBits\":0,\"fName\":\"xaxis\",\"fTitle\":\"\",\"fNdivisions\":510,\"fAxisColor\":1,\"fLabelColor\":1,\"fLabelFont\":42,\"fLabelOffset\":0.005,\"fLabelSize\":0.035,\"fTickLength\":0.03,\"fTitleOffset\":1,\"fTitleSize\":0.035,\"fTitleColor\":1,\"fTitleFont\":42,\"fNbins\":100,\"fXmin\":2420,\"fXmax\":2510,\"fXbins\":[],\"fFirst\":0,\"fLast\":0,\"fBits2\":0,\"fTimeDisplay\":false,\"fTimeFormat\":\"\",\"fLabels\":null,\"fModLabs\":null},\"fYaxis\":{\"_typename\":\"TAxis\",\"fUniqueID\":0,\"fBits\":0,\"fName\":\"yaxis\",\"fTitle\":\"\",\"fNdivisions\":510,\"fAxisColor\":1,\"fLabelColor\":1,\"fLabelFont\":42,\"fLabelOffset\":0.005,\"fLabelSize\":0.035,\"fTickLength\":0.03,\"fTitleOffset\":0,\"fTitleSize\":0.035,\"fTitleColor\":1,\"fTitleFont\":42,\"fNbins\":1,\"fXmin\":0,\"fXmax\":1,\"fXbins\":[],\"fFirst\":0,\"fLast\":0,\"fBits2\":0,\"fTimeDisplay\":false,\"fTimeFormat\":\"\",\"fLabels\":null,\"fModLabs\":null},\"fZaxis\":{\"_typename\":\"TAxis\",\"fUniqueID\":0,\"fBits\":0,\"fName\":\"zaxis\",\"fTitle\":\"\",\"fNdivisions\":510,\"fAxisColor\":1,\"fLabelColor\":1,\"fLabelFont\":42,\"fLabelOffset\":0.005,\"fLabelSize\":0.035,\"fTickLength\":0.03,\"fTitleOffset\":1,\"fTitleSize\":0.035,\"fTitleColor\":1,\"fTitleFont\":42,\"fNbins\":1,\"fXmin\":0,\"fXmax\":1,\"fXbins\":[],\"fFirst\":0,\"fLast\":0,\"fBits2\":0,\"fTimeDisplay\":false,\"fTimeFormat\":\"\",\"fLabels\":null,\"fModLabs\":null},\"fBarOffset\":0,\"fBarWidth\":1000,\"fEntries\":640709,\"fTsumw\":544844,\"fTsumw2\":544844,\"fTsumwx\":1342669726.67714,\"fTsumwx2\":3309076079416.71,\"fMaximum\":-1111,\"fMinimum\":-1111,\"fNormFactor\":0,\"fContour\":[],\"fSumw2\":[],\"fOption\":\"\",\"fFunctions\":{\"_typename\":\"TList\",\"name\":\"TList\",\"arr\":[{\"_typename\":\"TF1\",\"fUniqueID\":0,\"fBits\":1024,\"fName\":\"f1\",\"fTitle\":\"[0] + x*[1] + [3] * exp(-(x - [4])^2\\/(2*[2]*[2]))+ [5] * exp(-(x - [7])^2\\/(2*[6]*[6]))\",\"fLineColor\":594,\"fLineStyle\":1,\"fLineWidth\":2,\"fFillColor\":19,\"fFillStyle\":0,\"fMarkerColor\":1,\"fMarkerStyle\":1,\"fMarkerSize\":1,\"fXmin\":2420,\"fXmax\":2510,\"fNpar\":8,\"fNdim\":1,\"fNpx\":100,\"fType\":0,\"fNpfits\":100,\"fNDF\":92,\"fChisquare\":278.159787873556,\"fMinimum\":-1111,\"fMaximum\":-1111,\"fParErrors\":[7.15958273560482,0.00290280568214007,0.0343808572373879,25.4462705598147,0.0434051507401421,0.424264068711929,1.4142135623731,1.4142135623731],\"fParMin\":[0,0,0,0,0,0,0,0],\"fParMax\":[0,0,0,0,0,0,0,0],\"fSave\":[5011.35333454654,5001.78991786449,4992.22650120225,4982.66308459065,4973.09966810595,4963.53625193319,4953.97283651252,4944.4094228702,4934.84601335163,4925.28261321064,4915.71923398113,4906.15590047693,4896.59266500786,4887.02963561883,4877.46703093966,4867.90528432937,4858.34523711234,4848.7884888274,4839.23801712605,4829.69924857757,4820.18186296099,4810.70275691767,4801.29078569632,4791.99414625889,4782.89155215117,4774.10865241338,4765.84140812112,4758.38827034365,4752.19287268724,4747.89839582892,4746.41359945212,4748.98858641185,4757.29557576101,4773.5063697339,4800.35407661728,4841.16254457271,4899.82371227328,4980.70177304963,5088.4448600312,5227.69092924205,5402.66523207907,5616.68203345321,5871.58180982382,6167.15467573724,6500.61787744433,6866.22596417239,7255.09299663784,7655.29424106261,8052.28950498653,8429.67338639437,8770.21364887152,9057.09428022494,9275.24222093854,9412.59357775415,9461.15174348599,9417.70835955083,9284.13667817653,9067.22000009455,8778.03705068245,8430.98178439973,8042.53824967679,7629.95532336631,7209.96847556514,6797.69737867547,6405.8137546967,6044.03031352825,5718.91671014293,5434.00913330268,5190.15149442283,4985.99070751423,4818.54614165054,4683.78177988207,4577.12542231072,4493.89850314516,4429.63919403058,4380.31777472442,4342.45522885986,4313.16321703334,4290.12640232639,4271.54750586983,4256.07262159562,4242.71034606436,4230.75409489786,4219.7132081711,4209.2554334112,4199.16122143147,4189.28891874836,4179.54924177611,4169.88719199006,4160.26964663523,4150.67709657089,4141.09830068591,4131.52692103444,4121.95946015756,4112.39402872516,4102.82962744703,4093.26573874758,4083.70210007352,4074.13858096402,4064.57511791323,4055.01168063341,2420,2510],\"fNormalized\":false,\"fNormIntegral\":0,\"fFormula\":{\"_typename\":\"TFormula\",\"fUniqueID\":0,\"fBits\":1024,\"fName\":\"f1\",\"fTitle\":\"[0] + x*[1] + [3] * exp(-(x - [4])^2\\/(2*[2]*[2]))+ [5] * exp(-(x - [7])^2\\/(2*[6]*[6]))\",\"fClingParameters\":[30726.3182233104,-10.6260185490789,6.59595461237277,4967.03237408628,2468.71908595201,-472574.740277519,0,2468],\"fAllParametersSetted\":true,\"fParams\":[{\"$pair\":\"pair<TString,int,TFormulaParamOrder>\",\"first\":\"p0\",\"second\":0},{\"$pair\":\"pair<TString,int,TFormulaParamOrder>\",\"first\":\"p1\",\"second\":1},{\"$pair\":\"pair<TString,int,TFormulaParamOrder>\",\"first\":\"p2\",\"second\":2},{\"$pair\":\"pair<TString,int,TFormulaParamOrder>\",\"first\":\"p3\",\"second\":3},{\"$pair\":\"pair<TString,int,TFormulaParamOrder>\",\"first\":\"p4\",\"second\":4},{\"$pair\":\"pair<TString,int,TFormulaParamOrder>\",\"first\":\"p5\",\"second\":5},{\"$pair\":\"pair<TString,int,TFormulaParamOrder>\",\"first\":\"p6\",\"second\":6},{\"$pair\":\"pair<TString,int,TFormulaParamOrder>\",\"first\":\"p7\",\"second\":7}],\"fFormula\":\"[p0]+x*[p1]+[p3]*exp(-pow((x-[p4]),2)\\/(2*[p2]*[p2]))+[p5]*exp(-pow((x-[p7]),2)\\/(2*[p6]*[p6]))\",\"fNdim\":1,\"fLinearParts\":[],\"fVectorized\":false},\"fParams\":null,\"fComposition\":null}],\"opt\":[\"\"]},\"fBufferSize\":0,\"fBuffer\":[],\"fBinStatErrOpt\":0,\"fStatOverflows\":2,\"fArray\":[39139,4962,4901,4888,4826,4928,4802,4792,4821,4864,4921,4798,4801,4775,4927,5075,4867,4845,4731,4879,4884,4899,4792,4803,4770,4957,4881,4777,4803,4649,4875,4942,4828,4790,4894,4920,4847,5146,5147,5210,5412,5624,5797,5909,6424,6565,6792,7354,7786,8096,8614,8957,9022,9580,9706,9626,9320,9310,9074,8671,8207,7648,7329,6848,6564,6061,5884,5448,5260,5232,5005,4834,4784,4727,4516,4528,4416,4580,4277,4259,4175,4550,4134,4138,4074,4348,4325,4270,4048,3980,4181,4007,4191,4073,4110,4141,3832,4067,4037,3909,3991,56726]},{\"_typename\":\"TF1\",\"fUniqueID\":0,\"fBits\":8,\"fName\":\"f21\",\"fTitle\":\"30726.318223310416+x*-10.626018549078902\",\"fLineColor\":1,\"fLineStyle\":4,\"fLineWidth\":2,\"fFillColor\":19,\"fFillStyle\":0,\"fMarkerColor\":1,\"fMarkerStyle\":1,\"fMarkerSize\":1,\"fXmin\":0,\"fXmax\":2510,\"fNpar\":0,\"fNdim\":1,\"fNpx\":100,\"fType\":0,\"fNpfits\":0,\"fNDF\":0,\"fChisquare\":0,\"fMinimum\":-1111,\"fMaximum\":-1111,\"fParErrors\":[],\"fParMin\":[],\"fParMax\":[],\"fSave\":[],\"fNormalized\":false,\"fNormIntegral\":0,\"fFormula\":{\"_typename\":\"TFormula\",\"fUniqueID\":0,\"fBits\":1024,\"fName\":\"f21\",\"fTitle\":\"30726.318223310416+x*-10.626018549078902\",\"fClingParameters\":[],\"fAllParametersSetted\":true,\"fParams\":[],\"fFormula\":\"30726.318223310416+x*-10.626018549078902\",\"fNdim\":1,\"fLinearParts\":[],\"fVectorized\":false},\"fParams\":null,\"fComposition\":null},{\"_typename\":\"TF1\",\"fUniqueID\":0,\"fBits\":8,\"fName\":\"f22\",\"fTitle\":\"4967.0323740862805 * exp(-(x - 2468.719085952012)^2\\/(2*6.595954612372771*6.595954612372771))+ -472574.7402775187 * exp(-(x - 2468.0)^2\\/(2*0.0*0.0))\",\"fLineColor\":602,\"fLineStyle\":1,\"fLineWidth\":3,\"fFillColor\":19,\"fFillStyle\":0,\"fMarkerColor\":1,\"fMarkerStyle\":1,\"fMarkerSize\":1,\"fXmin\":2420,\"fXmax\":2510,\"fNpar\":0,\"fNdim\":1,\"fNpx\":100,\"fType\":0,\"fNpfits\":0,\"fNDF\":0,\"fChisquare\":0,\"fMinimum\":-1111,\"fMaximum\":-1111,\"fParErrors\":[],\"fParMin\":[],\"fParMax\":[],\"fSave\":[],\"fNormalized\":false,\"fNormIntegral\":0,\"fFormula\":{\"_typename\":\"TFormula\",\"fUniqueID\":0,\"fBits\":1024,\"fName\":\"f22\",\"fTitle\":\"4967.0323740862805 * exp(-(x - 2468.719085952012)^2\\/(2*6.595954612372771*6.595954612372771))+ -472574.7402775187 * exp(-(x - 2468.0)^2\\/(2*0.0*0.0))\",\"fClingParameters\":[],\"fAllParametersSetted\":true,\"fParams\":[],\"fFormula\":\"4967.0323740862805*exp(-pow((x-2468.719085952012),2)\\/(2*6.595954612372771*6.595954612372771))+-472574.7402775187*exp(-pow((x-2468.0),2)\\/(2*0.0*0.0))\",\"fNdim\":1,\"fLinearParts\":[],\"fVectorized\":false},\"fParams\":null,\"fComposition\":null},{\"_typename\":\"TF1\",\"fUniqueID\":0,\"fBits\":8,\"fName\":\"f23\",\"fTitle\":\"30726.318223310416+x*-10.626018549078902 +4967.0323740862805 * exp(-(x - 2468.719085952012)^2\\/(2*6.595954612372771*6.595954612372771))+ -472574.7402775187 * exp(-(x - 2468.0)^2\\/(2*0.0*0.0))\",\"fLineColor\":1,\"fLineStyle\":4,\"fLineWidth\":2,\"fFillColor\":19,\"fFillStyle\":0,\"fMarkerColor\":1,\"fMarkerStyle\":1,\"fMarkerSize\":1,\"fXmin\":2420,\"fXmax\":2510,\"fNpar\":0,\"fNdim\":1,\"fNpx\":100,\"fType\":0,\"fNpfits\":0,\"fNDF\":0,\"fChisquare\":0,\"fMinimum\":-1111,\"fMaximum\":-1111,\"fParErrors\":[],\"fParMin\":[],\"fParMax\":[],\"fSave\":[],\"fNormalized\":false,\"fNormIntegral\":0,\"fFormula\":{\"_typename\":\"TFormula\",\"fUniqueID\":0,\"fBits\":1024,\"fName\":\"f23\",\"fTitle\":\"30726.318223310416+x*-10.626018549078902 +4967.0323740862805 * exp(-(x - 2468.719085952012)^2\\/(2*6.595954612372771*6.595954612372771))+ -472574.7402775187 * exp(-(x - 2468.0)^2\\/(2*0.0*0.0))\",\"fClingParameters\":[],\"fAllParametersSetted\":true,\"fParams\":[],\"fFormula\":\"30726.318223310416+x*-10.626018549078902+4967.0323740862805*exp(-pow((x-2468.719085952012),2)\\/(2*6.595954612372771*6.595954612372771))+-472574.7402775187*exp(-pow((x-2468.0),2)\\/(2*0.0*0.0))\",\"fNdim\":1,\"fLinearParts\":[],\"fVectorized\":false},\"fParams\":null,\"fComposition\":null},{\"_typename\":\"TF1\",\"fUniqueID\":0,\"fBits\":8,\"fName\":\"f3\",\"fTitle\":\"81539.40764288246+x*-24.739149661850576\",\"fLineColor\":1,\"fLineStyle\":4,\"fLineWidth\":2,\"fFillColor\":19,\"fFillStyle\":0,\"fMarkerColor\":1,\"fMarkerStyle\":1,\"fMarkerSize\":1,\"fXmin\":0,\"fXmax\":2510,\"fNpar\":0,\"fNdim\":1,\"fNpx\":100,\"fType\":0,\"fNpfits\":0,\"fNDF\":0,\"fChisquare\":0,\"fMinimum\":-1111,\"fMaximum\":-1111,\"fParErrors\":[],\"fParMin\":[],\"fParMax\":[],\"fSave\":[],\"fNormalized\":false,\"fNormIntegral\":0,\"fFormula\":{\"_typename\":\"TFormula\",\"fUniqueID\":0,\"fBits\":1024,\"fName\":\"f3\",\"fTitle\":\"81539.40764288246+x*-24.739149661850576\",\"fClingParameters\":[],\"fAllParametersSetted\":true,\"fParams\":[],\"fFormula\":\"81539.40764288246+x*-24.739149661850576\",\"fNdim\":1,\"fLinearParts\":[],\"fVectorized\":false},\"fParams\":null,\"fComposition\":null},{\"_typename\":\"TPaveText\",\"fUniqueID\":0,\"fBits\":9,\"fLineColor\":1,\"fLineStyle\":1,\"fLineWidth\":1,\"fFillColor\":0,\"fFillStyle\":0,\"fX1\":2438.78863026269,\"fY1\":31453.2228933645,\"fX2\":2491.21136973731,\"fY2\":33512.6601422405,\"fX1NDC\":0.267010050251256,\"fY1NDC\":0.940000003948808,\"fX2NDC\":0.732989949748744,\"fY2NDC\":0.995000004768372,\"fBorderSize\":0,\"fInit\":1,\"fShadowColor\":1,\"fCornerRadius\":0,\"fOption\":\"blNDC\",\"fName\":\"title\",\"fTextAngle\":0,\"fTextSize\":0,\"fTextAlign\":22,\"fTextColor\":1,\"fTextFont\":42,\"fLabel\":\"\",\"fLongest\":24,\"fMargin\":0.05,\"fLines\":{\"_typename\":\"TList\",\"name\":\"TList\",\"arr\":[{\"_typename\":\"TLatex\",\"fUniqueID\":0,\"fBits\":0,\"fName\":\"\",\"fTitle\":\"Kombination der Teilchen\",\"fTextAngle\":0,\"fTextSize\":0,\"fTextAlign\":0,\"fTextColor\":0,\"fTextFont\":0,\"fX\":0,\"fY\":0,\"fLineColor\":1,\"fLineStyle\":1,\"fLineWidth\":2,\"fLimitFactorSize\":3,\"fOriginSize\":0.0467500016093254}],\"opt\":[\"\"]}},{\"_typename\":\"TLegend\",\"fUniqueID\":0,\"fBits\":8,\"fLineColor\":1,\"fLineStyle\":1,\"fLineWidth\":1,\"fFillColor\":0,\"fFillStyle\":1001,\"fX1\":0.8,\"fY1\":0.7,\"fX2\":0.99,\"fY2\":0.99,\"fX1NDC\":0,\"fY1NDC\":0,\"fX2NDC\":0,\"fY2NDC\":0,\"fBorderSize\":1,\"fInit\":0,\"fShadowColor\":1,\"fCornerRadius\":0,\"fOption\":\"brNDC\",\"fName\":\"TPave\",\"fTextAngle\":0,\"fTextSize\":0,\"fTextAlign\":12,\"fTextColor\":1,\"fTextFont\":42,\"fPrimitives\":{\"_typename\":\"TList\",\"name\":\"TList\",\"arr\":[{\"_typename\":\"TLegendEntry\",\"fUniqueID\":0,\"fBits\":0,\"fTextAngle\":0,\"fTextSize\":0,\"fTextAlign\":0,\"fTextColor\":0,\"fTextFont\":0,\"fLineColor\":1,\"fLineStyle\":1,\"fLineWidth\":1,\"fFillColor\":0,\"fFillStyle\":0,\"fMarkerColor\":1,\"fMarkerStyle\":21,\"fMarkerSize\":1,\"fObject\":{\"$ref\":3},\"fLabel\":\"Ungefilterte Daten\",\"fOption\":\"l\"},{\"_typename\":\"TLegendEntry\",\"fUniqueID\":0,\"fBits\":0,\"fTextAngle\":0,\"fTextSize\":0,\"fTextAlign\":0,\"fTextColor\":0,\"fTextFont\":0,\"fLineColor\":1,\"fLineStyle\":1,\"fLineWidth\":1,\"fFillColor\":0,\"fFillStyle\":0,\"fMarkerColor\":1,\"fMarkerStyle\":21,\"fMarkerSize\":1,\"fObject\":{\"$ref\":10},\"fLabel\":\"Gefilterte Daten\",\"fOption\":\"l\"},{\"_typename\":\"TLegendEntry\",\"fUniqueID\":0,\"fBits\":0,\"fTextAngle\":0,\"fTextSize\":0,\"fTextAlign\":0,\"fTextColor\":0,\"fTextFont\":0,\"fLineColor\":1,\"fLineStyle\":1,\"fLineWidth\":1,\"fFillColor\":0,\"fFillStyle\":0,\"fMarkerColor\":1,\"fMarkerStyle\":21,\"fMarkerSize\":1,\"fObject\":{\"$ref\":19},\"fLabel\":\"Signal\",\"fOption\":\"l\"}],\"opt\":[\"l\",\"l\",\"l\"]},\"fEntrySeparation\":0.1,\"fMargin\":0.25,\"fNColumns\":1,\"fColumnSeparation\":0},{\"_typename\":\"TStyle\",\"fUniqueID\":0,\"fBits\":0,\"fName\":\"Modern\",\"fTitle\":\"Modern Style\",\"fLineColor\":1,\"fLineStyle\":1,\"fLineWidth\":1,\"fFillColor\":19,\"fFillStyle\":1001,\"fMarkerColor\":1,\"fMarkerStyle\":1,\"fMarkerSize\":1,\"fTextAngle\":0,\"fTextSize\":0.05,\"fTextAlign\":11,\"fTextColor\":1,\"fTextFont\":62,\"fXaxis\":{\"_typename\":\"TAttAxis\",\"fNdivisions\":510,\"fAxisColor\":1,\"fLabelColor\":1,\"fLabelFont\":42,\"fLabelOffset\":0.005,\"fLabelSize\":0.035,\"fTickLength\":0.03,\"fTitleOffset\":1,\"fTitleSize\":0.035,\"fTitleColor\":1,\"fTitleFont\":42},\"fYaxis\":{\"_typename\":\"TAttAxis\",\"fNdivisions\":510,\"fAxisColor\":1,\"fLabelColor\":1,\"fLabelFont\":42,\"fLabelOffset\":0.005,\"fLabelSize\":0.035,\"fTickLength\":0.03,\"fTitleOffset\":0,\"fTitleSize\":0.035,\"fTitleColor\":1,\"fTitleFont\":42},\"fZaxis\":{\"_typename\":\"TAttAxis\",\"fNdivisions\":510,\"fAxisColor\":1,\"fLabelColor\":1,\"fLabelFont\":42,\"fLabelOffset\":0.005,\"fLabelSize\":0.035,\"fTickLength\":0.03,\"fTitleOffset\":1,\"fTitleSize\":0.035,\"fTitleColor\":1,\"fTitleFont\":42},\"fBarWidth\":1,\"fBarOffset\":0,\"fColorModelPS\":0,\"fDrawBorder\":0,\"fOptLogx\":0,\"fOptLogy\":0,\"fOptLogz\":0,\"fOptDate\":0,\"fOptStat\":0,\"fOptTitle\":1,\"fOptFile\":0,\"fOptFit\":0,\"fShowEventStatus\":0,\"fShowEditor\":0,\"fShowToolBar\":0,\"fNumberContours\":20,\"fAttDate\":{\"_typename\":\"TAttText\",\"fTextAngle\":0,\"fTextSize\":0.025,\"fTextAlign\":11,\"fTextColor\":1,\"fTextFont\":62},\"fDateX\":0.01,\"fDateY\":0.01,\"fEndErrorSize\":2,\"fErrorX\":0.5,\"fFuncColor\":2,\"fFuncStyle\":1,\"fFuncWidth\":2,\"fGridColor\":0,\"fGridStyle\":3,\"fGridWidth\":1,\"fLegendBorderSize\":1,\"fLegendFillColor\":0,\"fLegendFont\":42,\"fLegendTextSize\":0,\"fHatchesLineWidth\":1,\"fHatchesSpacing\":1,\"fFrameFillColor\":0,\"fFrameLineColor\":1,\"fFrameFillStyle\":1001,\"fFrameLineStyle\":1,\"fFrameLineWidth\":1,\"fFrameBorderSize\":1,\"fFrameBorderMode\":0,\"fHistFillColor\":0,\"fHistLineColor\":602,\"fHistFillStyle\":1001,\"fHistLineStyle\":1,\"fHistLineWidth\":1,\"fHistMinimumZero\":false,\"fHistTopMargin\":0.05,\"fCanvasPreferGL\":false,\"fCanvasColor\":0,\"fCanvasBorderSize\":2,\"fCanvasBorderMode\":0,\"fCanvasDefH\":500,\"fCanvasDefW\":700,\"fCanvasDefX\":10,\"fCanvasDefY\":10,\"fPadColor\":0,\"fPadBorderSize\":2,\"fPadBorderMode\":0,\"fPadBottomMargin\":0.1,\"fPadTopMargin\":0.1,\"fPadLeftMargin\":0.1,\"fPadRightMargin\":0.1,\"fPadGridX\":false,\"fPadGridY\":false,\"fPadTickX\":0,\"fPadTickY\":0,\"fPaperSizeX\":20,\"fPaperSizeY\":26,\"fScreenFactor\":1,\"fStatColor\":0,\"fStatTextColor\":1,\"fStatBorderSize\":1,\"fStatFont\":42,\"fStatFontSize\":0,\"fStatStyle\":1001,\"fStatFormat\":\"6.4g\",\"fStatX\":0.98,\"fStatY\":0.935,\"fStatW\":0.2,\"fStatH\":0.16,\"fStripDecimals\":true,\"fTitleAlign\":23,\"fTitleColor\":0,\"fTitleTextColor\":1,\"fTitleBorderSize\":0,\"fTitleFont\":42,\"fTitleFontSize\":0.05,\"fTitleStyle\":0,\"fTitleX\":0.5,\"fTitleY\":0.995,\"fTitleW\":0,\"fTitleH\":0,\"fLegoInnerR\":0.5,\"fLineStyle\":[\"\",\"  \",\" 12 12\",\" 4 8\",\" 12 16 4 16\",\" 20 12 4 12\",\" 20 12 4 12 4 12 4 12\",\" 20 20\",\" 20 12 4 12 4 12\",\" 80 20\",\" 80 40 4 40\",\"  \",\"  \",\"  \",\"  \",\"  \",\"  \",\"  \",\"  \",\"  \",\"  \",\"  \",\"  \",\"  \",\"  \",\"  \",\"  \",\"  \",\"  \",\"  \"],\"fHeaderPS\":\"\",\"fTitlePS\":\"\",\"fFitFormat\":\"5.4g\",\"fPaintTextFormat\":\"g\",\"fLineScalePS\":3,\"fJoinLinePS\":0,\"fCapLinePS\":0,\"fTimeOffset\":788918400,\"fImageScaling\":1}],\"opt\":[\"\",\"MIN0\",\"same\",\"same\",\"same\",\"same\",\"same\",\"blNDC\",\"\",\"\"]},\"fExecs\":null,\"fName\":\"myCanvasName\",\"fTitle\":\"Titel\",\"fNumPaletteColor\":0,\"fNextPaletteColor\":0,\"fDISPLAY\":\"$DISPLAY\",\"fDoubleBuffer\":0,\"fRetained\":true,\"fXsizeUser\":0,\"fYsizeUser\":0,\"fXsizeReal\":20,\"fYsizeReal\":15,\"fWindowTopX\":0,\"fWindowTopY\":0,\"fWindowWidth\":0,\"fWindowHeight\":0,\"fCw\":796,\"fCh\":572,\"fCatt\":{\"_typename\":\"TAttCanvas\",\"fXBetween\":2,\"fYBetween\":2,\"fTitleFromTop\":1.2,\"fXdate\":0.2,\"fYdate\":0.3,\"fAdate\":1},\"kMoveOpaque\":true,\"kResizeOpaque\":true,\"fHighLightColor\":2,\"fBatch\":true,\"kShowEventStatus\":false,\"kAutoExec\":true,\"kMenuBar\":true});\n",
       "   Core.settings.HandleKeys = false;\n",
       "   Core.draw(\"root_plot_1635313143846\", obj, \"\");\n",
       "}\n",
       "\n",
       "function script_load_root_plot_1635313143846(src, on_error) {\n",
       "    let script = document.createElement('script');\n",
       "    script.src = src;\n",
       "    script.onload = function() { display_root_plot_1635313143846(JSROOT); };\n",
       "    script.onerror = function() { script.remove(); on_error(); };\n",
       "    document.head.appendChild(script);\n",
       "}\n",
       "\n",
       "if (typeof requirejs !== 'undefined') {\n",
       "\n",
       "    // We are in jupyter notebooks, use require.js which should be configured already\n",
       "    requirejs.config({\n",
       "       paths: { 'JSRootCore' : [ 'scripts/JSRoot.core', 'https://root.cern/js/6.1.1/scripts/JSRoot.core.min', 'https://jsroot.gsi.de/6.1.1/scripts/JSRoot.core.min' ] }\n",
       "    })(['JSRootCore'],  function(Core) {\n",
       "       display_root_plot_1635313143846(Core);\n",
       "    });\n",
       "\n",
       "} else if (typeof JSROOT !== 'undefined') {\n",
       "\n",
       "   // JSROOT already loaded, just use it\n",
       "   display_root_plot_1635313143846(JSROOT);\n",
       "\n",
       "} else {\n",
       "\n",
       "    // We are in jupyterlab without require.js, directly loading jsroot\n",
       "    // Jupyterlab might be installed in a different base_url so we need to know it.\n",
       "    try {\n",
       "        var base_url = JSON.parse(document.getElementById('jupyter-config-data').innerHTML).baseUrl;\n",
       "    } catch(_) {\n",
       "        var base_url = '/';\n",
       "    }\n",
       "\n",
       "    // Try loading a local version of requirejs and fallback to cdn if not possible.\n",
       "    script_load_root_plot_1635313143846(base_url + 'static/scripts/JSRoot.core.js', function(){\n",
       "        console.error('Fail to load JSROOT locally, please check your jupyter_notebook_config.py file');\n",
       "        script_load_root_plot_1635313143846('https://root.cern/js/6.1.1/scripts/JSRoot.core.min.js', function(){\n",
       "            document.getElementById(\"root_plot_1635313143846\").innerHTML = \"Failed to load JSROOT\";\n",
       "        });\n",
       "    });\n",
       "}\n",
       "\n",
       "</script>\n"
      ],
      "text/plain": [
       "<IPython.core.display.HTML object>"
      ]
     },
     "metadata": {},
     "output_type": "display_data"
    }
   ],
   "source": [
    "xmin = 2420\n",
    "xmax = 2510\n",
    "ROOT.gStyle.SetOptStat(0) #Entfernen HistLegende\n",
    "\n",
    "#Erstellen Fitfunktion: linBG + Gauss + Gauss\n",
    "f1 = ROOT.TF1('f1','[0] + x*[1] + [3] * exp(-(x - [4])^2/(2*[2]*[2]))+ [5] * exp(-(x - [7])^2/(2*[6]*[6]))', xmin, xmax) #Fitfunktion\n",
    "f1.SetParameter(4, 2468) #Parameter für Gauss Tendenz setzen Mean\n",
    "f1.SetParameter(3,1) #Parameter für Gauss Tendenz setzen existenz\n",
    "f1.SetParameter(5,1) #existenz Gauss2\n",
    "f1.SetParameter(7, 2468) #Mean Gauss2\n",
    "\n",
    "#Erstellen und Füllen der Histogramme\n",
    "h1 = ROOT.TH1F(\"h1\", \"Kombination der Teilchen\", 100, xmin, xmax) #Hist mit Cut\n",
    "h2 = ROOT.TH1F(\"h2\", \"Kombination der Teilchen\", 100, xmin, xmax) #Hist ohn Cut\n",
    "tree1.Draw(\"lab1_M>>h1\",cut10) #Füllen Hist mit Cut\n",
    "tree1.Draw(\"lab1_M>>h2\") #Füllen Hist ohne Cut\n",
    "c1 = ROOT.TCanvas(\"myCanvasName\",\"Titel\",800,600) #Erstellen Canvas\n",
    "h2.SetLineColor(ROOT.kRed)\n",
    "h2.Draw(\"MIN0\") #Hist oC zeichnen (y-Achse ab 0)\n",
    "h1.Draw(\"same\") #Hist mC zeichnen in gleiches TCanvas\n",
    "\n",
    "#erste Fits, Fitparameter für Integrale nehmen\n",
    "f1.SetLineColor(ROOT.kBlue-6)\n",
    "h1.Fit(\"f1\",\"RQ\") #Hist mC fitten\n",
    "p10 = f1.GetParameter(\"p0\") #getParForBG#Y-Intersect\n",
    "p11 = f1.GetParameter(\"p1\") #GetParForBG#slope\n",
    "p22 = f1.GetParameter(\"p2\") #GetParForSignal #sigma\n",
    "p23 = f1.GetParameter(\"p3\") #Signal\n",
    "p24 = f1.GetParameter(\"p4\") #Signal #Mean\n",
    "p25 = f1.GetParameter(\"p5\") #Signal \n",
    "p26 = f1.GetParameter(\"p6\") #Signal #sigma\n",
    "p27 = f1.GetParameter(\"p7\") #Signal #mean\n",
    "\n",
    "#print(\"Steigung Background mit Cut: \", p11) #SlopeOfBGCUt\n",
    "#print(\"Achsenabschnitt Background mit Cut: \", p10) #Y-IntersectOfBGCut\n",
    "#print(\" \") #Space\n",
    "\n",
    "#Bestimmen der Funktione für Integrale, kosmetische Anpassungen Fits\n",
    "f21 = ROOT.TF1(\"f21\", \"{p10}+x*{p11}\".format(p10=p10, p11=p11), 0, xmax) #BGFunctionCut\n",
    "f21.SetLineColor(1) #BGCut\n",
    "f21.SetLineStyle(4) #BGCut\n",
    "f21.Draw(\"same\") #Draw BGCut\n",
    "f22 = ROOT.TF1(\"f22\", \"{p23} * exp(-(x - {p24})^2/(2*{p22}*{p22}))+ {p25} * exp(-(x - {p27})^2/(2*{p26}*{p26}))\".format(p22=p22,p23=p23,p24=p24,p25=p25,p26=p26,p27=p27), xmin,xmax) #only SignalPeak Fit\n",
    "f23 = ROOT.TF1(\"f23\", \"{p10}+x*{p11} +{p23} * exp(-(x - {p24})^2/(2*{p22}*{p22}))+ {p25} * exp(-(x - {p27})^2/(2*{p26}*{p26}))\".format(p10=p10,p11=p11,p22=p22,p23=p23,p24=p24,p25=p25,p26=p26,p27=p27), xmin,xmax)\n",
    "f22.SetLineColor(ROOT.kBlue+2)\n",
    "f22.SetLineWidth(3)\n",
    "f22.Draw(\"same\") #Draw SignalPeak\n",
    "SB = f23.Integral(p24 - 2 * abs(p22), p24 + 2 * abs(p22)) #integrate Sign+Bg in signalregion (mean+-2sigma)\n",
    "Signal = f22.Integral(p24 - 2*abs(p22), p24 + 2*abs(p22)) #integrate signal in signalregion (\"\")\n",
    "f23.SetLineColor(1)\n",
    "f23.SetLineStyle(4)\n",
    "f23.Draw(\"same\")\n",
    "#Bg = f21.Integral(xmin, xmax) #Integrate Background whole Dataset\n",
    "\n",
    "#Variablen für die\n",
    "Varianz = abs(p22)\n",
    "print(\"Signal:\", Signal)\n",
    "print(\"Signal + Untergrund:\", SB)\n",
    "Purity = math.sqrt(Signal/SB)\n",
    "print(\"Reinheit:\", Purity)\n",
    "print(\"Breite:\", Varianz)\n",
    "print(\" \")\n",
    "\n",
    "f1.SetParameter(4, 2468) #Parameter für Gauss Tendenz setzen Mean\n",
    "f1.SetParameter(3,1) #Parameter für Gauss Tendenz setzen existenz\n",
    "f1.SetParameter(5,1) #existenz Gauss2\n",
    "f1.SetParameter(7, 2468) #Mean Gauss2\n",
    "f1.SetLineColor(ROOT.kRed)\n",
    "h2.Fit(\"f1\",\"RQ\") #ursprünglicher Signal\n",
    "p0 = f1.GetParameter(\"p0\")\n",
    "p1 = f1.GetParameter(\"p1\")\n",
    "#print(\"Steigung Background ohne Cut: \", p1)\n",
    "#print(\"Achsenabschnitt Background ohne Cut: \", p0)\n",
    "#print(\" \")\n",
    "#print(\" \")\n",
    "f3 = ROOT.TF1(\"f3\", \"{p0}+x*{p1}\".format(p0=p0, p1=p1), 0, xmax) #ursprünglicher Background\n",
    "f3.SetLineColor(1) #ursprünglicher Background\n",
    "f3.SetLineStyle(4) #ursprünglicher Background\n",
    "f3.Draw(\"same\")\n",
    "%jsroot\n",
    "c1.Draw()\n",
    "h2.GetXaxis().SetTitle(\"m(p K^{-} #pi^{+}) [MeV]\")\n",
    "h2.GetYaxis().SetTitle(\"Eintr#ddot{a}ge pro 1.1MeV [1/1.1MeV]\")\n",
    "c1.SetLeftMargin(0.12)\n",
    "leg=ROOT.TLegend(0.8,0.7,0.99,0.99)\n",
    "leg.AddEntry(h2,\"Ungefilterte Daten\",\"l\")\n",
    "leg.AddEntry(h1,\"Gefilterte Daten\",\"l\")\n",
    "leg.AddEntry(f22,\"Signal\",\"l\")\n",
    "leg.Draw()"
   ]
  },
  {
   "cell_type": "markdown",
   "id": "5ba2eebb",
   "metadata": {},
   "source": [
    "### Plots Omega_c\n",
    "#### Anpassen Cuts mit Slider\n",
    "In der nächsten Zelle sollst Du zum ersten Mal selsbt arbeiten, hier beginnt die eigentliche Datenanalyse! Es kann zunächst einen kurzen Moment dauern, bis die Histogramme erstellt sind, aber dann kann es direkt losgehen. Mithilfe der Schieberegler können die einzelnen Cuts angepasst und so die Daten zugeschnitten werden. Eine Beschreibung, was welcher Cut bedeutet, findest du auf dem Aufgabenblatt.\n",
    "\n",
    "Am besten wartest Du immer kurz (5-10s) bis der zuletzt angewendete Cut von den Histogrammen übernommen wurde."
   ]
  },
  {
   "cell_type": "code",
   "execution_count": 9,
   "id": "90e5c9c0",
   "metadata": {
    "scrolled": false
   },
   "outputs": [
    {
     "data": {
      "application/vnd.jupyter.widget-view+json": {
       "model_id": "f57181f7fb024184b658c39808623754",
       "version_major": 2,
       "version_minor": 0
      },
      "text/plain": [
       "Canvas(toolbar=Toolbar(toolitems=[('Home', 'Reset original view', 'home', 'home'), ('Back', 'Back to previous …"
      ]
     },
     "metadata": {},
     "output_type": "display_data"
    },
    {
     "name": "stdout",
     "output_type": "stream",
     "text": [
      "Bedingung 2: Wahrscheinlichkeit, dass ein Teilchen ein Proton ist\n",
      "Bedingung 3: Qualität des Stoßparameters zwischen Teilchen und Kollisionspunkt\n",
      "Bedingung 4: Qualität der Flugdistanz bezüglich des Kollisionspunkts\n",
      "Bedingung 5: Qualität des Fits mit erwarteten Massenhypothesen (= DTF)\n",
      "Bedingung 6: Wahrscheinlichkeit, dass ein Teilchen ein Kaon ist\n",
      "Bedingung 7: Größe des Transversalimpulses\n",
      "Eine kurze Erinnerung: Ist der Slider auf der linken Seite, wird wenig eingeschränkt, rechts schränkt er stark ein.\n"
     ]
    },
    {
     "data": {
      "application/vnd.jupyter.widget-view+json": {
       "model_id": "84dfd297fb174bd483351c57fc592afa",
       "version_major": 2,
       "version_minor": 0
      },
      "text/plain": [
       "interactive(children=(FloatSlider(value=0.0, continuous_update=False, description='Bed.2 $P(p)$', max=1.0, ste…"
      ]
     },
     "metadata": {},
     "output_type": "display_data"
    }
   ],
   "source": [
    "%matplotlib widget\n",
    "\n",
    "df = df.assign(Xic= df[\"lab0_M\"] * 0 + 2467.89)\n",
    "gf = gf.assign(Xic= gf[\"lab0_M\"] * 0 + 2467.89)\n",
    "\n",
    "\n",
    "fig = plt.figure()\n",
    "fig.set_size_inches(10, 6)\n",
    "fig.canvas.header_visible = False\n",
    "\n",
    "ax = plt.subplot2grid((13,14),(1,1),colspan = 5, rowspan = 5)\n",
    "bx = plt.subplot2grid((13,14),(7,1),colspan = 5, rowspan = 5)\n",
    "cx = plt.subplot2grid((13,14),(1,7),colspan = 3, rowspan = 3)\n",
    "ex = plt.subplot2grid((13,14),(5,7),colspan = 3, rowspan = 3)\n",
    "gx = plt.subplot2grid((13,14),(9,7),colspan = 3, rowspan = 3)\n",
    "dx = plt.subplot2grid((13,14),(1,11),colspan = 3, rowspan = 3)\n",
    "fx = plt.subplot2grid((13,14),(5,11),colspan = 3, rowspan = 3)\n",
    "hx = plt.subplot2grid((13,14),(9,11),colspan = 3, rowspan = 3)\n",
    "\n",
    "\n",
    "plt.tight_layout()\n",
    "\n",
    "print(\"Bedingung 2: Wahrscheinlichkeit, dass ein Teilchen ein Proton ist\")\n",
    "print(\"Bedingung 3: Qualität des Stoßparameters zwischen Teilchen und Kollisionspunkt\")\n",
    "print(\"Bedingung 4: Qualität der Flugdistanz bezüglich des Kollisionspunkts\")\n",
    "print(\"Bedingung 5: Qualität des Fits mit erwarteten Massenhypothesen (= DTF)\")\n",
    "print(\"Bedingung 6: Wahrscheinlichkeit, dass ein Teilchen ein Kaon ist\")\n",
    "print(\"Bedingung 7: Größe des Transversalimpulses\")\n",
    "print(\"Eine kurze Erinnerung: Ist der Slider auf der linken Seite, wird wenig eingeschränkt, rechts schränkt er stark ein.\")\n",
    "\n",
    "@widgets.interact(Cut2=widgets.FloatSlider(min = 0, max = 1, step = 0.05, description = \"Bed.2 $P(p)$\",continuous_update = False), Cut3=widgets.FloatSlider(value=0,min = 0, max = 11, step = 0.1, description = \"Bed.3 $\\chi^2_{Stoß}$\",continuous_update = False), Cut4=widgets.IntSlider(min = 0, max = 500, step = 2, description = \"Bed.4 $\\chi^2_{Flug}$\",continuous_update = False),Cut5=widgets.FloatSlider(min = 0, max = 30, step = 0.1, description = \"Bed.5 $\\chi^2_{DTF}$\",continuous_update = False), Cut6=widgets.FloatSlider(value=0,min = 0, max = 1, step = 0.01, description = \"Bed.6 $P(K^-)$\",continuous_update = False), Cut7=widgets.IntSlider(min = 0, max = 10000, step = 20, description = \"Bed.7 $p_T$\",continuous_update = False))\n",
    "def update(Cut2=0, Cut3=0, Cut4=0, Cut5=0, Cut6=0, Cut7=0):\n",
    "    ax.cla()\n",
    "    bx.cla()\n",
    "    cx.cla()\n",
    "    dx.cla()\n",
    "    ex.cla()\n",
    "    fx.cla()\n",
    "    gx.cla()\n",
    "    hx.cla()\n",
    "\n",
    "    \n",
    "    ax.set_title(\"Kombination $\\Xi_c^+$ mit $K^-$\")\n",
    "    ax.set_ylabel(\"Einträge pro 2.2MeV [$1/2.2MeV$]\")\n",
    "    ax.set_xlabel(\"$m(\\Xi_c^+ K^-)$ [$MeV$]\")\n",
    "    \n",
    "    bx.set_title(\"Kombination $\\Xi_c^+$ mit $K^+$\")\n",
    "    bx.set_ylabel(\"Einträge pro 2.2MeV [$1/2.2MeV$]\")\n",
    "    bx.set_xlabel(\"$m(\\Xi_c^+ K^+)$ [$MeV$]\")\n",
    "    \n",
    "    cx.set_title(\"\")\n",
    "    cx.set_ylabel(\"Einträge\")\n",
    "    cx.set_xlabel(\"Bedingung 2: Proton\")\n",
    "    \n",
    "    dx.set_title(\"\")\n",
    "    dx.set_ylabel(\"Einträge\")\n",
    "    dx.set_xlabel(\"Bedingung 3: Stoßparameter\")\n",
    "    dx.set_yscale(\"log\")\n",
    "    \n",
    "    ex.set_title(\"\")\n",
    "    ex.set_ylabel(\"Einträge\")\n",
    "    ex.set_xlabel(\"Bedingung 4: Flugdistanz\")\n",
    "\n",
    "    fx.set_title(\"\")\n",
    "    fx.set_ylabel(\"Einträge\")\n",
    "    fx.set_xlabel(\"Bedingung 5: Qualität DTF####\")\n",
    "\n",
    "    gx.set_title(\"\")\n",
    "    gx.set_ylabel(\"Einträge\")\n",
    "    gx.set_xlabel(\"Bedingung 6: Kaon\")\n",
    "    \n",
    "    hx.set_title(\"\")\n",
    "    hx.set_ylabel(\"Einträge\")\n",
    "    hx.set_xlabel(\"Bedingung 7: $p_T$\")\n",
    "        \n",
    "    ax.hist(df[\"lab0_M\"]-df[\"lab1_M\"]+df[\"Xic\"][df[\"lab2_ProbNNp\"]>Cut2][df[\"lab1_IPCHI2_OWNPV\"]<(11-Cut3)][df[\"lab1_FDCHI2_OWNPV\"]>Cut4][df[\"lab0_CHI2NDOF_DTF_Xic\"]<(30-Cut5)][df[\"lab3_ProbNNk\"]>Cut6][df[\"lab0_PT\"]>Cut7], bins=100, range =(2980,3150), color = \"green\")\n",
    "    bx.hist(gf[\"lab0_M\"]-gf[\"lab1_M\"]+gf[\"Xic\"][gf[\"lab2_ProbNNp\"]>Cut2][gf[\"lab1_IPCHI2_OWNPV\"]<(11-Cut3)][gf[\"lab1_FDCHI2_OWNPV\"]>Cut4][gf[\"lab0_CHI2NDOF_DTF_Xic\"]<(30-Cut5)][gf[\"lab3_ProbNNk\"]>Cut6][gf[\"lab0_PT\"]>Cut7], bins=100, range =(2980,3150), color = \"darkgreen\")\n",
    "    cx.hist(df[\"lab2_ProbNNp\"][df[\"lab2_ProbNNp\"]>Cut2], bins=100, range =(0,1))\n",
    "    dx.hist(df[\"lab1_IPCHI2_OWNPV\"][df[\"lab1_IPCHI2_OWNPV\"]<(11-Cut3)], bins=100, range =(0,11))\n",
    "    ex.hist(df[\"lab1_FDCHI2_OWNPV\"][df[\"lab1_FDCHI2_OWNPV\"]>Cut4], bins=100, range =(0,500))\n",
    "    fx.hist(df[\"lab0_CHI2NDOF_DTF_Xic\"][df[\"lab0_CHI2NDOF_DTF_Xic\"]<(30-Cut5)], bins=100, range =(0,30))\n",
    "    gx.hist(df[\"lab3_ProbNNk\"][df[\"lab3_ProbNNk\"]>Cut6], bins=100, range =(0,1))\n",
    "    hx.hist(df[\"lab0_PT\"][df[\"lab0_PT\"]>Cut7], bins=100, range =(0,20000))"
   ]
  },
  {
   "cell_type": "markdown",
   "id": "e1507f5d",
   "metadata": {},
   "source": [
    "### Plot for Xi_c\n",
    "#### Read value in ROOT\n",
    "Die nächste Zelle fordert Dich auf, die Werte für die Cuts anzugeben, die Du in dem vorherigen Teil mit den Schiebereglern erörtert hast.\n",
    "\n",
    "Als nächstes wird dann ein anderes Histogramm erzeugt, was nur das Spektrum von Xi_c zeigt. In diesem kannst Du Dir mit dem Mauszeiger Werte anzeigen lassen, indem Du den Mauszeiger an die Stelle in das Histogramm bewegst, von der Du den Wert wissen möchtest. Zusätzlich wird dir ein Bereich an der X-Achse angezeigt, sodass Du besser ablesen kannst."
   ]
  },
  {
   "cell_type": "code",
   "execution_count": 11,
   "id": "97dc830d",
   "metadata": {
    "scrolled": false
   },
   "outputs": [
    {
     "name": "stderr",
     "output_type": "stream",
     "text": [
      "Warning in <TFile::Append>: Replacing existing TH1: h2 (Potential memory leak).\n",
      "Warning in <TFile::Append>: Replacing existing TH1: h3 (Potential memory leak).\n",
      "Warning in <TCanvas::Constructor>: Deleting canvas with same name: myCanvasName2\n"
     ]
    },
    {
     "data": {
      "text/html": [
       "\n",
       "\n",
       "<div id=\"root_plot_1635234148629\"\n",
       "     style=\"width: 796px; height: 572px\">\n",
       "</div>\n",
       "<script>\n",
       "\n",
       "function display_root_plot_1635234148629(Core) {\n",
       "   let obj = Core.parse({\"_typename\":\"TCanvas\",\"fUniqueID\":0,\"fBits\":3342344,\"fLineColor\":1,\"fLineStyle\":1,\"fLineWidth\":1,\"fFillColor\":0,\"fFillStyle\":1001,\"fLeftMargin\":0.1,\"fRightMargin\":0.1,\"fBottomMargin\":0.1,\"fTopMargin\":0.1,\"fXfile\":2,\"fYfile\":2,\"fAfile\":1,\"fXstat\":0.99,\"fYstat\":0.99,\"fAstat\":2,\"fFrameFillColor\":0,\"fFrameLineColor\":1,\"fFrameFillStyle\":1001,\"fFrameLineStyle\":1,\"fFrameLineWidth\":1,\"fFrameBorderSize\":1,\"fFrameBorderMode\":0,\"fX1\":2952.49999795109,\"fY1\":-97.3875072559346,\"fX2\":3227.50000204891,\"fY2\":876.487507255935,\"fXtoAbsPixelk\":-8546.1452712673,\"fXtoPixelk\":-8546.1452712673,\"fXtoPixel\":2.89454541141337,\"fYtoAbsPixelk\":514.800046590614,\"fYtoPixelk\":514.800046590614,\"fYtoPixel\":-0.587344362958835,\"fUtoAbsPixelk\":5e-5,\"fUtoPixelk\":5e-5,\"fUtoPixel\":796,\"fVtoAbsPixelk\":572.00005,\"fVtoPixelk\":572,\"fVtoPixel\":-572,\"fAbsPixeltoXk\":2952.49999795109,\"fPixeltoXk\":2952.49999795109,\"fPixeltoX\":0.345477392082688,\"fAbsPixeltoYk\":876.487507255935,\"fPixeltoYk\":-97.3875072559346,\"fPixeltoY\":-1.70257869669907,\"fXlowNDC\":0,\"fYlowNDC\":0,\"fXUpNDC\":1,\"fYUpNDC\":1,\"fWNDC\":1,\"fHNDC\":1,\"fAbsXlowNDC\":0,\"fAbsYlowNDC\":0,\"fAbsWNDC\":1,\"fAbsHNDC\":1,\"fUxmin\":2980,\"fUymin\":0,\"fUxmax\":3200,\"fUymax\":779.1,\"fTheta\":30,\"fPhi\":30,\"fAspectRatio\":0,\"fNumber\":0,\"fTickx\":0,\"fTicky\":0,\"fLogx\":0,\"fLogy\":0,\"fLogz\":0,\"fPadPaint\":0,\"fCrosshair\":0,\"fCrosshairPos\":0,\"fBorderSize\":2,\"fBorderMode\":0,\"fModified\":true,\"fGridx\":false,\"fGridy\":false,\"fAbsCoord\":false,\"fEditable\":true,\"fFixedAspectRatio\":false,\"fPrimitives\":{\"_typename\":\"TList\",\"name\":\"TList\",\"arr\":[{\"_typename\":\"TFrame\",\"fUniqueID\":0,\"fBits\":8,\"fLineColor\":1,\"fLineStyle\":1,\"fLineWidth\":1,\"fFillColor\":0,\"fFillStyle\":1001,\"fX1\":2980,\"fY1\":0,\"fX2\":3200,\"fY2\":779.1,\"fBorderSize\":1,\"fBorderMode\":0},{\"_typename\":\"TH1F\",\"fUniqueID\":0,\"fBits\":520,\"fName\":\"h2\",\"fTitle\":\"Kombination #Xi_{c}^{+} mit K^{#pm}\",\"fLineColor\":602,\"fLineStyle\":1,\"fLineWidth\":2,\"fFillColor\":0,\"fFillStyle\":1001,\"fMarkerColor\":1,\"fMarkerStyle\":1,\"fMarkerSize\":1,\"fNcells\":102,\"fXaxis\":{\"_typename\":\"TAxis\",\"fUniqueID\":0,\"fBits\":0,\"fName\":\"xaxis\",\"fTitle\":\"m(#Xi_{c}^{+} K^{#pm}) [MeV]\",\"fNdivisions\":510,\"fAxisColor\":1,\"fLabelColor\":1,\"fLabelFont\":42,\"fLabelOffset\":0.005,\"fLabelSize\":0.035,\"fTickLength\":0.03,\"fTitleOffset\":1,\"fTitleSize\":0.035,\"fTitleColor\":1,\"fTitleFont\":42,\"fNbins\":100,\"fXmin\":2980,\"fXmax\":3200,\"fXbins\":[],\"fFirst\":0,\"fLast\":0,\"fBits2\":0,\"fTimeDisplay\":false,\"fTimeFormat\":\"\",\"fLabels\":null,\"fModLabs\":null},\"fYaxis\":{\"_typename\":\"TAxis\",\"fUniqueID\":0,\"fBits\":0,\"fName\":\"yaxis\",\"fTitle\":\"Eintr#ddot{a}ge pro 2.2MeV\",\"fNdivisions\":510,\"fAxisColor\":1,\"fLabelColor\":1,\"fLabelFont\":42,\"fLabelOffset\":0.005,\"fLabelSize\":0.035,\"fTickLength\":0.03,\"fTitleOffset\":0,\"fTitleSize\":0.035,\"fTitleColor\":1,\"fTitleFont\":42,\"fNbins\":1,\"fXmin\":0,\"fXmax\":1,\"fXbins\":[],\"fFirst\":0,\"fLast\":0,\"fBits2\":0,\"fTimeDisplay\":false,\"fTimeFormat\":\"\",\"fLabels\":null,\"fModLabs\":null},\"fZaxis\":{\"_typename\":\"TAxis\",\"fUniqueID\":0,\"fBits\":0,\"fName\":\"zaxis\",\"fTitle\":\"\",\"fNdivisions\":510,\"fAxisColor\":1,\"fLabelColor\":1,\"fLabelFont\":42,\"fLabelOffset\":0.005,\"fLabelSize\":0.035,\"fTickLength\":0.03,\"fTitleOffset\":1,\"fTitleSize\":0.035,\"fTitleColor\":1,\"fTitleFont\":42,\"fNbins\":1,\"fXmin\":0,\"fXmax\":1,\"fXbins\":[],\"fFirst\":0,\"fLast\":0,\"fBits2\":0,\"fTimeDisplay\":false,\"fTimeFormat\":\"\",\"fLabels\":null,\"fModLabs\":null},\"fBarOffset\":0,\"fBarWidth\":1000,\"fEntries\":131669,\"fTsumw\":55370,\"fTsumw2\":55370,\"fTsumwx\":171539842.475205,\"fTsumwx2\":531647243243.229,\"fMaximum\":-1111,\"fMinimum\":-1111,\"fNormFactor\":0,\"fContour\":[],\"fSumw2\":[],\"fOption\":\"\",\"fFunctions\":{\"_typename\":\"TList\",\"name\":\"TList\",\"arr\":[],\"opt\":[]},\"fBufferSize\":0,\"fBuffer\":[],\"fBinStatErrOpt\":0,\"fStatOverflows\":2,\"fArray\":[1997,327,293,329,339,325,402,375,437,464,561,464,443,386,461,434,432,443,462,469,407,441,436,447,461,475,478,468,479,441,513,518,689,682,531,527,581,552,643,742,658,639,564,551,574,529,553,623,592,644,655,691,678,618,612,570,552,587,546,620,617,571,617,679,669,650,572,579,541,575,546,566,630,598,619,615,575,561,605,593,596,604,602,639,616,586,626,576,614,624,638,646,617,602,618,584,616,662,651,620,642,74302]},{\"_typename\":\"TH1F\",\"fUniqueID\":0,\"fBits\":520,\"fName\":\"h3\",\"fTitle\":\"h3\",\"fLineColor\":2,\"fLineStyle\":1,\"fLineWidth\":2,\"fFillColor\":0,\"fFillStyle\":1001,\"fMarkerColor\":1,\"fMarkerStyle\":1,\"fMarkerSize\":1,\"fNcells\":102,\"fXaxis\":{\"_typename\":\"TAxis\",\"fUniqueID\":0,\"fBits\":0,\"fName\":\"xaxis\",\"fTitle\":\"\",\"fNdivisions\":510,\"fAxisColor\":1,\"fLabelColor\":1,\"fLabelFont\":42,\"fLabelOffset\":0.005,\"fLabelSize\":0.035,\"fTickLength\":0.03,\"fTitleOffset\":1,\"fTitleSize\":0.035,\"fTitleColor\":1,\"fTitleFont\":42,\"fNbins\":100,\"fXmin\":2980,\"fXmax\":3200,\"fXbins\":[],\"fFirst\":0,\"fLast\":0,\"fBits2\":0,\"fTimeDisplay\":false,\"fTimeFormat\":\"\",\"fLabels\":null,\"fModLabs\":null},\"fYaxis\":{\"_typename\":\"TAxis\",\"fUniqueID\":0,\"fBits\":0,\"fName\":\"yaxis\",\"fTitle\":\"\",\"fNdivisions\":510,\"fAxisColor\":1,\"fLabelColor\":1,\"fLabelFont\":42,\"fLabelOffset\":0.005,\"fLabelSize\":0.035,\"fTickLength\":0.03,\"fTitleOffset\":0,\"fTitleSize\":0.035,\"fTitleColor\":1,\"fTitleFont\":42,\"fNbins\":1,\"fXmin\":0,\"fXmax\":1,\"fXbins\":[],\"fFirst\":0,\"fLast\":0,\"fBits2\":0,\"fTimeDisplay\":false,\"fTimeFormat\":\"\",\"fLabels\":null,\"fModLabs\":null},\"fZaxis\":{\"_typename\":\"TAxis\",\"fUniqueID\":0,\"fBits\":0,\"fName\":\"zaxis\",\"fTitle\":\"\",\"fNdivisions\":510,\"fAxisColor\":1,\"fLabelColor\":1,\"fLabelFont\":42,\"fLabelOffset\":0.005,\"fLabelSize\":0.035,\"fTickLength\":0.03,\"fTitleOffset\":1,\"fTitleSize\":0.035,\"fTitleColor\":1,\"fTitleFont\":42,\"fNbins\":1,\"fXmin\":0,\"fXmax\":1,\"fXbins\":[],\"fFirst\":0,\"fLast\":0,\"fBits2\":0,\"fTimeDisplay\":false,\"fTimeFormat\":\"\",\"fLabels\":null,\"fModLabs\":null},\"fBarOffset\":0,\"fBarWidth\":1000,\"fEntries\":126903,\"fTsumw\":50806,\"fTsumw2\":50806,\"fTsumwx\":157570976.906786,\"fTsumwx2\":488883289842.555,\"fMaximum\":-1111,\"fMinimum\":-1111,\"fNormFactor\":0,\"fContour\":[],\"fSumw2\":[],\"fOption\":\"\",\"fFunctions\":{\"_typename\":\"TList\",\"name\":\"TList\",\"arr\":[],\"opt\":[]},\"fBufferSize\":0,\"fBuffer\":[],\"fBinStatErrOpt\":0,\"fStatOverflows\":2,\"fArray\":[1509,251,256,314,334,272,339,315,329,325,317,366,361,370,361,393,400,429,398,432,391,483,434,411,418,459,466,448,431,474,536,461,509,470,495,436,533,513,493,486,487,516,528,517,526,505,517,506,525,552,549,522,554,548,519,517,560,549,519,556,555,515,586,565,543,598,576,583,574,568,564,581,590,606,596,593,563,595,586,614,562,620,576,580,623,603,588,583,596,622,622,598,638,621,592,637,594,635,648,621,615,74588]},{\"_typename\":\"TPaveText\",\"fUniqueID\":0,\"fBits\":9,\"fLineColor\":1,\"fLineStyle\":1,\"fLineWidth\":1,\"fFillColor\":0,\"fFillStyle\":0,\"fX1\":3033.7010041862,\"fY1\":802.152926001851,\"fX2\":3146.29899581379,\"fY2\":871.618136827173,\"fX1NDC\":0.295276381909548,\"fY1NDC\":0.9236713334397,\"fX2NDC\":0.704723618090452,\"fY2NDC\":0.995000004768372,\"fBorderSize\":0,\"fInit\":1,\"fShadowColor\":1,\"fCornerRadius\":0,\"fOption\":\"blNDC\",\"fName\":\"title\",\"fTextAngle\":0,\"fTextSize\":0,\"fTextAlign\":22,\"fTextColor\":1,\"fTextFont\":42,\"fLabel\":\"\",\"fLongest\":35,\"fMargin\":0.05,\"fLines\":{\"_typename\":\"TList\",\"name\":\"TList\",\"arr\":[{\"_typename\":\"TLatex\",\"fUniqueID\":0,\"fBits\":0,\"fName\":\"\",\"fTitle\":\"Kombination #Xi_{c}^{+} mit K^{#pm}\",\"fTextAngle\":0,\"fTextSize\":0,\"fTextAlign\":0,\"fTextColor\":0,\"fTextFont\":0,\"fX\":0,\"fY\":0,\"fLineColor\":1,\"fLineStyle\":1,\"fLineWidth\":2,\"fLimitFactorSize\":3,\"fOriginSize\":0.0606293715536594}],\"opt\":[\"\"]}},{\"_typename\":\"TLegend\",\"fUniqueID\":0,\"fBits\":8,\"fLineColor\":1,\"fLineStyle\":1,\"fLineWidth\":1,\"fFillColor\":0,\"fFillStyle\":1001,\"fX1\":0.85,\"fY1\":0.8,\"fX2\":0.99,\"fY2\":0.99,\"fX1NDC\":0,\"fY1NDC\":0,\"fX2NDC\":0,\"fY2NDC\":0,\"fBorderSize\":1,\"fInit\":0,\"fShadowColor\":1,\"fCornerRadius\":0,\"fOption\":\"brNDC\",\"fName\":\"TPave\",\"fTextAngle\":0,\"fTextSize\":0,\"fTextAlign\":12,\"fTextColor\":1,\"fTextFont\":42,\"fPrimitives\":{\"_typename\":\"TList\",\"name\":\"TList\",\"arr\":[{\"_typename\":\"TLegendEntry\",\"fUniqueID\":0,\"fBits\":0,\"fTextAngle\":0,\"fTextSize\":0,\"fTextAlign\":0,\"fTextColor\":0,\"fTextFont\":0,\"fLineColor\":1,\"fLineStyle\":1,\"fLineWidth\":1,\"fFillColor\":0,\"fFillStyle\":0,\"fMarkerColor\":1,\"fMarkerStyle\":21,\"fMarkerSize\":1,\"fObject\":{\"$ref\":3},\"fLabel\":\"#Xi_{c}^{+} K^{-}\",\"fOption\":\"l\"},{\"_typename\":\"TLegendEntry\",\"fUniqueID\":0,\"fBits\":0,\"fTextAngle\":0,\"fTextSize\":0,\"fTextAlign\":0,\"fTextColor\":0,\"fTextFont\":0,\"fLineColor\":1,\"fLineStyle\":1,\"fLineWidth\":1,\"fFillColor\":0,\"fFillStyle\":0,\"fMarkerColor\":1,\"fMarkerStyle\":21,\"fMarkerSize\":1,\"fObject\":{\"$ref\":8},\"fLabel\":\"#Xi_{c}^{+} K^{+}\",\"fOption\":\"l\"}],\"opt\":[\"l\",\"l\"]},\"fEntrySeparation\":0.1,\"fMargin\":0.25,\"fNColumns\":1,\"fColumnSeparation\":0},{\"_typename\":\"TStyle\",\"fUniqueID\":0,\"fBits\":0,\"fName\":\"Modern\",\"fTitle\":\"Modern Style\",\"fLineColor\":1,\"fLineStyle\":1,\"fLineWidth\":1,\"fFillColor\":19,\"fFillStyle\":1001,\"fMarkerColor\":1,\"fMarkerStyle\":1,\"fMarkerSize\":1,\"fTextAngle\":0,\"fTextSize\":0.05,\"fTextAlign\":11,\"fTextColor\":1,\"fTextFont\":62,\"fXaxis\":{\"_typename\":\"TAttAxis\",\"fNdivisions\":510,\"fAxisColor\":1,\"fLabelColor\":1,\"fLabelFont\":42,\"fLabelOffset\":0.005,\"fLabelSize\":0.035,\"fTickLength\":0.03,\"fTitleOffset\":1,\"fTitleSize\":0.035,\"fTitleColor\":1,\"fTitleFont\":42},\"fYaxis\":{\"_typename\":\"TAttAxis\",\"fNdivisions\":510,\"fAxisColor\":1,\"fLabelColor\":1,\"fLabelFont\":42,\"fLabelOffset\":0.005,\"fLabelSize\":0.035,\"fTickLength\":0.03,\"fTitleOffset\":0,\"fTitleSize\":0.035,\"fTitleColor\":1,\"fTitleFont\":42},\"fZaxis\":{\"_typename\":\"TAttAxis\",\"fNdivisions\":510,\"fAxisColor\":1,\"fLabelColor\":1,\"fLabelFont\":42,\"fLabelOffset\":0.005,\"fLabelSize\":0.035,\"fTickLength\":0.03,\"fTitleOffset\":1,\"fTitleSize\":0.035,\"fTitleColor\":1,\"fTitleFont\":42},\"fBarWidth\":1,\"fBarOffset\":0,\"fColorModelPS\":0,\"fDrawBorder\":0,\"fOptLogx\":0,\"fOptLogy\":0,\"fOptLogz\":0,\"fOptDate\":0,\"fOptStat\":0,\"fOptTitle\":1,\"fOptFile\":0,\"fOptFit\":0,\"fShowEventStatus\":0,\"fShowEditor\":0,\"fShowToolBar\":0,\"fNumberContours\":20,\"fAttDate\":{\"_typename\":\"TAttText\",\"fTextAngle\":0,\"fTextSize\":0.025,\"fTextAlign\":11,\"fTextColor\":1,\"fTextFont\":62},\"fDateX\":0.01,\"fDateY\":0.01,\"fEndErrorSize\":2,\"fErrorX\":0.5,\"fFuncColor\":2,\"fFuncStyle\":1,\"fFuncWidth\":2,\"fGridColor\":0,\"fGridStyle\":3,\"fGridWidth\":1,\"fLegendBorderSize\":1,\"fLegendFillColor\":0,\"fLegendFont\":42,\"fLegendTextSize\":0,\"fHatchesLineWidth\":1,\"fHatchesSpacing\":1,\"fFrameFillColor\":0,\"fFrameLineColor\":1,\"fFrameFillStyle\":1001,\"fFrameLineStyle\":1,\"fFrameLineWidth\":1,\"fFrameBorderSize\":1,\"fFrameBorderMode\":0,\"fHistFillColor\":0,\"fHistLineColor\":602,\"fHistFillStyle\":1001,\"fHistLineStyle\":1,\"fHistLineWidth\":1,\"fHistMinimumZero\":false,\"fHistTopMargin\":0.05,\"fCanvasPreferGL\":false,\"fCanvasColor\":0,\"fCanvasBorderSize\":2,\"fCanvasBorderMode\":0,\"fCanvasDefH\":500,\"fCanvasDefW\":700,\"fCanvasDefX\":10,\"fCanvasDefY\":10,\"fPadColor\":0,\"fPadBorderSize\":2,\"fPadBorderMode\":0,\"fPadBottomMargin\":0.1,\"fPadTopMargin\":0.1,\"fPadLeftMargin\":0.1,\"fPadRightMargin\":0.1,\"fPadGridX\":false,\"fPadGridY\":false,\"fPadTickX\":0,\"fPadTickY\":0,\"fPaperSizeX\":20,\"fPaperSizeY\":26,\"fScreenFactor\":1,\"fStatColor\":0,\"fStatTextColor\":1,\"fStatBorderSize\":1,\"fStatFont\":42,\"fStatFontSize\":0,\"fStatStyle\":1001,\"fStatFormat\":\"6.4g\",\"fStatX\":0.98,\"fStatY\":0.935,\"fStatW\":0.2,\"fStatH\":0.16,\"fStripDecimals\":true,\"fTitleAlign\":23,\"fTitleColor\":0,\"fTitleTextColor\":1,\"fTitleBorderSize\":0,\"fTitleFont\":42,\"fTitleFontSize\":0.05,\"fTitleStyle\":0,\"fTitleX\":0.5,\"fTitleY\":0.995,\"fTitleW\":0,\"fTitleH\":0,\"fLegoInnerR\":0.5,\"fLineStyle\":[\"\",\"  \",\" 12 12\",\" 4 8\",\" 12 16 4 16\",\" 20 12 4 12\",\" 20 12 4 12 4 12 4 12\",\" 20 20\",\" 20 12 4 12 4 12\",\" 80 20\",\" 80 40 4 40\",\"  \",\"  \",\"  \",\"  \",\"  \",\"  \",\"  \",\"  \",\"  \",\"  \",\"  \",\"  \",\"  \",\"  \",\"  \",\"  \",\"  \",\"  \",\"  \"],\"fHeaderPS\":\"\",\"fTitlePS\":\"\",\"fFitFormat\":\"5.4g\",\"fPaintTextFormat\":\"g\",\"fLineScalePS\":3,\"fJoinLinePS\":0,\"fCapLinePS\":0,\"fTimeOffset\":788918400,\"fImageScaling\":1}],\"opt\":[\"\",\"MIN0\",\"same\",\"blNDC\",\"\",\"\"]},\"fExecs\":null,\"fName\":\"myCanvasName2\",\"fTitle\":\"Titel2\",\"fNumPaletteColor\":0,\"fNextPaletteColor\":0,\"fDISPLAY\":\"$DISPLAY\",\"fDoubleBuffer\":0,\"fRetained\":true,\"fXsizeUser\":0,\"fYsizeUser\":0,\"fXsizeReal\":20,\"fYsizeReal\":15,\"fWindowTopX\":0,\"fWindowTopY\":0,\"fWindowWidth\":0,\"fWindowHeight\":0,\"fCw\":796,\"fCh\":572,\"fCatt\":{\"_typename\":\"TAttCanvas\",\"fXBetween\":2,\"fYBetween\":2,\"fTitleFromTop\":1.2,\"fXdate\":0.2,\"fYdate\":0.3,\"fAdate\":1},\"kMoveOpaque\":true,\"kResizeOpaque\":true,\"fHighLightColor\":2,\"fBatch\":true,\"kShowEventStatus\":false,\"kAutoExec\":true,\"kMenuBar\":true});\n",
       "   Core.settings.HandleKeys = false;\n",
       "   Core.draw(\"root_plot_1635234148629\", obj, \"\");\n",
       "}\n",
       "\n",
       "function script_load_root_plot_1635234148629(src, on_error) {\n",
       "    let script = document.createElement('script');\n",
       "    script.src = src;\n",
       "    script.onload = function() { display_root_plot_1635234148629(JSROOT); };\n",
       "    script.onerror = function() { script.remove(); on_error(); };\n",
       "    document.head.appendChild(script);\n",
       "}\n",
       "\n",
       "if (typeof requirejs !== 'undefined') {\n",
       "\n",
       "    // We are in jupyter notebooks, use require.js which should be configured already\n",
       "    requirejs.config({\n",
       "       paths: { 'JSRootCore' : [ 'scripts/JSRoot.core', 'https://root.cern/js/6.1.1/scripts/JSRoot.core.min', 'https://jsroot.gsi.de/6.1.1/scripts/JSRoot.core.min' ] }\n",
       "    })(['JSRootCore'],  function(Core) {\n",
       "       display_root_plot_1635234148629(Core);\n",
       "    });\n",
       "\n",
       "} else if (typeof JSROOT !== 'undefined') {\n",
       "\n",
       "   // JSROOT already loaded, just use it\n",
       "   display_root_plot_1635234148629(JSROOT);\n",
       "\n",
       "} else {\n",
       "\n",
       "    // We are in jupyterlab without require.js, directly loading jsroot\n",
       "    // Jupyterlab might be installed in a different base_url so we need to know it.\n",
       "    try {\n",
       "        var base_url = JSON.parse(document.getElementById('jupyter-config-data').innerHTML).baseUrl;\n",
       "    } catch(_) {\n",
       "        var base_url = '/';\n",
       "    }\n",
       "\n",
       "    // Try loading a local version of requirejs and fallback to cdn if not possible.\n",
       "    script_load_root_plot_1635234148629(base_url + 'static/scripts/JSRoot.core.js', function(){\n",
       "        console.error('Fail to load JSROOT locally, please check your jupyter_notebook_config.py file');\n",
       "        script_load_root_plot_1635234148629('https://root.cern/js/6.1.1/scripts/JSRoot.core.min.js', function(){\n",
       "            document.getElementById(\"root_plot_1635234148629\").innerHTML = \"Failed to load JSROOT\";\n",
       "        });\n",
       "    });\n",
       "}\n",
       "\n",
       "</script>\n"
      ],
      "text/plain": [
       "<IPython.core.display.HTML object>"
      ]
     },
     "metadata": {},
     "output_type": "display_data"
    }
   ],
   "source": [
    "ROOT.gStyle.SetOptStat(0) #Entfernen HistLegende\n",
    "\n",
    "#Hier die Cuts aus der ersten Teilaufgabe übernehmen\n",
    "cut12 = ROOT.TCut(\"lab2_ProbNNp>0.4\")\n",
    "cut13 = ROOT.TCut(\"log(lab1_IPCHI2_OWNPV)<3\")\n",
    "cut14 = ROOT.TCut(\"lab1_FDCHI2_OWNPV>100\")\n",
    "cut10 = ROOT.TCut(cut12+cut13+cut14)\n",
    "\n",
    "#Hier die Cuts aus der zweiten Teilaufgabe übernehmen\n",
    "cut21 = ROOT.TCut(\"lab0_CHI2NDOF_DTF_Xic<2\")\n",
    "cut22 = ROOT.TCut(\"lab3_ProbNNk>0.7\")\n",
    "cut23 = ROOT.TCut(\"lab0_PT>4500\")\n",
    "cut20 = ROOT.TCut(cut21+cut22+cut23)\n",
    "\n",
    "#Erstellen Hist, Kombinieren Hist\n",
    "h2 = ROOT.TH1F(\"h2\",\"Kombination #Xi_{c}^{+} mit K^{#pm}\",100,2980,3200)\n",
    "h3 = ROOT.TH1F(\"h3\",\"h3\",100,2980,3200)\n",
    "c2 = ROOT.TCanvas(\"myCanvasName2\",\"Titel2\",800,600)\n",
    "tree1.Draw(\"lab0_M-lab1_M+2467.89>>h2\",cut10+cut20)\n",
    "tree2.Draw(\"lab0_M-lab1_M+2467.89>>h3\",cut10+cut20)\n",
    "h2.SetLineWidth(2)\n",
    "h2.Draw(\"MIN0\")\n",
    "h3.SetLineColor(2)\n",
    "h3.SetLineWidth(2)\n",
    "h3.Draw(\"same\")\n",
    "%jsroot\n",
    "c2.Draw()\n",
    "h2.GetXaxis().SetTitle(\"m(#Xi_{c}^{+} K^{#pm}) [MeV]\")\n",
    "h2.GetYaxis().SetTitle(\"Eintr#ddot{a}ge pro 2.2MeV\")\n",
    "\n",
    "leg=ROOT.TLegend(0.85,0.8,0.99,0.99)\n",
    "leg.AddEntry(h2,\"#Xi_{c}^{+} K^{-}\",\"l\")\n",
    "leg.AddEntry(h3,\"#Xi_{c}^{+} K^{+}\",\"l\")\n",
    "leg.Draw()"
   ]
  },
  {
   "cell_type": "markdown",
   "id": "0a7d9b72",
   "metadata": {},
   "source": [
    "## Zusatz\n",
    "### Plots $\\Omega_c$ WS\n",
    "#### Anpassen Cuts mit Slider\n",
    "In der nächsten Zelle sollst Du zum ersten Mal selsbt arbeiten, hier beginnt die eigentliche Datenanalyse! Es kann zunächst einen kurzen Moment dauern, bis die Histogramme erstellt sind, aber dann kann es direkt losgehen. Mithilfe der Schieberegler können die einzelnen Cuts angepasst und so die Daten zugeschnitten werden. Eine Beschreibung, was welcher Cut bedeutet, findest du auf dem Aufgabenblatt.\n",
    "\n",
    "Am besten wartest Du immer kurz (5-10s) bis der zuletzt angewendete Cut von den Histogrammen übernommen wurde."
   ]
  },
  {
   "cell_type": "code",
   "execution_count": 14,
   "id": "ec972615",
   "metadata": {
    "scrolled": false
   },
   "outputs": [
    {
     "data": {
      "application/vnd.jupyter.widget-view+json": {
       "model_id": "6eba6502e92442b19ea788b8a06758ab",
       "version_major": 2,
       "version_minor": 0
      },
      "text/plain": [
       "Canvas(toolbar=Toolbar(toolitems=[('Home', 'Reset original view', 'home', 'home'), ('Back', 'Back to previous …"
      ]
     },
     "metadata": {},
     "output_type": "display_data"
    },
    {
     "data": {
      "application/vnd.jupyter.widget-view+json": {
       "model_id": "620eab43603e4c23b35dd347bfba1664",
       "version_major": 2,
       "version_minor": 0
      },
      "text/plain": [
       "interactive(children=(FloatSlider(value=0.0, description='Cut2', max=0.97, step=0.05), FloatSlider(value=11.0,…"
      ]
     },
     "metadata": {},
     "output_type": "display_data"
    }
   ],
   "source": [
    "%matplotlib widget\n",
    "\n",
    "gf = gf.assign(Xic= gf[\"lab0_M\"] * 0 + 2467.89)\n",
    "\n",
    "fig, ((ax, bx,cx),(dx,ex,fx),(gx,hx,ix)) = plt.subplots(3,3)\n",
    "fig.set_size_inches(16, 10)\n",
    "\n",
    "@widgets.interact(Cut2=(0,0.97, 0.05), Cut3=(0.1,11,0.1), Cut4=(0,1000,5), Cut5=(0,400000,500), Cut6=(0,30,0.25), Cut7=(0,1,0.05), Cut8=(0,20000,100))\n",
    "def update(Cut2=0, Cut3=11, Cut4=0, Cut5=0, Cut6=30, Cut7=0, Cut8=0):\n",
    "    ax.cla()\n",
    "    bx.cla()\n",
    "    cx.cla()\n",
    "    dx.cla()\n",
    "    ex.cla()\n",
    "    fx.cla()\n",
    "    gx.cla()\n",
    "    hx.cla()\n",
    "    ix.cla()\n",
    "    \n",
    "    ax.set_title(\"Masse Omega_c\")\n",
    "    ax.set_ylabel(\"Einträge\")\n",
    "    ax.set_xlabel(\"Masse in MeV\")\n",
    "    \n",
    "    bx.set_title(\"Masse Xi_c\")\n",
    "    bx.set_ylabel(\"Einträge\")\n",
    "    bx.set_xlabel(\"Masse in MeV\")\n",
    "    \n",
    "    cx.set_title(\"\")\n",
    "    cx.set_ylabel(\"Einträge\")\n",
    "    cx.set_xlabel(\"Wahrscheinlichkeit für Proton\")\n",
    "    \n",
    "    dx.set_title(\"\")\n",
    "    dx.set_ylabel(\"Einträge\")\n",
    "    dx.set_xlabel(\"impact parameter chi2 of Xic candidate with respect to the PV\")\n",
    "    dx.set_yscale(\"log\")\n",
    "    \n",
    "    ex.set_title(\"\")\n",
    "    ex.set_ylabel(\"Einträge\")\n",
    "    ex.set_xlabel(\"Flightdistance own PV lab1\")\n",
    "    \n",
    "    fx.set_title(\"\")\n",
    "    fx.set_ylabel(\"Einträge\")\n",
    "    fx.set_xlabel(\"Impuls lab1\")\n",
    "    \n",
    "    gx.set_title(\"\")\n",
    "    gx.set_ylabel(\"Einträge\")\n",
    "    gx.set_xlabel(\"lab0_CHI2NDOF_DTF_Xic\")\n",
    "\n",
    "    hx.set_title(\"\")\n",
    "    hx.set_ylabel(\"Einträge\")\n",
    "    hx.set_xlabel(\"Wahrscheinlichkeit für Kaon\")\n",
    "    \n",
    "    ix.set_title(\"\")\n",
    "    ix.set_ylabel(\"Einträge\")\n",
    "    ix.set_xlabel(\"Transversalimpuls für lab0\")\n",
    "        \n",
    "    ax.hist(gf[\"lab0_M\"]-gf[\"lab1_M\"]+gf[\"Xic\"][gf[\"lab2_ProbNNp\"]>Cut2][gf[\"lab1_IPCHI2_OWNPV\"]<Cut3][gf[\"lab1_FDCHI2_OWNPV\"]>Cut4][gf[\"lab1_P\"]>Cut5][gf[\"lab0_CHI2NDOF_DTF_Xic\"]<Cut6][gf[\"lab3_ProbNNk\"]>Cut7][gf[\"lab0_PT\"]>Cut8], bins=100, range =(2980,3150), color = \"green\")\n",
    "    bx.hist(gf[\"lab1_M\"][gf[\"lab2_ProbNNp\"]>Cut2][gf[\"lab1_IPCHI2_OWNPV\"]<Cut3][gf[\"lab1_FDCHI2_OWNPV\"]>Cut4][gf[\"lab1_P\"]>Cut5][gf[\"lab0_CHI2NDOF_DTF_Xic\"]<Cut6][gf[\"lab3_ProbNNk\"]>Cut7][gf[\"lab0_PT\"]>Cut8], bins=100, range =(2420,2510), color = \"darkorange\")\n",
    "    cx.hist(gf[\"lab2_ProbNNp\"][gf[\"lab2_ProbNNp\"]>Cut2], bins=100, range =(0,1))\n",
    "    dx.hist(gf[\"lab1_IPCHI2_OWNPV\"][gf[\"lab1_IPCHI2_OWNPV\"]<Cut3], bins=100, range =(0,11))\n",
    "    ex.hist(gf[\"lab1_FDCHI2_OWNPV\"][gf[\"lab1_FDCHI2_OWNPV\"]>Cut4], bins=100, range =(0,500))\n",
    "    fx.hist(gf[\"lab1_P\"][gf[\"lab1_P\"]>Cut5], bins=100, range =(0,300000))\n",
    "    gx.hist(gf[\"lab0_CHI2NDOF_DTF_Xic\"][gf[\"lab0_CHI2NDOF_DTF_Xic\"]<Cut6], bins=100, range =(0,30))\n",
    "    hx.hist(gf[\"lab3_ProbNNk\"][gf[\"lab3_ProbNNk\"]>Cut7], bins=100, range =(0,1))\n",
    "    ix.hist(gf[\"lab0_PT\"][gf[\"lab0_PT\"]>Cut8], bins=100, range =(0,20000))"
   ]
  },
  {
   "cell_type": "markdown",
   "id": "259eb20c",
   "metadata": {},
   "source": [
    "# Alte Zellen"
   ]
  },
  {
   "cell_type": "code",
   "execution_count": null,
   "id": "c6228e43",
   "metadata": {},
   "outputs": [],
   "source": [
    "#old Root DF\n",
    "\n",
    "df = ROOT.RDataFrame(\"DecayTree\",\"/eos/user/s/sharst/SWAN_projects/MasterclassTest/Data2_2015MU.root\")\n",
    "#df = ROOT.RDataFrame(\"DecayTree\",\"/eos/home/sharst/SWAN_projects/MasterclassTest/Daten.root\")"
   ]
  },
  {
   "cell_type": "code",
   "execution_count": null,
   "id": "5dce8405",
   "metadata": {},
   "outputs": [],
   "source": [
    "#old Xic Plots\n",
    "\n",
    "\n",
    "%matplotlib widget\n",
    "\n",
    "fig, ((ax,bx,cx),(dx,ex,fx)) = plt.subplots(2,3)\n",
    "fig.set_size_inches(15, 6)\n",
    "\n",
    "print (\"Cut 1: Wahrscheinlichkeit, dass ein detektiertes Teilchen ein Proton ist\")\n",
    "print (\"Cut 2: **EINFÜGEN**\")\n",
    "print (\"Cut 3: **EINFÜGEN**\")\n",
    "@widgets.interact(Cut1=(0,0.95, 0.05), Cut2=(0.1,3,0.1), Cut3=(0,500,10))\n",
    "def update(Cut1=0, Cut2=3, Cut3=0):\n",
    "    ax.cla()\n",
    "    bx.cla()\n",
    "    cx.cla()\n",
    "    dx.cla()\n",
    "    ex.cla()\n",
    "    fx.cla()\n",
    "    \n",
    "    ax.set_title(\"Masse Xi_c\")\n",
    "    ax.set_ylabel(\"Einträge\")\n",
    "    ax.set_xlabel(\"Masse in MeV\")\n",
    "    \n",
    "    bx.set_title(\"Cut1\")\n",
    "    bx.set_ylabel(\"Einträge\")\n",
    "    bx.set_xlabel(\"Wahrscheinlichkeit für Proton\")\n",
    "    \n",
    "    cx.set_title(\"Cut2\")\n",
    "    cx.set_ylabel(\"Einträge\")\n",
    "    cx.set_xlabel(\"****\")\n",
    "    cx.set_yscale(\"log\")\n",
    "    \n",
    "    dx.set_title(\"Cut3\")\n",
    "    dx.set_ylabel(\"Einträge\")\n",
    "    dx.set_xlabel(\"***\")\n",
    "    \n",
    "    ex.set_title(\"Cut4\")\n",
    "    ex.set_ylabel(\"Einträge\")\n",
    "    ex.set_xlabel(\"***\")\n",
    "    \n",
    "    fx.set_title(\"Cut5\")\n",
    "    fx.set_ylabel(\"Einträge\")\n",
    "    fx.set_xlabel(\"***\")\n",
    "    \n",
    "    npa = df.Filter(\"lab2_ProbNNp>{cut1}\".format(cut1=Cut1)).Filter(\"log(lab1_IPCHI2_OWNPV)<{cut2}\".format(cut2=Cut2)).Filter(\"lab1_FDCHI2_OWNPV>{cut3}\".format(cut3=Cut3)).AsNumpy()\n",
    "    ax.hist(npa[\"lab1_M\"], bins = 100, range = (2420,2510))\n",
    "    bx.hist(npa[\"lab2_ProbNNp\"], bins = 100, range = (0,1))\n",
    "    cx.hist(npa[\"lab1_IPCHI2_OWNPV\"], bins = 100, range = (0,20))\n",
    "    dx.hist(npa[\"lab1_FDCHI2_OWNPV\"], bins = 100, range = (0,450))\n",
    "    ex.hist(npa[\"lab2_ProbNNe\"], bins = 100, range = (0,1))\n",
    "    fx.hist(npa[\"lab1_P\"], bins = 100, range = (17000,350000))"
   ]
  },
  {
   "cell_type": "code",
   "execution_count": 24,
   "id": "25eaa0a0",
   "metadata": {},
   "outputs": [
    {
     "name": "stdout",
     "output_type": "stream",
     "text": [
      "Wert für Cut1 angeben: .4\n",
      "Wert für Cut2 angeben: 2.8\n",
      "Wert für Cut3 angeben: 140\n"
     ]
    },
    {
     "name": "stderr",
     "output_type": "stream",
     "text": [
      "Warning in <TCanvas::Constructor>: Deleting canvas with same name: myCanvasName\n"
     ]
    },
    {
     "data": {
      "text/html": [
       "\n",
       "\n",
       "<div id=\"root_plot_1634114456994\"\n",
       "     style=\"width: 796px; height: 572px\">\n",
       "</div>\n",
       "<script>\n",
       "if (typeof require !== 'undefined') {\n",
       "\n",
       "    // We are in jupyter notebooks, use require.js which should be configured already\n",
       "    require(['scripts/JSRoot.core'],\n",
       "        function(Core) {\n",
       "           display_root_plot_1634114456994(Core);\n",
       "        }\n",
       "    );\n",
       "\n",
       "} else if (typeof JSROOT !== 'undefined') {\n",
       "\n",
       "   // JSROOT already loaded, just use it\n",
       "   display_root_plot_1634114456994(JSROOT);\n",
       "\n",
       "} else {\n",
       "\n",
       "    // We are in jupyterlab without require.js, directly loading jsroot\n",
       "    // Jupyterlab might be installed in a different base_url so we need to know it.\n",
       "    try {\n",
       "        var base_url = JSON.parse(document.getElementById('jupyter-config-data').innerHTML).baseUrl;\n",
       "    } catch(_) {\n",
       "        var base_url = '/';\n",
       "    }\n",
       "\n",
       "    // Try loading a local version of requirejs and fallback to cdn if not possible.\n",
       "    script_load(base_url + 'static/scripts/JSRoot.core.js', script_success, function(){\n",
       "        console.error('Fail to load JSROOT locally, please check your jupyter_notebook_config.py file')\n",
       "        script_load('https://root.cern/js/5.9.0/scripts/JSRootCore.min.js', script_success, function(){\n",
       "            document.getElementById(\"root_plot_1634114456994\").innerHTML = \"Failed to load JSROOT\";\n",
       "        });\n",
       "    });\n",
       "}\n",
       "\n",
       "function script_load(src, on_load, on_error) {\n",
       "    var script = document.createElement('script');\n",
       "    script.src = src;\n",
       "    script.onload = on_load;\n",
       "    script.onerror = on_error;\n",
       "    document.head.appendChild(script);\n",
       "}\n",
       "\n",
       "function script_success() {\n",
       "   display_root_plot_1634114456994(JSROOT);\n",
       "}\n",
       "\n",
       "function display_root_plot_1634114456994(Core) {\n",
       "   var obj = Core.parse({\"_typename\":\"TCanvas\",\"fUniqueID\":0,\"fBits\":3342344,\"fLineColor\":1,\"fLineStyle\":1,\"fLineWidth\":1,\"fFillColor\":0,\"fFillStyle\":1001,\"fLeftMargin\":0.1,\"fRightMargin\":0.1,\"fBottomMargin\":0.1,\"fTopMargin\":0.1,\"fXfile\":2,\"fYfile\":2,\"fAfile\":1,\"fXstat\":0.99,\"fYstat\":0.99,\"fAstat\":2,\"fFrameFillColor\":0,\"fFrameLineColor\":1,\"fFrameFillStyle\":1001,\"fFrameLineStyle\":1,\"fFrameLineWidth\":1,\"fFrameBorderSize\":1,\"fFrameBorderMode\":0,\"fX1\":2408.74999916181,\"fY1\":32112.9748619578,\"fX2\":2521.25000083819,\"fY2\":92583.7226380422,\"fXtoAbsPixelk\":-17043.2441345497,\"fXtoPixelk\":-17043.2441345497,\"fXtoPixel\":7.07555545012156,\"fYtoAbsPixelk\":875.7605010706,\"fYtoPixelk\":875.7605010706,\"fYtoPixel\":-0.00945911901268435,\"fUtoAbsPixelk\":5e-5,\"fUtoPixelk\":5e-5,\"fUtoPixel\":796,\"fVtoAbsPixelk\":572.00005,\"fVtoPixelk\":572,\"fVtoPixel\":-572,\"fAbsPixeltoXk\":2408.74999916181,\"fPixeltoXk\":2408.74999916181,\"fPixeltoX\":0.141331660397463,\"fAbsPixeltoYk\":92583.7226380422,\"fPixeltoYk\":32112.9748619578,\"fPixeltoY\":-105.71809051763,\"fXlowNDC\":0,\"fYlowNDC\":0,\"fXUpNDC\":1,\"fYUpNDC\":1,\"fWNDC\":1,\"fHNDC\":1,\"fAbsXlowNDC\":0,\"fAbsYlowNDC\":0,\"fAbsWNDC\":1,\"fAbsHNDC\":1,\"fUxmin\":2420,\"fUymin\":38160.05,\"fUxmax\":2510,\"fUymax\":86536.6475,\"fTheta\":30,\"fPhi\":30,\"fAspectRatio\":0,\"fNumber\":0,\"fTickx\":0,\"fTicky\":0,\"fLogx\":0,\"fLogy\":0,\"fLogz\":0,\"fPadPaint\":0,\"fCrosshair\":0,\"fCrosshairPos\":0,\"fBorderSize\":2,\"fBorderMode\":0,\"fModified\":false,\"fGridx\":false,\"fGridy\":false,\"fAbsCoord\":false,\"fEditable\":true,\"fFixedAspectRatio\":false,\"fPrimitives\":{\"_typename\":\"TList\",\"name\":\"TList\",\"arr\":[{\"_typename\":\"TFrame\",\"fUniqueID\":0,\"fBits\":8,\"fLineColor\":1,\"fLineStyle\":1,\"fLineWidth\":1,\"fFillColor\":0,\"fFillStyle\":1001,\"fX1\":2420,\"fY1\":38160.05,\"fX2\":2510,\"fY2\":86536.6475,\"fBorderSize\":1,\"fBorderMode\":0},{\"_typename\":\"TH1F\",\"fUniqueID\":0,\"fBits\":8,\"fName\":\"h1\",\"fTitle\":\"Xi\",\"fLineColor\":602,\"fLineStyle\":1,\"fLineWidth\":1,\"fFillColor\":0,\"fFillStyle\":1001,\"fMarkerColor\":1,\"fMarkerStyle\":1,\"fMarkerSize\":1,\"fNcells\":102,\"fXaxis\":{\"_typename\":\"TAxis\",\"fUniqueID\":0,\"fBits\":0,\"fName\":\"xaxis\",\"fTitle\":\"X axis title\",\"fNdivisions\":510,\"fAxisColor\":1,\"fLabelColor\":1,\"fLabelFont\":42,\"fLabelOffset\":0.005,\"fLabelSize\":0.035,\"fTickLength\":0.03,\"fTitleOffset\":1,\"fTitleSize\":0.035,\"fTitleColor\":1,\"fTitleFont\":42,\"fNbins\":100,\"fXmin\":2420,\"fXmax\":2510,\"fXbins\":[],\"fFirst\":0,\"fLast\":0,\"fBits2\":0,\"fTimeDisplay\":false,\"fTimeFormat\":\"\",\"fLabels\":null,\"fModLabs\":null},\"fYaxis\":{\"_typename\":\"TAxis\",\"fUniqueID\":0,\"fBits\":0,\"fName\":\"yaxis\",\"fTitle\":\"Y axis title\",\"fNdivisions\":510,\"fAxisColor\":1,\"fLabelColor\":1,\"fLabelFont\":42,\"fLabelOffset\":0.005,\"fLabelSize\":0.035,\"fTickLength\":0.03,\"fTitleOffset\":0,\"fTitleSize\":0.035,\"fTitleColor\":1,\"fTitleFont\":42,\"fNbins\":1,\"fXmin\":0,\"fXmax\":1,\"fXbins\":[],\"fFirst\":0,\"fLast\":0,\"fBits2\":0,\"fTimeDisplay\":false,\"fTimeFormat\":\"\",\"fLabels\":null,\"fModLabs\":null},\"fZaxis\":{\"_typename\":\"TAxis\",\"fUniqueID\":0,\"fBits\":0,\"fName\":\"zaxis\",\"fTitle\":\"\",\"fNdivisions\":510,\"fAxisColor\":1,\"fLabelColor\":1,\"fLabelFont\":42,\"fLabelOffset\":0.005,\"fLabelSize\":0.035,\"fTickLength\":0.03,\"fTitleOffset\":1,\"fTitleSize\":0.035,\"fTitleColor\":1,\"fTitleFont\":42,\"fNbins\":1,\"fXmin\":0,\"fXmax\":1,\"fXbins\":[],\"fFirst\":0,\"fLast\":0,\"fBits2\":0,\"fTimeDisplay\":false,\"fTimeFormat\":\"\",\"fLabels\":null,\"fModLabs\":null},\"fBarOffset\":0,\"fBarWidth\":1000,\"fEntries\":6044950,\"fTsumw\":5099966,\"fTsumw2\":5099966,\"fTsumwx\":12570247151.9615,\"fTsumwx2\":30985772385082.1,\"fMaximum\":-1111,\"fMinimum\":-1111,\"fNormFactor\":0,\"fContour\":[],\"fSumw2\":[],\"fOption\":\"\",\"fFunctions\":{\"_typename\":\"TList\",\"name\":\"TList\",\"arr\":[{\"_typename\":\"TPaveStats\",\"fUniqueID\":0,\"fBits\":9,\"fLineColor\":1,\"fLineStyle\":1,\"fLineWidth\":1,\"fFillColor\":0,\"fFillStyle\":1001,\"fX1\":2496.50000227988,\"fY1\":78977.804748857,\"fX2\":2519.00000295043,\"fY2\":88653.1241767702,\"fX1NDC\":0.780000016093254,\"fY1NDC\":0.775000005960464,\"fX2NDC\":0.980000019073486,\"fY2NDC\":0.935000002384186,\"fBorderSize\":1,\"fInit\":1,\"fShadowColor\":1,\"fCornerRadius\":0,\"fOption\":\"brNDC\",\"fName\":\"stats\",\"fTextAngle\":0,\"fTextSize\":0,\"fTextAlign\":12,\"fTextColor\":1,\"fTextFont\":42,\"fLabel\":\"\",\"fLongest\":18,\"fMargin\":0.05,\"fLines\":{\"_typename\":\"TList\",\"name\":\"TList\",\"arr\":[{\"_typename\":\"TLatex\",\"fUniqueID\":0,\"fBits\":0,\"fName\":\"\",\"fTitle\":\"h1\",\"fTextAngle\":0,\"fTextSize\":0.0368,\"fTextAlign\":0,\"fTextColor\":0,\"fTextFont\":0,\"fX\":0,\"fY\":0,\"fLineColor\":1,\"fLineStyle\":1,\"fLineWidth\":2,\"fLimitFactorSize\":3,\"fOriginSize\":0.0368000008165836},{\"_typename\":\"TLatex\",\"fUniqueID\":0,\"fBits\":0,\"fName\":\"\",\"fTitle\":\"Entries = 6044950\",\"fTextAngle\":0,\"fTextSize\":0,\"fTextAlign\":0,\"fTextColor\":0,\"fTextFont\":0,\"fX\":0,\"fY\":0,\"fLineColor\":1,\"fLineStyle\":1,\"fLineWidth\":2,\"fLimitFactorSize\":3,\"fOriginSize\":0.04},{\"_typename\":\"TLatex\",\"fUniqueID\":0,\"fBits\":0,\"fName\":\"\",\"fTitle\":\"Mean  =   2465\",\"fTextAngle\":0,\"fTextSize\":0,\"fTextAlign\":0,\"fTextColor\":0,\"fTextFont\":0,\"fX\":0,\"fY\":0,\"fLineColor\":1,\"fLineStyle\":1,\"fLineWidth\":2,\"fLimitFactorSize\":3,\"fOriginSize\":0.04},{\"_typename\":\"TLatex\",\"fUniqueID\":0,\"fBits\":0,\"fName\":\"\",\"fTitle\":\"Std Dev   =  24.23\",\"fTextAngle\":0,\"fTextSize\":0,\"fTextAlign\":0,\"fTextColor\":0,\"fTextFont\":0,\"fX\":0,\"fY\":0,\"fLineColor\":1,\"fLineStyle\":1,\"fLineWidth\":2,\"fLimitFactorSize\":3,\"fOriginSize\":0.04}],\"opt\":[\"\",\"\",\"\",\"\"]},\"fOptFit\":0,\"fOptStat\":1111,\"fFitFormat\":\"5.4g\",\"fStatFormat\":\"6.4g\",\"fParent\":{\"$ref\":3}}],\"opt\":[\"brNDC\"]},\"fBufferSize\":0,\"fBuffer\":[],\"fBinStatErrOpt\":0,\"fStatOverflows\":2,\"fArray\":[373912,45931,46178,46244,46165,45871,45839,46546,45964,46183,46363,45934,45798,46394,45918,45884,46088,45334,45738,45869,45547,45619,45537,45671,45221,45442,45430,45633,45474,45428,45458,45752,45561,45688,45897,46058,46382,47180,47085,48048,48900,50309,51911,53581,55115,56903,59746,62834,65794,69072,72018,75665,78387,81094,82489,84233,83438,83026,80744,78685,75941,72110,68182,65710,62359,59027,56169,53817,52153,50095,48903,47871,46406,45592,44800,44297,43774,43656,42953,42593,42103,41872,41708,42182,41847,41571,41515,42057,41263,41363,41008,41380,40953,41103,40970,41532,40687,40993,40440,40354,40361,571072]},{\"_typename\":\"TPaveText\",\"fUniqueID\":0,\"fBits\":9,\"fLineColor\":1,\"fLineStyle\":1,\"fLineWidth\":1,\"fFillColor\":0,\"fFillStyle\":0,\"fX1\":2462.03768839807,\"fY1\":88955.4780102645,\"fX2\":2467.96231160193,\"fY2\":92281.3691875088,\"fX1NDC\":0.473668341708542,\"fY1NDC\":0.940000003948808,\"fX2NDC\":0.526331658291458,\"fY2NDC\":0.995000004768372,\"fBorderSize\":0,\"fInit\":1,\"fShadowColor\":1,\"fCornerRadius\":0,\"fOption\":\"blNDC\",\"fName\":\"title\",\"fTextAngle\":0,\"fTextSize\":0,\"fTextAlign\":22,\"fTextColor\":1,\"fTextFont\":42,\"fLabel\":\"\",\"fLongest\":2,\"fMargin\":0.05,\"fLines\":{\"_typename\":\"TList\",\"name\":\"TList\",\"arr\":[{\"_typename\":\"TLatex\",\"fUniqueID\":0,\"fBits\":0,\"fName\":\"\",\"fTitle\":\"Xi\",\"fTextAngle\":0,\"fTextSize\":0,\"fTextAlign\":0,\"fTextColor\":0,\"fTextFont\":0,\"fX\":0,\"fY\":0,\"fLineColor\":1,\"fLineStyle\":1,\"fLineWidth\":2,\"fLimitFactorSize\":3,\"fOriginSize\":0.0467500016093254}],\"opt\":[\"\"]}},{\"_typename\":\"TStyle\",\"fUniqueID\":0,\"fBits\":0,\"fName\":\"Modern\",\"fTitle\":\"Modern Style\",\"fLineColor\":1,\"fLineStyle\":1,\"fLineWidth\":1,\"fFillColor\":19,\"fFillStyle\":1001,\"fMarkerColor\":1,\"fMarkerStyle\":1,\"fMarkerSize\":1,\"fTextAngle\":0,\"fTextSize\":0.05,\"fTextAlign\":11,\"fTextColor\":1,\"fTextFont\":62,\"fXaxis\":{\"_typename\":\"TAttAxis\",\"fNdivisions\":510,\"fAxisColor\":1,\"fLabelColor\":1,\"fLabelFont\":42,\"fLabelOffset\":0.005,\"fLabelSize\":0.035,\"fTickLength\":0.03,\"fTitleOffset\":1,\"fTitleSize\":0.035,\"fTitleColor\":1,\"fTitleFont\":42},\"fYaxis\":{\"_typename\":\"TAttAxis\",\"fNdivisions\":510,\"fAxisColor\":1,\"fLabelColor\":1,\"fLabelFont\":42,\"fLabelOffset\":0.005,\"fLabelSize\":0.035,\"fTickLength\":0.03,\"fTitleOffset\":0,\"fTitleSize\":0.035,\"fTitleColor\":1,\"fTitleFont\":42},\"fZaxis\":{\"_typename\":\"TAttAxis\",\"fNdivisions\":510,\"fAxisColor\":1,\"fLabelColor\":1,\"fLabelFont\":42,\"fLabelOffset\":0.005,\"fLabelSize\":0.035,\"fTickLength\":0.03,\"fTitleOffset\":1,\"fTitleSize\":0.035,\"fTitleColor\":1,\"fTitleFont\":42},\"fBarWidth\":1,\"fBarOffset\":0,\"fColorModelPS\":0,\"fDrawBorder\":0,\"fOptLogx\":0,\"fOptLogy\":0,\"fOptLogz\":0,\"fOptDate\":0,\"fOptStat\":1111,\"fOptTitle\":1,\"fOptFile\":0,\"fOptFit\":0,\"fShowEventStatus\":0,\"fShowEditor\":0,\"fShowToolBar\":0,\"fNumberContours\":20,\"fAttDate\":{\"_typename\":\"TAttText\",\"fTextAngle\":0,\"fTextSize\":0.025,\"fTextAlign\":11,\"fTextColor\":1,\"fTextFont\":62},\"fDateX\":0.01,\"fDateY\":0.01,\"fEndErrorSize\":2,\"fErrorX\":0.5,\"fFuncColor\":2,\"fFuncStyle\":1,\"fFuncWidth\":2,\"fGridColor\":0,\"fGridStyle\":3,\"fGridWidth\":1,\"fLegendBorderSize\":1,\"fLegendFillColor\":0,\"fLegendFont\":42,\"fLegendTextSize\":0,\"fHatchesLineWidth\":1,\"fHatchesSpacing\":1,\"fFrameFillColor\":0,\"fFrameLineColor\":1,\"fFrameFillStyle\":1001,\"fFrameLineStyle\":1,\"fFrameLineWidth\":1,\"fFrameBorderSize\":1,\"fFrameBorderMode\":0,\"fHistFillColor\":0,\"fHistLineColor\":602,\"fHistFillStyle\":1001,\"fHistLineStyle\":1,\"fHistLineWidth\":1,\"fHistMinimumZero\":false,\"fHistTopMargin\":0.05,\"fCanvasPreferGL\":false,\"fCanvasColor\":0,\"fCanvasBorderSize\":2,\"fCanvasBorderMode\":0,\"fCanvasDefH\":500,\"fCanvasDefW\":700,\"fCanvasDefX\":10,\"fCanvasDefY\":10,\"fPadColor\":0,\"fPadBorderSize\":2,\"fPadBorderMode\":0,\"fPadBottomMargin\":0.1,\"fPadTopMargin\":0.1,\"fPadLeftMargin\":0.1,\"fPadRightMargin\":0.1,\"fPadGridX\":false,\"fPadGridY\":false,\"fPadTickX\":0,\"fPadTickY\":0,\"fPaperSizeX\":20,\"fPaperSizeY\":26,\"fScreenFactor\":1,\"fStatColor\":0,\"fStatTextColor\":1,\"fStatBorderSize\":1,\"fStatFont\":42,\"fStatFontSize\":0,\"fStatStyle\":1001,\"fStatFormat\":\"6.4g\",\"fStatX\":0.98,\"fStatY\":0.935,\"fStatW\":0.2,\"fStatH\":0.16,\"fStripDecimals\":true,\"fTitleAlign\":23,\"fTitleColor\":0,\"fTitleTextColor\":1,\"fTitleBorderSize\":0,\"fTitleFont\":42,\"fTitleFontSize\":0.05,\"fTitleStyle\":0,\"fTitleX\":0.5,\"fTitleY\":0.995,\"fTitleW\":0,\"fTitleH\":0,\"fLegoInnerR\":0.5,\"fLineStyle\":[\"\",\"  \",\" 12 12\",\" 4 8\",\" 12 16 4 16\",\" 20 12 4 12\",\" 20 12 4 12 4 12 4 12\",\" 20 20\",\" 20 12 4 12 4 12\",\" 80 20\",\" 80 40 4 40\",\"  \",\"  \",\"  \",\"  \",\"  \",\"  \",\"  \",\"  \",\"  \",\"  \",\"  \",\"  \",\"  \",\"  \",\"  \",\"  \",\"  \",\"  \",\"  \"],\"fHeaderPS\":\"\",\"fTitlePS\":\"\",\"fFitFormat\":\"5.4g\",\"fPaintTextFormat\":\"g\",\"fLineScalePS\":3,\"fJoinLinePS\":0,\"fCapLinePS\":0,\"fTimeOffset\":788918400,\"fImageScaling\":1}],\"opt\":[\"\",\"\",\"blNDC\",\"\"]},\"fExecs\":null,\"fName\":\"myCanvasName\",\"fTitle\":\"Titel\",\"fNumPaletteColor\":0,\"fNextPaletteColor\":0,\"fDISPLAY\":\"$DISPLAY\",\"fDoubleBuffer\":0,\"fRetained\":true,\"fXsizeUser\":0,\"fYsizeUser\":0,\"fXsizeReal\":20,\"fYsizeReal\":15,\"fWindowTopX\":0,\"fWindowTopY\":0,\"fWindowWidth\":0,\"fWindowHeight\":0,\"fCw\":796,\"fCh\":572,\"fCatt\":{\"_typename\":\"TAttCanvas\",\"fXBetween\":2,\"fYBetween\":2,\"fTitleFromTop\":1.2,\"fXdate\":0.2,\"fYdate\":0.3,\"fAdate\":1},\"kMoveOpaque\":true,\"kResizeOpaque\":true,\"fHighLightColor\":2,\"fBatch\":true,\"kShowEventStatus\":false,\"kAutoExec\":true,\"kMenuBar\":true});\n",
       "   Core.settings.HandleKeys = false;\n",
       "   Core.draw(\"root_plot_1634114456994\", obj, \"\");\n",
       "}\n",
       "</script>\n"
      ],
      "text/plain": [
       "<IPython.core.display.HTML object>"
      ]
     },
     "metadata": {},
     "output_type": "display_data"
    }
   ],
   "source": [
    "#old Xic Plot Root\n",
    "\n",
    "f = ROOT.TFile.Open(\"/eos/user/s/sharst/SWAN_projects/MasterclassTest/Daten.root\")\n",
    "tree = f.Get(\"DecayTree\")\n",
    "\n",
    "xmin = 2420\n",
    "xmax = 2510\n",
    "\n",
    "cu1 = input(\"Wert für Cut1 angeben: \")\n",
    "cu2 = input(\"Wert für Cut2 angeben: \")\n",
    "cu3 = input(\"Wert für Cut3 angeben: \")\n",
    "\n",
    "\n",
    "cut11 = ROOT.TCut(\"lab2_ProbNNp>{}\".format(cu1))\n",
    "cut12 = ROOT.TCut(\"log(lab1_IPCHI2_OWNPV)<{}\".format(cu2))\n",
    "cut13 = ROOT.TCut(\"lab1_FDCHI2_OWNPV>{}\".format(cu3))\n",
    "cut10 = ROOT.TCut(cut11+cut12+cut13)\n",
    "\n",
    "\n",
    "h1 = ROOT.TH1F(\"h1\", \"Xi\", 100, xmin, xmax)\n",
    "tree.Draw(\"lab1_M>>h1\", cut10)\n",
    "c1 = ROOT.TCanvas(\"myCanvasName\",\"Titel\",800,600)\n",
    "h1.Draw()\n",
    "%jsroot\n",
    "c1.Draw()\n",
    "h1.GetXaxis().SetTitle(\"X axis title\")\n",
    "h1.GetYaxis().SetTitle(\"Y axis title\")"
   ]
  },
  {
   "cell_type": "code",
   "execution_count": 6,
   "id": "8d569357",
   "metadata": {},
   "outputs": [
    {
     "data": {
      "application/vnd.jupyter.widget-view+json": {
       "model_id": "24a0b53a3a244261b5036707ecf5d063",
       "version_major": 2,
       "version_minor": 0
      },
      "text/plain": [
       "Canvas(toolbar=Toolbar(toolitems=[('Home', 'Reset original view', 'home', 'home'), ('Back', 'Back to previous …"
      ]
     },
     "metadata": {},
     "output_type": "display_data"
    },
    {
     "name": "stdout",
     "output_type": "stream",
     "text": [
      "Cut 1: Wahrscheinlichkeit, dass ein detektiertes Teilchen ein Proton ist\n",
      "Cut 2: **Einfügen**\n",
      "Cut 3: **Einfügen**\n",
      "Cut 4: **Einfügen**\n",
      "Cut 5: **Einfügen**\n",
      "Cut 6: **Einfügen**\n"
     ]
    },
    {
     "data": {
      "application/vnd.jupyter.widget-view+json": {
       "model_id": "a72bc05b4ba24e589946e5ccf93d511d",
       "version_major": 2,
       "version_minor": 0
      },
      "text/plain": [
       "interactive(children=(FloatSlider(value=0.0, description='Cut1', max=1.0, step=0.05), FloatSlider(value=5.0, d…"
      ]
     },
     "metadata": {},
     "output_type": "display_data"
    }
   ],
   "source": [
    "#old Omegac Plots matplotlib\n",
    "\n",
    "%matplotlib widget\n",
    "\n",
    "fig, ax = plt.subplots()\n",
    "ax.grid(True)\n",
    "\n",
    "print(\"Cut 1: Wahrscheinlichkeit, dass ein detektiertes Teilchen ein Proton ist\")\n",
    "print(\"Cut 2: **Einfügen**\")\n",
    "print(\"Cut 3: **Einfügen**\")\n",
    "print(\"Cut 4: **Einfügen**\")\n",
    "print(\"Cut 5: Wahrscheinlichkeit, dass ein detektiertes Teilchen ein Kaon ist\")\n",
    "print(\"Cut 6: **Einfügen**\")\n",
    "\n",
    "@widgets.interact(Cut1=(0,1,0.05),Cut2=(0,5,0.1),Cut3=(0,500,10),Cut4=(0,5,0.1),Cut5=(0,1,0.05),Cut6=(0,10000,100))\n",
    "def update(Cut1=0,Cut2=5,Cut3=0,Cut4=5,Cut5=0,Cut6=10000):\n",
    "    ax.cla()\n",
    "    npa = df.Filter(\"lab2_ProbNNp>{cut1}\".format(cut1=Cut1)).Filter(\"log(lab1_IPCHI2_OWNPV)<{cut2}\".format(cut2=Cut2)).Filter(\"lab1_FDCHI2_OWNPV>{cut3}\".format(cut3=Cut3)).Filter(\"lab0_CHI2NDOF_DTF_Xic<{cut4}\".format(cut4=Cut4)).Filter(\"lab3_ProbNNk>{cut5}\".format(cut5=Cut5)).Filter(\"lab0_PT>{cut6}\".format(cut6=Cut6)).AsNumpy(columns=[\"lab0_M\",\"lab1_M\"])\n",
    "    ax.hist(npa[\"lab0_M\"]-npa[\"lab1_M\"]+2467, bins = 100, range =(2980,3150))"
   ]
  },
  {
   "cell_type": "code",
   "execution_count": 11,
   "id": "431f9158",
   "metadata": {
    "scrolled": false
   },
   "outputs": [
    {
     "name": "stdout",
     "output_type": "stream",
     "text": [
      "Wert für Cut4 angeben: 2\n",
      "Wert für Cut5 angeben: .7\n",
      "Wert für Cut6 angeben: 4500\n"
     ]
    },
    {
     "name": "stderr",
     "output_type": "stream",
     "text": [
      "Warning in <TCanvas::Constructor>: Deleting canvas with same name: myCanvasName2\n"
     ]
    },
    {
     "data": {
      "text/html": [
       "\n",
       "\n",
       "<div id=\"root_plot_1634106547733\"\n",
       "     style=\"width: 796px; height: 572px\">\n",
       "</div>\n",
       "<script>\n",
       "if (typeof require !== 'undefined') {\n",
       "\n",
       "    // We are in jupyter notebooks, use require.js which should be configured already\n",
       "    require(['scripts/JSRoot.core'],\n",
       "        function(Core) {\n",
       "           display_root_plot_1634106547733(Core);\n",
       "        }\n",
       "    );\n",
       "\n",
       "} else if (typeof JSROOT !== 'undefined') {\n",
       "\n",
       "   // JSROOT already loaded, just use it\n",
       "   display_root_plot_1634106547733(JSROOT);\n",
       "\n",
       "} else {\n",
       "\n",
       "    // We are in jupyterlab without require.js, directly loading jsroot\n",
       "    // Jupyterlab might be installed in a different base_url so we need to know it.\n",
       "    try {\n",
       "        var base_url = JSON.parse(document.getElementById('jupyter-config-data').innerHTML).baseUrl;\n",
       "    } catch(_) {\n",
       "        var base_url = '/';\n",
       "    }\n",
       "\n",
       "    // Try loading a local version of requirejs and fallback to cdn if not possible.\n",
       "    script_load(base_url + 'static/scripts/JSRoot.core.js', script_success, function(){\n",
       "        console.error('Fail to load JSROOT locally, please check your jupyter_notebook_config.py file')\n",
       "        script_load('https://root.cern/js/5.9.0/scripts/JSRootCore.min.js', script_success, function(){\n",
       "            document.getElementById(\"root_plot_1634106547733\").innerHTML = \"Failed to load JSROOT\";\n",
       "        });\n",
       "    });\n",
       "}\n",
       "\n",
       "function script_load(src, on_load, on_error) {\n",
       "    var script = document.createElement('script');\n",
       "    script.src = src;\n",
       "    script.onload = on_load;\n",
       "    script.onerror = on_error;\n",
       "    document.head.appendChild(script);\n",
       "}\n",
       "\n",
       "function script_success() {\n",
       "   display_root_plot_1634106547733(JSROOT);\n",
       "}\n",
       "\n",
       "function display_root_plot_1634106547733(Core) {\n",
       "   var obj = Core.parse({\"_typename\":\"TCanvas\",\"fUniqueID\":0,\"fBits\":3342344,\"fLineColor\":1,\"fLineStyle\":1,\"fLineWidth\":1,\"fFillColor\":0,\"fFillStyle\":1001,\"fLeftMargin\":0.1,\"fRightMargin\":0.1,\"fBottomMargin\":0.1,\"fTopMargin\":0.1,\"fXfile\":2,\"fYfile\":2,\"fAfile\":1,\"fXstat\":0.99,\"fYstat\":0.99,\"fAstat\":2,\"fFrameFillColor\":0,\"fFrameLineColor\":1,\"fFrameFillStyle\":1001,\"fFrameLineStyle\":1,\"fFrameLineWidth\":1,\"fFrameBorderSize\":1,\"fFrameBorderMode\":0,\"fX1\":2958.74999841675,\"fY1\":343.22749104645,\"fX2\":3171.25000158325,\"fY2\":1544.95250895355,\"fXtoAbsPixelk\":-11083.1291906825,\"fXtoPixelk\":-11083.1291906825,\"fXtoPixel\":3.74588229712318,\"fYtoAbsPixelk\":735.370306883299,\"fYtoPixelk\":735.370306883299,\"fYtoPixel\":-0.475982434813735,\"fUtoAbsPixelk\":5e-5,\"fUtoPixelk\":5e-5,\"fUtoPixel\":796,\"fVtoAbsPixelk\":572.00005,\"fVtoPixelk\":572,\"fVtoPixel\":-572,\"fAbsPixeltoXk\":2958.74999841675,\"fPixeltoXk\":2958.74999841675,\"fPixeltoX\":0.266959802972986,\"fAbsPixeltoYk\":1544.95250895355,\"fPixeltoYk\":343.22749104645,\"fPixeltoY\":-2.10091786347395,\"fXlowNDC\":0,\"fYlowNDC\":0,\"fXUpNDC\":1,\"fYUpNDC\":1,\"fWNDC\":1,\"fHNDC\":1,\"fAbsXlowNDC\":0,\"fAbsYlowNDC\":0,\"fAbsWNDC\":1,\"fAbsHNDC\":1,\"fUxmin\":2980,\"fUymin\":463.4,\"fUxmax\":3150,\"fUymax\":1424.78,\"fTheta\":30,\"fPhi\":30,\"fAspectRatio\":0,\"fNumber\":0,\"fTickx\":0,\"fTicky\":0,\"fLogx\":0,\"fLogy\":0,\"fLogz\":0,\"fPadPaint\":0,\"fCrosshair\":0,\"fCrosshairPos\":0,\"fBorderSize\":2,\"fBorderMode\":0,\"fModified\":false,\"fGridx\":false,\"fGridy\":false,\"fAbsCoord\":false,\"fEditable\":true,\"fFixedAspectRatio\":false,\"fPrimitives\":{\"_typename\":\"TList\",\"name\":\"TList\",\"arr\":[{\"_typename\":\"TFrame\",\"fUniqueID\":0,\"fBits\":8,\"fLineColor\":1,\"fLineStyle\":1,\"fLineWidth\":1,\"fFillColor\":0,\"fFillStyle\":1001,\"fX1\":2980,\"fY1\":463.4,\"fX2\":3150,\"fY2\":1424.78,\"fBorderSize\":1,\"fBorderMode\":0},{\"_typename\":\"TH1F\",\"fUniqueID\":0,\"fBits\":8,\"fName\":\"h2\",\"fTitle\":\"Omega\",\"fLineColor\":602,\"fLineStyle\":1,\"fLineWidth\":1,\"fFillColor\":0,\"fFillStyle\":1001,\"fMarkerColor\":1,\"fMarkerStyle\":1,\"fMarkerSize\":1,\"fNcells\":102,\"fXaxis\":{\"_typename\":\"TAxis\",\"fUniqueID\":0,\"fBits\":0,\"fName\":\"xaxis\",\"fTitle\":\"X axis title\",\"fNdivisions\":510,\"fAxisColor\":1,\"fLabelColor\":1,\"fLabelFont\":42,\"fLabelOffset\":0.005,\"fLabelSize\":0.035,\"fTickLength\":0.03,\"fTitleOffset\":1,\"fTitleSize\":0.035,\"fTitleColor\":1,\"fTitleFont\":42,\"fNbins\":100,\"fXmin\":2980,\"fXmax\":3150,\"fXbins\":[],\"fFirst\":0,\"fLast\":0,\"fBits2\":0,\"fTimeDisplay\":false,\"fTimeFormat\":\"\",\"fLabels\":null,\"fModLabs\":null},\"fYaxis\":{\"_typename\":\"TAxis\",\"fUniqueID\":0,\"fBits\":0,\"fName\":\"yaxis\",\"fTitle\":\"Y axis title\",\"fNdivisions\":510,\"fAxisColor\":1,\"fLabelColor\":1,\"fLabelFont\":42,\"fLabelOffset\":0.005,\"fLabelSize\":0.035,\"fTickLength\":0.03,\"fTitleOffset\":0,\"fTitleSize\":0.035,\"fTitleColor\":1,\"fTitleFont\":42,\"fNbins\":1,\"fXmin\":0,\"fXmax\":1,\"fXbins\":[],\"fFirst\":0,\"fLast\":0,\"fBits2\":0,\"fTimeDisplay\":false,\"fTimeFormat\":\"\",\"fLabels\":null,\"fModLabs\":null},\"fZaxis\":{\"_typename\":\"TAxis\",\"fUniqueID\":0,\"fBits\":0,\"fName\":\"zaxis\",\"fTitle\":\"\",\"fNdivisions\":510,\"fAxisColor\":1,\"fLabelColor\":1,\"fLabelFont\":42,\"fLabelOffset\":0.005,\"fLabelSize\":0.035,\"fTickLength\":0.03,\"fTitleOffset\":1,\"fTitleSize\":0.035,\"fTitleColor\":1,\"fTitleFont\":42,\"fNbins\":1,\"fXmin\":0,\"fXmax\":1,\"fXbins\":[],\"fFirst\":0,\"fLast\":0,\"fBits2\":0,\"fTimeDisplay\":false,\"fTimeFormat\":\"\",\"fLabels\":null,\"fModLabs\":null},\"fBarOffset\":0,\"fBarWidth\":1000,\"fEntries\":367037,\"fTsumw\":97289,\"fTsumw2\":97289,\"fTsumwx\":298941883.962206,\"fTsumwx2\":918776154178.661,\"fMaximum\":-1111,\"fMinimum\":-1111,\"fNormFactor\":0,\"fContour\":[],\"fSumw2\":[],\"fOption\":\"\",\"fFunctions\":{\"_typename\":\"TList\",\"name\":\"TList\",\"arr\":[{\"_typename\":\"TPaveStats\",\"fUniqueID\":0,\"fBits\":9,\"fLineColor\":1,\"fLineStyle\":1,\"fLineWidth\":1,\"fFillColor\":0,\"fFillStyle\":1001,\"fX1\":3124.50000430644,\"fY1\":1274.56438708729,\"fX2\":3167.00000557303,\"fY2\":1466.84038565472,\"fX1NDC\":0.780000016093254,\"fY1NDC\":0.775000005960464,\"fX2NDC\":0.980000019073486,\"fY2NDC\":0.935000002384186,\"fBorderSize\":1,\"fInit\":1,\"fShadowColor\":1,\"fCornerRadius\":0,\"fOption\":\"brNDC\",\"fName\":\"stats\",\"fTextAngle\":0,\"fTextSize\":0,\"fTextAlign\":12,\"fTextColor\":1,\"fTextFont\":42,\"fLabel\":\"\",\"fLongest\":18,\"fMargin\":0.05,\"fLines\":{\"_typename\":\"TList\",\"name\":\"TList\",\"arr\":[{\"_typename\":\"TLatex\",\"fUniqueID\":0,\"fBits\":0,\"fName\":\"\",\"fTitle\":\"h2\",\"fTextAngle\":0,\"fTextSize\":0.0368,\"fTextAlign\":0,\"fTextColor\":0,\"fTextFont\":0,\"fX\":0,\"fY\":0,\"fLineColor\":1,\"fLineStyle\":1,\"fLineWidth\":2,\"fLimitFactorSize\":3,\"fOriginSize\":0.0368000008165836},{\"_typename\":\"TLatex\",\"fUniqueID\":0,\"fBits\":0,\"fName\":\"\",\"fTitle\":\"Entries = 367037 \",\"fTextAngle\":0,\"fTextSize\":0,\"fTextAlign\":0,\"fTextColor\":0,\"fTextFont\":0,\"fX\":0,\"fY\":0,\"fLineColor\":1,\"fLineStyle\":1,\"fLineWidth\":2,\"fLimitFactorSize\":3,\"fOriginSize\":0.04},{\"_typename\":\"TLatex\",\"fUniqueID\":0,\"fBits\":0,\"fName\":\"\",\"fTitle\":\"Mean  =   3073\",\"fTextAngle\":0,\"fTextSize\":0,\"fTextAlign\":0,\"fTextColor\":0,\"fTextFont\":0,\"fX\":0,\"fY\":0,\"fLineColor\":1,\"fLineStyle\":1,\"fLineWidth\":2,\"fLimitFactorSize\":3,\"fOriginSize\":0.04},{\"_typename\":\"TLatex\",\"fUniqueID\":0,\"fBits\":0,\"fName\":\"\",\"fTitle\":\"Std Dev   =  46.61\",\"fTextAngle\":0,\"fTextSize\":0,\"fTextAlign\":0,\"fTextColor\":0,\"fTextFont\":0,\"fX\":0,\"fY\":0,\"fLineColor\":1,\"fLineStyle\":1,\"fLineWidth\":2,\"fLimitFactorSize\":3,\"fOriginSize\":0.04}],\"opt\":[\"\",\"\",\"\",\"\"]},\"fOptFit\":0,\"fOptStat\":1111,\"fFitFormat\":\"5.4g\",\"fStatFormat\":\"6.4g\",\"fParent\":{\"$ref\":3}}],\"opt\":[\"brNDC\"]},\"fBufferSize\":0,\"fBuffer\":[],\"fBinStatErrOpt\":0,\"fStatOverflows\":2,\"fArray\":[4361,532,552,507,601,574,579,610,637,636,742,815,982,954,818,724,774,715,761,719,789,769,774,813,806,791,789,824,779,795,809,852,874,848,840,829,846,808,911,879,990,1230,1359,1112,991,987,1000,937,1024,1177,1300,1379,1238,1163,1050,1004,1024,1082,1000,976,1030,1071,1158,1170,1188,1287,1321,1192,1179,1138,1138,1030,1087,1070,1043,1037,1074,1103,1081,1104,1101,1179,1277,1226,1114,1048,1018,1114,1021,1041,1084,1027,1064,1116,1078,1097,1139,1056,1117,1082,1109,265387]},{\"_typename\":\"TPaveText\",\"fUniqueID\":0,\"fBits\":9,\"fLineColor\":1,\"fLineStyle\":1,\"fLineWidth\":1,\"fFillColor\":0,\"fFillStyle\":0,\"fX1\":3049.79396962266,\"fY1\":1465.83194794539,\"fX2\":3080.20603037734,\"fY2\":1538.94388959429,\"fX1NDC\":0.428442211055277,\"fY1NDC\":0.934160843929211,\"fX2NDC\":0.571557788944723,\"fY2NDC\":0.995000004768372,\"fBorderSize\":0,\"fInit\":1,\"fShadowColor\":1,\"fCornerRadius\":0,\"fOption\":\"blNDC\",\"fName\":\"title\",\"fTextAngle\":0,\"fTextSize\":0,\"fTextAlign\":22,\"fTextColor\":1,\"fTextFont\":42,\"fLabel\":\"\",\"fLongest\":5,\"fMargin\":0.05,\"fLines\":{\"_typename\":\"TList\",\"name\":\"TList\",\"arr\":[{\"_typename\":\"TLatex\",\"fUniqueID\":0,\"fBits\":0,\"fName\":\"\",\"fTitle\":\"Omega\",\"fTextAngle\":0,\"fTextSize\":0,\"fTextAlign\":0,\"fTextColor\":0,\"fTextFont\":0,\"fX\":0,\"fY\":0,\"fLineColor\":1,\"fLineStyle\":1,\"fLineWidth\":2,\"fLimitFactorSize\":3,\"fOriginSize\":0.0517132878303528}],\"opt\":[\"\"]}},{\"_typename\":\"TStyle\",\"fUniqueID\":0,\"fBits\":0,\"fName\":\"Modern\",\"fTitle\":\"Modern Style\",\"fLineColor\":1,\"fLineStyle\":1,\"fLineWidth\":1,\"fFillColor\":19,\"fFillStyle\":1001,\"fMarkerColor\":1,\"fMarkerStyle\":1,\"fMarkerSize\":1,\"fTextAngle\":0,\"fTextSize\":0.05,\"fTextAlign\":11,\"fTextColor\":1,\"fTextFont\":62,\"fXaxis\":{\"_typename\":\"TAttAxis\",\"fNdivisions\":510,\"fAxisColor\":1,\"fLabelColor\":1,\"fLabelFont\":42,\"fLabelOffset\":0.005,\"fLabelSize\":0.035,\"fTickLength\":0.03,\"fTitleOffset\":1,\"fTitleSize\":0.035,\"fTitleColor\":1,\"fTitleFont\":42},\"fYaxis\":{\"_typename\":\"TAttAxis\",\"fNdivisions\":510,\"fAxisColor\":1,\"fLabelColor\":1,\"fLabelFont\":42,\"fLabelOffset\":0.005,\"fLabelSize\":0.035,\"fTickLength\":0.03,\"fTitleOffset\":0,\"fTitleSize\":0.035,\"fTitleColor\":1,\"fTitleFont\":42},\"fZaxis\":{\"_typename\":\"TAttAxis\",\"fNdivisions\":510,\"fAxisColor\":1,\"fLabelColor\":1,\"fLabelFont\":42,\"fLabelOffset\":0.005,\"fLabelSize\":0.035,\"fTickLength\":0.03,\"fTitleOffset\":1,\"fTitleSize\":0.035,\"fTitleColor\":1,\"fTitleFont\":42},\"fBarWidth\":1,\"fBarOffset\":0,\"fColorModelPS\":0,\"fDrawBorder\":0,\"fOptLogx\":0,\"fOptLogy\":0,\"fOptLogz\":0,\"fOptDate\":0,\"fOptStat\":1111,\"fOptTitle\":1,\"fOptFile\":0,\"fOptFit\":0,\"fShowEventStatus\":0,\"fShowEditor\":0,\"fShowToolBar\":0,\"fNumberContours\":20,\"fAttDate\":{\"_typename\":\"TAttText\",\"fTextAngle\":0,\"fTextSize\":0.025,\"fTextAlign\":11,\"fTextColor\":1,\"fTextFont\":62},\"fDateX\":0.01,\"fDateY\":0.01,\"fEndErrorSize\":2,\"fErrorX\":0.5,\"fFuncColor\":2,\"fFuncStyle\":1,\"fFuncWidth\":2,\"fGridColor\":0,\"fGridStyle\":3,\"fGridWidth\":1,\"fLegendBorderSize\":1,\"fLegendFillColor\":0,\"fLegendFont\":42,\"fLegendTextSize\":0,\"fHatchesLineWidth\":1,\"fHatchesSpacing\":1,\"fFrameFillColor\":0,\"fFrameLineColor\":1,\"fFrameFillStyle\":1001,\"fFrameLineStyle\":1,\"fFrameLineWidth\":1,\"fFrameBorderSize\":1,\"fFrameBorderMode\":0,\"fHistFillColor\":0,\"fHistLineColor\":602,\"fHistFillStyle\":1001,\"fHistLineStyle\":1,\"fHistLineWidth\":1,\"fHistMinimumZero\":false,\"fHistTopMargin\":0.05,\"fCanvasPreferGL\":false,\"fCanvasColor\":0,\"fCanvasBorderSize\":2,\"fCanvasBorderMode\":0,\"fCanvasDefH\":500,\"fCanvasDefW\":700,\"fCanvasDefX\":10,\"fCanvasDefY\":10,\"fPadColor\":0,\"fPadBorderSize\":2,\"fPadBorderMode\":0,\"fPadBottomMargin\":0.1,\"fPadTopMargin\":0.1,\"fPadLeftMargin\":0.1,\"fPadRightMargin\":0.1,\"fPadGridX\":false,\"fPadGridY\":false,\"fPadTickX\":0,\"fPadTickY\":0,\"fPaperSizeX\":20,\"fPaperSizeY\":26,\"fScreenFactor\":1,\"fStatColor\":0,\"fStatTextColor\":1,\"fStatBorderSize\":1,\"fStatFont\":42,\"fStatFontSize\":0,\"fStatStyle\":1001,\"fStatFormat\":\"6.4g\",\"fStatX\":0.98,\"fStatY\":0.935,\"fStatW\":0.2,\"fStatH\":0.16,\"fStripDecimals\":true,\"fTitleAlign\":23,\"fTitleColor\":0,\"fTitleTextColor\":1,\"fTitleBorderSize\":0,\"fTitleFont\":42,\"fTitleFontSize\":0.05,\"fTitleStyle\":0,\"fTitleX\":0.5,\"fTitleY\":0.995,\"fTitleW\":0,\"fTitleH\":0,\"fLegoInnerR\":0.5,\"fLineStyle\":[\"\",\"  \",\" 12 12\",\" 4 8\",\" 12 16 4 16\",\" 20 12 4 12\",\" 20 12 4 12 4 12 4 12\",\" 20 20\",\" 20 12 4 12 4 12\",\" 80 20\",\" 80 40 4 40\",\"  \",\"  \",\"  \",\"  \",\"  \",\"  \",\"  \",\"  \",\"  \",\"  \",\"  \",\"  \",\"  \",\"  \",\"  \",\"  \",\"  \",\"  \",\"  \"],\"fHeaderPS\":\"\",\"fTitlePS\":\"\",\"fFitFormat\":\"5.4g\",\"fPaintTextFormat\":\"g\",\"fLineScalePS\":3,\"fJoinLinePS\":0,\"fCapLinePS\":0,\"fTimeOffset\":788918400,\"fImageScaling\":1}],\"opt\":[\"\",\"\",\"blNDC\",\"\"]},\"fExecs\":null,\"fName\":\"myCanvasName2\",\"fTitle\":\"Titel2\",\"fNumPaletteColor\":0,\"fNextPaletteColor\":0,\"fDISPLAY\":\"$DISPLAY\",\"fDoubleBuffer\":0,\"fRetained\":true,\"fXsizeUser\":0,\"fYsizeUser\":0,\"fXsizeReal\":20,\"fYsizeReal\":15,\"fWindowTopX\":0,\"fWindowTopY\":0,\"fWindowWidth\":0,\"fWindowHeight\":0,\"fCw\":796,\"fCh\":572,\"fCatt\":{\"_typename\":\"TAttCanvas\",\"fXBetween\":2,\"fYBetween\":2,\"fTitleFromTop\":1.2,\"fXdate\":0.2,\"fYdate\":0.3,\"fAdate\":1},\"kMoveOpaque\":true,\"kResizeOpaque\":true,\"fHighLightColor\":2,\"fBatch\":true,\"kShowEventStatus\":false,\"kAutoExec\":true,\"kMenuBar\":true});\n",
       "   Core.settings.HandleKeys = false;\n",
       "   Core.draw(\"root_plot_1634106547733\", obj, \"\");\n",
       "}\n",
       "</script>\n"
      ],
      "text/plain": [
       "<IPython.core.display.HTML object>"
      ]
     },
     "metadata": {},
     "output_type": "display_data"
    }
   ],
   "source": [
    "#old Omegac Plot Root\n",
    "\n",
    "cu4 = input(\"Wert für Cut4 angeben: \")\n",
    "cu5 = input(\"Wert für Cut5 angeben: \")\n",
    "cu6 = input(\"Wert für Cut6 angeben: \")\n",
    "\n",
    "\n",
    "cut21 = ROOT.TCut(\"lab0_CHI2NDOF_DTF_Xic<{}\".format(cu4))\n",
    "cut22 = ROOT.TCut(\"lab3_ProbNNk>{}\".format(cu5))\n",
    "cut23 = ROOT.TCut(\"lab0_PT>{}\".format(cu6))\n",
    "cut20 = ROOT.TCut(cut21+cut22+cut23)\n",
    "\n",
    "h2 = ROOT.TH1F(\"h2\",\"Omega\",100,2980,3150)\n",
    "c2 = ROOT.TCanvas(\"myCanvasName2\",\"Titel2\",800,600)\n",
    "tree.Draw(\"lab0_M-lab1_M+2467.89>>h2\",cut10+cut20)\n",
    "h2.Draw(\"\")\n",
    "%jsroot\n",
    "c2.Draw()\n",
    "h2.GetXaxis().SetTitle(\"X axis title\")\n",
    "h2.GetYaxis().SetTitle(\"Y axis title\")"
   ]
  },
  {
   "cell_type": "code",
   "execution_count": 40,
   "id": "241398d6",
   "metadata": {
    "scrolled": false
   },
   "outputs": [
    {
     "data": {
      "application/vnd.jupyter.widget-view+json": {
       "model_id": "907433a7dc5c45eeb3ef24ef955407ba",
       "version_major": 2,
       "version_minor": 0
      },
      "text/plain": [
       "Canvas(toolbar=Toolbar(toolitems=[('Home', 'Reset original view', 'home', 'home'), ('Back', 'Back to previous …"
      ]
     },
     "metadata": {},
     "output_type": "display_data"
    },
    {
     "data": {
      "application/vnd.jupyter.widget-view+json": {
       "model_id": "ae5ca9f22f484d1a9103f0be709ca75c",
       "version_major": 2,
       "version_minor": 0
      },
      "text/plain": [
       "interactive(children=(FloatSlider(value=0.0, description='Cut1', max=0.97, step=0.05), FloatSlider(value=11.0,…"
      ]
     },
     "metadata": {},
     "output_type": "display_data"
    }
   ],
   "source": [
    "%matplotlib widget\n",
    "\n",
    "fig, ax = plt.subplots()\n",
    "\n",
    "df = df.assign(Xic= df[\"lab0_M\"] * 0 + 2467)\n",
    "\n",
    "@widgets.interact(Cut1=(0,0.97, 0.05), Cut2=(0.25,11,0.25), Cut3=(0,500,10), Cut4=(0,1,0.05), Cut5=(0,400000,1000))\n",
    "def update(Cut1=0, Cut2=11, Cut3=0, Cut4=0, Cut5=0):\n",
    "    ax.cla()\n",
    "        \n",
    "    ax.hist(df[\"lab0_M\"]-df[\"lab1_M\"]+df[\"Xic\"][df[\"lab2_ProbNNp\"]>Cut1][df[\"lab1_IPCHI2_OWNPV\"]<Cut2][df[\"lab1_FDCHI2_OWNPV\"]>Cut3][df[\"lab2_ProbNNe\"]>Cut4][df[\"lab1_P\"]>Cut5], bins=100, range =(2900,3500))\n"
   ]
  },
  {
   "cell_type": "code",
   "execution_count": 48,
   "id": "b423f7c9",
   "metadata": {
    "scrolled": true
   },
   "outputs": [
    {
     "data": {
      "text/html": [
       "<div>\n",
       "<style scoped>\n",
       "    .dataframe tbody tr th:only-of-type {\n",
       "        vertical-align: middle;\n",
       "    }\n",
       "\n",
       "    .dataframe tbody tr th {\n",
       "        vertical-align: top;\n",
       "    }\n",
       "\n",
       "    .dataframe thead th {\n",
       "        text-align: right;\n",
       "    }\n",
       "</style>\n",
       "<table border=\"1\" class=\"dataframe\">\n",
       "  <thead>\n",
       "    <tr style=\"text-align: right;\">\n",
       "      <th></th>\n",
       "      <th>lab0_M</th>\n",
       "      <th>lab1_M</th>\n",
       "      <th>lab2_ProbNNp</th>\n",
       "      <th>lab1_IPCHI2_OWNPV</th>\n",
       "      <th>lab1_FDCHI2_OWNPV</th>\n",
       "      <th>lab0_CHI2NDOF_DTF_Xic</th>\n",
       "      <th>lab3_ProbNNk</th>\n",
       "      <th>lab0_PT</th>\n",
       "      <th>lab1_P</th>\n",
       "      <th>lab2_ProbNNe</th>\n",
       "      <th>Xic</th>\n",
       "    </tr>\n",
       "  </thead>\n",
       "  <tbody>\n",
       "    <tr>\n",
       "      <th>0</th>\n",
       "      <td>2986.598634</td>\n",
       "      <td>2489.048398</td>\n",
       "      <td>0.370264</td>\n",
       "      <td>1.564308</td>\n",
       "      <td>324.050236</td>\n",
       "      <td>2.601928</td>\n",
       "      <td>0.976817</td>\n",
       "      <td>5231.324358</td>\n",
       "      <td>140889.297418</td>\n",
       "      <td>9.039508e-06</td>\n",
       "      <td>2467.0</td>\n",
       "    </tr>\n",
       "    <tr>\n",
       "      <th>1</th>\n",
       "      <td>3459.652785</td>\n",
       "      <td>2493.886236</td>\n",
       "      <td>0.451091</td>\n",
       "      <td>4.874641</td>\n",
       "      <td>328.347398</td>\n",
       "      <td>3.002620</td>\n",
       "      <td>0.301009</td>\n",
       "      <td>5818.262669</td>\n",
       "      <td>91955.241282</td>\n",
       "      <td>3.343199e-04</td>\n",
       "      <td>2467.0</td>\n",
       "    </tr>\n",
       "    <tr>\n",
       "      <th>2</th>\n",
       "      <td>3257.589138</td>\n",
       "      <td>2482.472809</td>\n",
       "      <td>0.861226</td>\n",
       "      <td>1.125599</td>\n",
       "      <td>144.068836</td>\n",
       "      <td>9.820177</td>\n",
       "      <td>0.991262</td>\n",
       "      <td>5367.397287</td>\n",
       "      <td>31151.952951</td>\n",
       "      <td>1.992916e-07</td>\n",
       "      <td>2467.0</td>\n",
       "    </tr>\n",
       "    <tr>\n",
       "      <th>3</th>\n",
       "      <td>3465.332939</td>\n",
       "      <td>2466.705115</td>\n",
       "      <td>0.481511</td>\n",
       "      <td>8.544077</td>\n",
       "      <td>41.432774</td>\n",
       "      <td>1.947516</td>\n",
       "      <td>0.485345</td>\n",
       "      <td>5345.653207</td>\n",
       "      <td>77779.209294</td>\n",
       "      <td>2.363602e-02</td>\n",
       "      <td>2467.0</td>\n",
       "    </tr>\n",
       "    <tr>\n",
       "      <th>4</th>\n",
       "      <td>3369.337698</td>\n",
       "      <td>2466.705115</td>\n",
       "      <td>0.481511</td>\n",
       "      <td>8.544077</td>\n",
       "      <td>41.432774</td>\n",
       "      <td>2.010060</td>\n",
       "      <td>0.485345</td>\n",
       "      <td>5376.485972</td>\n",
       "      <td>77779.209294</td>\n",
       "      <td>2.363602e-02</td>\n",
       "      <td>2467.0</td>\n",
       "    </tr>\n",
       "    <tr>\n",
       "      <th>...</th>\n",
       "      <td>...</td>\n",
       "      <td>...</td>\n",
       "      <td>...</td>\n",
       "      <td>...</td>\n",
       "      <td>...</td>\n",
       "      <td>...</td>\n",
       "      <td>...</td>\n",
       "      <td>...</td>\n",
       "      <td>...</td>\n",
       "      <td>...</td>\n",
       "      <td>...</td>\n",
       "    </tr>\n",
       "    <tr>\n",
       "      <th>1068772</th>\n",
       "      <td>2956.150106</td>\n",
       "      <td>2431.261712</td>\n",
       "      <td>0.469457</td>\n",
       "      <td>1.174319</td>\n",
       "      <td>275.082043</td>\n",
       "      <td>6.223449</td>\n",
       "      <td>0.975301</td>\n",
       "      <td>3921.125727</td>\n",
       "      <td>87620.765603</td>\n",
       "      <td>5.301443e-05</td>\n",
       "      <td>2467.0</td>\n",
       "    </tr>\n",
       "    <tr>\n",
       "      <th>1068773</th>\n",
       "      <td>3387.207621</td>\n",
       "      <td>2431.261712</td>\n",
       "      <td>0.469457</td>\n",
       "      <td>1.174319</td>\n",
       "      <td>275.082043</td>\n",
       "      <td>5.625250</td>\n",
       "      <td>0.975301</td>\n",
       "      <td>3700.094527</td>\n",
       "      <td>87620.765603</td>\n",
       "      <td>5.301443e-05</td>\n",
       "      <td>2467.0</td>\n",
       "    </tr>\n",
       "    <tr>\n",
       "      <th>1068774</th>\n",
       "      <td>3107.727160</td>\n",
       "      <td>2456.281292</td>\n",
       "      <td>0.501375</td>\n",
       "      <td>6.220686</td>\n",
       "      <td>268.320422</td>\n",
       "      <td>2.214079</td>\n",
       "      <td>0.880667</td>\n",
       "      <td>4262.244574</td>\n",
       "      <td>44240.203561</td>\n",
       "      <td>2.566573e-06</td>\n",
       "      <td>2467.0</td>\n",
       "    </tr>\n",
       "    <tr>\n",
       "      <th>1068775</th>\n",
       "      <td>3384.439917</td>\n",
       "      <td>2469.294647</td>\n",
       "      <td>0.918932</td>\n",
       "      <td>3.057070</td>\n",
       "      <td>89.176439</td>\n",
       "      <td>0.791783</td>\n",
       "      <td>0.998145</td>\n",
       "      <td>6691.661145</td>\n",
       "      <td>66256.820576</td>\n",
       "      <td>4.087395e-05</td>\n",
       "      <td>2467.0</td>\n",
       "    </tr>\n",
       "    <tr>\n",
       "      <th>1068776</th>\n",
       "      <td>3263.923953</td>\n",
       "      <td>2472.377160</td>\n",
       "      <td>0.892275</td>\n",
       "      <td>7.652198</td>\n",
       "      <td>9945.954068</td>\n",
       "      <td>3.139579</td>\n",
       "      <td>0.619790</td>\n",
       "      <td>5241.901467</td>\n",
       "      <td>71616.031551</td>\n",
       "      <td>2.357721e-06</td>\n",
       "      <td>2467.0</td>\n",
       "    </tr>\n",
       "  </tbody>\n",
       "</table>\n",
       "<p>1068777 rows × 11 columns</p>\n",
       "</div>"
      ],
      "text/plain": [
       "              lab0_M       lab1_M  lab2_ProbNNp  lab1_IPCHI2_OWNPV  \\\n",
       "0        2986.598634  2489.048398      0.370264           1.564308   \n",
       "1        3459.652785  2493.886236      0.451091           4.874641   \n",
       "2        3257.589138  2482.472809      0.861226           1.125599   \n",
       "3        3465.332939  2466.705115      0.481511           8.544077   \n",
       "4        3369.337698  2466.705115      0.481511           8.544077   \n",
       "...              ...          ...           ...                ...   \n",
       "1068772  2956.150106  2431.261712      0.469457           1.174319   \n",
       "1068773  3387.207621  2431.261712      0.469457           1.174319   \n",
       "1068774  3107.727160  2456.281292      0.501375           6.220686   \n",
       "1068775  3384.439917  2469.294647      0.918932           3.057070   \n",
       "1068776  3263.923953  2472.377160      0.892275           7.652198   \n",
       "\n",
       "         lab1_FDCHI2_OWNPV  lab0_CHI2NDOF_DTF_Xic  lab3_ProbNNk      lab0_PT  \\\n",
       "0               324.050236               2.601928      0.976817  5231.324358   \n",
       "1               328.347398               3.002620      0.301009  5818.262669   \n",
       "2               144.068836               9.820177      0.991262  5367.397287   \n",
       "3                41.432774               1.947516      0.485345  5345.653207   \n",
       "4                41.432774               2.010060      0.485345  5376.485972   \n",
       "...                    ...                    ...           ...          ...   \n",
       "1068772         275.082043               6.223449      0.975301  3921.125727   \n",
       "1068773         275.082043               5.625250      0.975301  3700.094527   \n",
       "1068774         268.320422               2.214079      0.880667  4262.244574   \n",
       "1068775          89.176439               0.791783      0.998145  6691.661145   \n",
       "1068776        9945.954068               3.139579      0.619790  5241.901467   \n",
       "\n",
       "                lab1_P  lab2_ProbNNe     Xic  \n",
       "0        140889.297418  9.039508e-06  2467.0  \n",
       "1         91955.241282  3.343199e-04  2467.0  \n",
       "2         31151.952951  1.992916e-07  2467.0  \n",
       "3         77779.209294  2.363602e-02  2467.0  \n",
       "4         77779.209294  2.363602e-02  2467.0  \n",
       "...                ...           ...     ...  \n",
       "1068772   87620.765603  5.301443e-05  2467.0  \n",
       "1068773   87620.765603  5.301443e-05  2467.0  \n",
       "1068774   44240.203561  2.566573e-06  2467.0  \n",
       "1068775   66256.820576  4.087395e-05  2467.0  \n",
       "1068776   71616.031551  2.357721e-06  2467.0  \n",
       "\n",
       "[1068777 rows x 11 columns]"
      ]
     },
     "execution_count": 48,
     "metadata": {},
     "output_type": "execute_result"
    }
   ],
   "source": []
  },
  {
   "cell_type": "code",
   "execution_count": 16,
   "id": "00dadf4c",
   "metadata": {},
   "outputs": [
    {
     "data": {
      "application/vnd.jupyter.widget-view+json": {
       "model_id": "cf34734aa7ef421d99c9ca99307056fe",
       "version_major": 2,
       "version_minor": 0
      },
      "text/plain": [
       "Canvas(toolbar=Toolbar(toolitems=[('Home', 'Reset original view', 'home', 'home'), ('Back', 'Back to previous …"
      ]
     },
     "metadata": {},
     "output_type": "display_data"
    }
   ],
   "source": [
    "fig = plt.figure()\n",
    "  \n",
    "axes1 = plt.subplot2grid((4, 4), (0, 0),\n",
    "                         colspan = 4)\n",
    "  \n",
    "axes2 = plt.subplot2grid((4, 4), (1, 0),\n",
    "                         colspan = 3)\n",
    "  \n",
    "axes3 = plt.subplot2grid((4, 4), (1, 2), \n",
    "                         rowspan = 3)\n",
    "  \n",
    "axes4 = plt.subplot2grid((4, 4), (2, 0))\n",
    "axes5 = plt.subplot2grid((4, 4), (2, 1))\n",
    "  \n",
    "fig.tight_layout()"
   ]
  },
  {
   "cell_type": "code",
   "execution_count": 32,
   "id": "4e45d23c",
   "metadata": {},
   "outputs": [
    {
     "data": {
      "application/vnd.jupyter.widget-view+json": {
       "model_id": "e22d41a581ff4053b2da26f6f2b69738",
       "version_major": 2,
       "version_minor": 0
      },
      "text/plain": [
       "Canvas(toolbar=Toolbar(toolitems=[('Home', 'Reset original view', 'home', 'home'), ('Back', 'Back to previous …"
      ]
     },
     "metadata": {},
     "output_type": "display_data"
    }
   ],
   "source": [
    "fig = plt.figure()\n",
    "\n",
    "a1 = plt.subplot2grid((4,4),(2,3),colspan = 2)\n",
    "a2 = plt.subplot2grid((4,4),(0,3), rowspan = 2, colspan = 1)\n",
    "a3 = plt.subplot2grid((4,4),(0,0),rowspan = 4, colspan = 3)\n",
    "\n",
    "  \n",
    "fig.tight_layout()\n",
    "\n",
    "x = np.arange(1,10)\n",
    "a2.plot(x, x*x)\n",
    "a2.set_title('square')\n",
    "a1.plot(x, np.exp(x))\n",
    "a1.set_title('exp')\n",
    "a3.plot(x, np.log(x))\n",
    "a3.set_title('log')\n",
    "plt.tight_layout()\n",
    "plt.show()\n",
    "\n"
   ]
  },
  {
   "cell_type": "code",
   "execution_count": null,
   "id": "5a0068c3",
   "metadata": {},
   "outputs": [],
   "source": []
  },
  {
   "cell_type": "code",
   "execution_count": 64,
   "id": "695c3b8d",
   "metadata": {},
   "outputs": [
    {
     "data": {
      "application/vnd.jupyter.widget-view+json": {
       "model_id": "b3d045f2c67040ed858200d78f051222",
       "version_major": 2,
       "version_minor": 0
      },
      "text/plain": [
       "Canvas(toolbar=Toolbar(toolitems=[('Home', 'Reset original view', 'home', 'home'), ('Back', 'Back to previous …"
      ]
     },
     "metadata": {},
     "output_type": "display_data"
    }
   ],
   "source": [
    "fig = plt.figure()\n",
    "\n",
    "ax = plt.subplot2grid((6,10),(0,0),colspan = 4, rowspan = 5)\n",
    "bx = plt.subplot2grid((6,10),(0,4),colspan = 3, rowspan = 2)\n",
    "cx = plt.subplot2grid((6,10),(3,4),colspan = 3, rowspan = 2)\n",
    "dx = plt.subplot2grid((6,10),(0,7),colspan = 3, rowspan = 2)\n",
    "ex = plt.subplot2grid((6,10),(3,7),colspan = 3, rowspan = 2)\n"
   ]
  },
  {
   "cell_type": "code",
   "execution_count": 91,
   "id": "34c57044",
   "metadata": {},
   "outputs": [],
   "source": [
    "def gauss_lbg(x, par): #we assume that bin width is 1 by default\n",
    "    # par[0]\tbackground constant\n",
    "    # par[1]\tbackground slope\n",
    "    # par[2]\tgauss width\n",
    "    # par[3]\tgauss constant\n",
    "    # par[4]\tgauss mean\n",
    "    sqrt2pi , sqrt2 = np.sqrt(2*np.pi) , np.sqrt(2)\n",
    "    if par[2] == 0: par[2]=1\n",
    "    arg = (x[0] - par[4])/(sqrt2*par[2])\n",
    "    return par[0] + x[0]*par[1] + 1/(sqrt2pi*par[2]) * par[3] * np.exp(-arg*arg)\n",
    "\n",
    "\n",
    "\n",
    "gauss_linbg_fit = ROOT.TF1('gauss_linbg_fit','[0] + x*[1] + 1/(TMath::Sqrt(2*TMath::Pi())*[2]) * [3] * TMath::Exp(-((x - [4])/(TMath::Sqrt(2.)*[2]))*((x - [4])/(TMath::Sqrt(2.)*[2])))', 2455, 2480)"
   ]
  },
  {
   "cell_type": "code",
   "execution_count": null,
   "id": "aa910438",
   "metadata": {},
   "outputs": [],
   "source": [
    "xmin = 2420\n",
    "xmax = 2510\n",
    "\n",
    "cu1 = input(\"Wert für Cut1 angeben: \")\n",
    "cu2 = input(\"Wert für Cut2 angeben: \")\n",
    "cu3 = input(\"Wert für Cut3 angeben: \")\n",
    "cu4 = input(\"Wert für Cut4 angeben: \")\n",
    "cu5 = input(\"Wert für Cut5 angeben: \")\n",
    "\n",
    "cut11 = ROOT.TCut(\"lab2_ProbNNe>{}\".format(cu1))\n",
    "cut12 = ROOT.TCut(\"lab2_ProbNNp>{}\".format(cu2))\n",
    "cut13 = ROOT.TCut(\"log(lab1_IPCHI2_OWNPV)<{}\".format(cu3))\n",
    "cut14 = ROOT.TCut(\"lab1_FDCHI2_OWNPV>{}\".format(cu4))\n",
    "cut15 = ROOT.TCut(\"lab1_P>{}\".format(cu5))\n",
    "cut10 = ROOT.TCut(cut11+cut12+cut13+cut14+cut15)\n",
    "\n",
    "f1 = ROOT.TF1(\"f1\", [0] * x +[1])\n",
    "\n",
    "\n",
    "h1 = ROOT.TH1F(\"h1\", \"#Xi_{c}^{+}\", 100, xmin, xmax)\n",
    "tree.Draw(\"lab1_M>>h1\", cut10)\n",
    "c1 = ROOT.TCanvas(\"myCanvasName\",\"Titel\",800,600)\n",
    "h1.Draw()\n",
    "h1.Fit(\"f1\")\n",
    "%jsroot\n",
    "c1.Draw()\n",
    "h1.GetXaxis().SetTitle(\"m(p K^{-} #pi^{+}) [MeV]\")\n",
    "h1.GetYaxis().SetTitle(\"Eintr#ddot{a}ge pro MeV [1/MeV]\")"
   ]
  },
  {
   "cell_type": "code",
   "execution_count": 73,
   "id": "a347170c",
   "metadata": {},
   "outputs": [],
   "source": [
    "class myGaus:\n",
    "    def __call__( self, t, par ):\n",
    "        a = par[0] #amplitude\n",
    "        c = par[1] #center\n",
    "        s = par[2] #sigma\n",
    "        x = t[0]   \n",
    "        tmp = -1.*(x-c)*(x-c)/2. /(s*s)\n",
    "        return a * math.exp( tmp )"
   ]
  },
  {
   "cell_type": "code",
   "execution_count": 36,
   "id": "cafaf2a7",
   "metadata": {},
   "outputs": [
    {
     "data": {
      "application/vnd.jupyter.widget-view+json": {
       "model_id": "c520639cadf94c799dfac40c687fdef2",
       "version_major": 2,
       "version_minor": 0
      },
      "text/plain": [
       "Canvas(toolbar=Toolbar(toolitems=[('Home', 'Reset original view', 'home', 'home'), ('Back', 'Back to previous …"
      ]
     },
     "metadata": {},
     "output_type": "display_data"
    }
   ],
   "source": [
    "fig = plt.figure()\n",
    "fig.set_size_inches(10, 6)\n",
    "fig.canvas.header_visible = False\n",
    "\n",
    "ax = plt.subplot2grid((12,16),(0,1),colspan = 5, rowspan = 5)\n",
    "bx = plt.subplot2grid((12,16),(6,1),colspan = 5, rowspan = 5)\n",
    "cx = plt.subplot2grid((12,16),(0,7),colspan = 3, rowspan = 3)\n",
    "dx = plt.subplot2grid((12,16),(4,7),colspan = 3, rowspan = 3)\n",
    "ex = plt.subplot2grid((12,16),(8,7),colspan = 3, rowspan = 3)\n",
    "fx = plt.subplot2grid((12,16),(0,11),colspan = 3, rowspan = 3)\n",
    "gx = plt.subplot2grid((12,16),(4,11),colspan = 3, rowspan = 3)\n",
    "hx = plt.subplot2grid((12,16),(8,11),colspan = 3, rowspan = 3)\n",
    "\n",
    "\n",
    "plt.tight_layout()"
   ]
  },
  {
   "cell_type": "code",
   "execution_count": 17,
   "id": "2454793b",
   "metadata": {},
   "outputs": [
    {
     "data": {
      "application/vnd.jupyter.widget-view+json": {
       "model_id": "a38d3a0c968d4b808bc7e84fecdba95e",
       "version_major": 2,
       "version_minor": 0
      },
      "text/plain": [
       "Canvas(toolbar=Toolbar(toolitems=[('Home', 'Reset original view', 'home', 'home'), ('Back', 'Back to previous …"
      ]
     },
     "metadata": {},
     "output_type": "display_data"
    }
   ],
   "source": [
    "%matplotlib widget\n",
    "\n",
    "df = df.assign(Xic= df[\"lab0_M\"] * 0 + 2467.89)\n",
    "gf = gf.assign(Xic= gf[\"lab0_M\"] * 0 + 2467.89)\n",
    "\n",
    "\n",
    "fig = plt.figure()\n",
    "fig.set_size_inches(10, 6)\n",
    "fig.canvas.header_visible = False\n",
    "\n",
    "ax = plt.subplot2grid((12,16),(0,1),colspan = 5, rowspan = 5)\n",
    "bx = plt.subplot2grid((12,16),(6,1),colspan = 5, rowspan = 5)\n",
    "cx = plt.subplot2grid((12,16),(0,7),colspan = 3, rowspan = 3)\n",
    "dx = plt.subplot2grid((12,16),(4,7),colspan = 3, rowspan = 3)\n",
    "ex = plt.subplot2grid((12,16),(8,7),colspan = 3, rowspan = 3)\n",
    "fx = plt.subplot2grid((12,16),(0,11),colspan = 3, rowspan = 3)\n",
    "gx = plt.subplot2grid((12,16),(4,11),colspan = 3, rowspan = 3)\n",
    "hx = plt.subplot2grid((12,16),(8,11),colspan = 3, rowspan = 3)\n",
    "\n",
    "\n",
    "plt.tight_layout()\n",
    "\n",
    "@widgets.interact(Cut2=(0,0.97, 0.05), Cut3=(0.1,11,0.1), Cut4=(0,1000,5), Cut6=(0,30,0.25), Cut7=(0,1,0.05), Cut8=(0,20000,100))\n",
    "def update(Cut2=0, Cut3=11, Cut4=0, Cut6=30, Cut7=0, Cut8=0):\n",
    "    ax.cla()\n",
    "    bx.cla()\n",
    "    cx.cla()\n",
    "    dx.cla()\n",
    "    ex.cla()\n",
    "    fx.cla()\n",
    "    gx.cla()\n",
    "    hx.cla()\n",
    "    ix.cla()\n",
    "    \n",
    "    ax.set_title(\"Masse Omega_c\")\n",
    "    ax.set_ylabel(\"Einträge\")\n",
    "    ax.set_xlabel(\"Masse in MeV\")\n",
    "    \n",
    "    bx.set_title(\"Masse Xi_c\")\n",
    "    bx.set_ylabel(\"Einträge\")\n",
    "    bx.set_xlabel(\"Masse in MeV\")\n",
    "    \n",
    "    cx.set_title(\"\")\n",
    "    cx.set_ylabel(\"Einträge\")\n",
    "    cx.set_xlabel(\"Wahrscheinlichkeit für Proton\")\n",
    "    \n",
    "    dx.set_title(\"\")\n",
    "    dx.set_ylabel(\"Einträge\")\n",
    "    dx.set_xlabel(\"impact parameter chi2 of Xic candidate with respect to the PV\")\n",
    "    dx.set_yscale(\"log\")\n",
    "    \n",
    "    ex.set_title(\"\")\n",
    "    ex.set_ylabel(\"Einträge\")\n",
    "    ex.set_xlabel(\"Flightdistance own PV lab1\")\n",
    "    \n",
    "    fx.set_title(\"\")\n",
    "    fx.set_ylabel(\"Einträge\")\n",
    "    fx.set_xlabel(\"Impuls lab1\")\n",
    "    \n",
    "    gx.set_title(\"\")\n",
    "    gx.set_ylabel(\"Einträge\")\n",
    "    gx.set_xlabel(\"lab0_CHI2NDOF_DTF_Xic\")\n",
    "\n",
    "    hx.set_title(\"\")\n",
    "    hx.set_ylabel(\"Einträge\")\n",
    "    hx.set_xlabel(\"Wahrscheinlichkeit für Kaon\")\n",
    "    \n",
    "    ix.set_title(\"\")\n",
    "    ix.set_ylabel(\"Einträge\")\n",
    "    ix.set_xlabel(\"Transversalimpuls für lab0\")\n",
    "        \n",
    "    ax.hist(df[\"lab0_M\"]-df[\"lab1_M\"]+df[\"Xic\"][df[\"lab2_ProbNNp\"]>Cut2][df[\"lab1_IPCHI2_OWNPV\"]<Cut3][df[\"lab1_FDCHI2_OWNPV\"]>Cut4][df[\"lab0_CHI2NDOF_DTF_Xic\"]<Cut6][df[\"lab3_ProbNNk\"]>Cut7][df[\"lab0_PT\"]>Cut8], bins=100, range =(2980,3150), color = \"green\")\n",
    "    bx.hist(gf[\"lab0_M\"]-gf[\"lab1_M\"]+gf[\"Xic\"][gf[\"lab2_ProbNNp\"]>Cut2][gf[\"lab1_IPCHI2_OWNPV\"]<Cut3][gf[\"lab1_FDCHI2_OWNPV\"]>Cut4][gf[\"lab0_CHI2NDOF_DTF_Xic\"]<Cut6][gf[\"lab3_ProbNNk\"]>Cut7][gf[\"lab0_PT\"]>Cut8], bins=100, range =(2980,3150), color = \"darkgreen\")\n",
    "    cx.hist(df[\"lab2_ProbNNp\"][df[\"lab2_ProbNNp\"]>Cut2], bins=100, range =(0,1))\n",
    "    dx.hist(df[\"lab1_IPCHI2_OWNPV\"][df[\"lab1_IPCHI2_OWNPV\"]<Cut3], bins=100, range =(0,11))\n",
    "    ex.hist(df[\"lab1_FDCHI2_OWNPV\"][df[\"lab1_FDCHI2_OWNPV\"]>Cut4], bins=100, range =(0,500))\n",
    "    gx.hist(df[\"lab0_CHI2NDOF_DTF_Xic\"][df[\"lab0_CHI2NDOF_DTF_Xic\"]<Cut6], bins=100, range =(0,30))\n",
    "    hx.hist(df[\"lab3_ProbNNk\"][df[\"lab3_ProbNNk\"]>Cut7], bins=100, range =(0,1))\n",
    "    ix.hist(df[\"lab0_PT\"][df[\"lab0_PT\"]>Cut8], bins=100, range =(0,20000))"
   ]
  },
  {
   "cell_type": "code",
   "execution_count": 26,
   "id": "60380203",
   "metadata": {},
   "outputs": [
    {
     "data": {
      "application/vnd.jupyter.widget-view+json": {
       "model_id": "8435be2e7b1d40c1be2df9d3d7181074",
       "version_major": 2,
       "version_minor": 0
      },
      "text/plain": [
       "FloatSlider(value=0.0, continuous_update=False, description='Test:', max=10.0, readout_format='.1f')"
      ]
     },
     "metadata": {},
     "output_type": "display_data"
    }
   ],
   "source": [
    "widgets.FloatSlider(\n",
    "    value=0,\n",
    "    min=0,\n",
    "    max=10.0,\n",
    "    step=0.1,\n",
    "    description='Test:',\n",
    "    disabled=False,\n",
    "    continuous_update=False,\n",
    "    orientation='horizontal',\n",
    "    readout=True,\n",
    "    readout_format='.1f',\n",
    ")\n",
    "widgets.FloatSlider(\n",
    "    value=0,\n",
    "    min=0,\n",
    "    max=10.0,\n",
    "    step=0.1,\n",
    "    description='Test:',\n",
    "    disabled=False,\n",
    "    continuous_update=False,\n",
    "    orientation='horizontal',\n",
    "    readout=True,\n",
    "    readout_format='.1f',\n",
    ")\n",
    "widgets.FloatSlider(\n",
    "    value=0,\n",
    "    min=0,\n",
    "    max=10.0,\n",
    "    step=0.1,\n",
    "    description='Test:',\n",
    "    disabled=False,\n",
    "    continuous_update=False,\n",
    "    orientation='horizontal',\n",
    "    readout=True,\n",
    "    readout_format='.1f',\n",
    ")\n",
    "widgets.FloatSlider(\n",
    "    value=0,\n",
    "    min=0,\n",
    "    max=10.0,\n",
    "    step=0.1,\n",
    "    description='Test:',\n",
    "    disabled=False,\n",
    "    continuous_update=False,\n",
    "    orientation='horizontal',\n",
    "    readout=True,\n",
    "    readout_format='.1f',\n",
    ")"
   ]
  },
  {
   "cell_type": "code",
   "execution_count": 90,
   "id": "7860046a",
   "metadata": {},
   "outputs": [
    {
     "data": {
      "application/vnd.jupyter.widget-view+json": {
       "model_id": "3d23e7f69c1b4b95b174cad7f573e03a",
       "version_major": 2,
       "version_minor": 0
      },
      "text/plain": [
       "Canvas(toolbar=Toolbar(toolitems=[('Home', 'Reset original view', 'home', 'home'), ('Back', 'Back to previous …"
      ]
     },
     "metadata": {},
     "output_type": "display_data"
    },
    {
     "data": {
      "application/vnd.jupyter.widget-view+json": {
       "model_id": "346515d6514a46f3a649a2a4c1f7d26e",
       "version_major": 2,
       "version_minor": 0
      },
      "text/plain": [
       "Label(value='Cut1: Test')"
      ]
     },
     "metadata": {},
     "output_type": "display_data"
    },
    {
     "data": {
      "application/vnd.jupyter.widget-view+json": {
       "model_id": "8e4378470e384f59898651d71bf6015c",
       "version_major": 2,
       "version_minor": 0
      },
      "text/plain": [
       "FloatSlider(value=0.0, continuous_update=False, max=1.0, step=0.01)"
      ]
     },
     "metadata": {},
     "output_type": "display_data"
    },
    {
     "data": {
      "application/vnd.jupyter.widget-view+json": {
       "model_id": "0af83d6cb8e64eaba4893e4e9a1ffa7e",
       "version_major": 2,
       "version_minor": 0
      },
      "text/plain": [
       "Label(value='Cut2: Test')"
      ]
     },
     "metadata": {},
     "output_type": "display_data"
    },
    {
     "data": {
      "application/vnd.jupyter.widget-view+json": {
       "model_id": "567f70814cd840298eea2ac7480e460b",
       "version_major": 2,
       "version_minor": 0
      },
      "text/plain": [
       "FloatSlider(value=0.0, continuous_update=False, max=1.0, step=0.01)"
      ]
     },
     "metadata": {},
     "output_type": "display_data"
    },
    {
     "data": {
      "application/vnd.jupyter.widget-view+json": {
       "model_id": "1b7b4696056348f9a32b8efbe74c9a10",
       "version_major": 2,
       "version_minor": 0
      },
      "text/plain": [
       "Label(value='Cut3: Test')"
      ]
     },
     "metadata": {},
     "output_type": "display_data"
    },
    {
     "data": {
      "application/vnd.jupyter.widget-view+json": {
       "model_id": "087d8b3d35c3448aabc4c74f887f64a2",
       "version_major": 2,
       "version_minor": 0
      },
      "text/plain": [
       "FloatSlider(value=30.0, continuous_update=False, max=30.0, step=0.5)"
      ]
     },
     "metadata": {},
     "output_type": "display_data"
    },
    {
     "data": {
      "application/vnd.jupyter.widget-view+json": {
       "model_id": "ebd2f358fc444ad39934288486e35790",
       "version_major": 2,
       "version_minor": 0
      },
      "text/plain": [
       "Label(value='Cut4: Test')"
      ]
     },
     "metadata": {},
     "output_type": "display_data"
    },
    {
     "data": {
      "application/vnd.jupyter.widget-view+json": {
       "model_id": "7ab707382e12495b85a0ef921527ed75",
       "version_major": 2,
       "version_minor": 0
      },
      "text/plain": [
       "FloatSlider(value=0.0, continuous_update=False, max=500.0, step=2.0)"
      ]
     },
     "metadata": {},
     "output_type": "display_data"
    }
   ],
   "source": [
    "%matplotlib widget\n",
    "\n",
    "fig = plt.figure()\n",
    "fig.set_size_inches(10, 5)\n",
    "fig.canvas.header_visible = False\n",
    "\n",
    "ax = plt.subplot2grid((6,16),(0,1),colspan = 7, rowspan = 5)\n",
    "bx = plt.subplot2grid((6,16),(0,9),colspan = 3, rowspan = 2)\n",
    "cx = plt.subplot2grid((6,16),(3,9),colspan = 3, rowspan = 2)\n",
    "dx = plt.subplot2grid((6,16),(0,13),colspan = 3, rowspan = 2)\n",
    "ex = plt.subplot2grid((6,16),(3,13),colspan = 3, rowspan = 2)\n",
    "\n",
    "plt.tight_layout()\n",
    "\n",
    "\n",
    "\n",
    "lb1 = widgets.Label(\"Cut1: Test\")\n",
    "display(lb1)\n",
    "Cut1 = widgets.FloatSlider(value=0,min=0,max=1.0,step=0.01,disabled=False,continuous_update=False)\n",
    "display(Cut1)\n",
    "lb2 = widgets.Label(\"Cut2: Test\")\n",
    "display(lb2)\n",
    "Cut2 = widgets.FloatSlider(value=0,min=0,max=1.0,step=0.01,disabled=False,continuous_update=False)\n",
    "display(Cut2)\n",
    "lb3 = widgets.Label(\"Cut3: Test\")\n",
    "display(lb3)\n",
    "Cut3 = widgets.FloatSlider(value=30,min=0,max=30.0,step=0.5,disabled=False,continuous_update=False)\n",
    "display(Cut3)\n",
    "lb4 = widgets.Label(\"Cut4: Test\")\n",
    "display(lb4)\n",
    "Cut4 = widgets.FloatSlider(value=0,min=0,max=500.0,step=2,disabled=False,continuous_update=False)\n",
    "display(Cut4)\n",
    "def on_value_change(Cut1):\n",
    "    ax.cla()\n",
    "    bx.cla()\n",
    "    cx.cla()\n",
    "    dx.cla()\n",
    "    ex.cla()\n",
    "    \n",
    "    ax.set_title(\"$\\Xi_c^+$\")\n",
    "    ax.set_ylabel(\"Einträge pro MeV [$1/MeV$]\")\n",
    "    ax.set_xlabel(\"$m(pK^-\\pi^+)$ [$MeV$]\")\n",
    "    \n",
    "    bx.set_title(\"\")\n",
    "    bx.set_ylabel(\"Einträge\")\n",
    "    bx.set_xlabel(\"Wahrscheinlichkeit für Elektron\")\n",
    "    bx.set_yscale(\"log\")\n",
    "    \n",
    "    cx.set_title(\"\")\n",
    "    cx.set_ylabel(\"Einträge\")\n",
    "    cx.set_xlabel(\"Wahrscheinlichkeit für Proton\")\n",
    "    \n",
    "    dx.set_title(\"\")\n",
    "    dx.set_ylabel(\"Einträge\")\n",
    "    dx.set_xlabel(\"****\")\n",
    "    dx.set_yscale(\"log\")\n",
    "    \n",
    "    ex.set_title(\"\")\n",
    "    ex.set_ylabel(\"Einträge\")\n",
    "    ex.set_xlabel(\"***\")\n",
    "    \n",
    "    ax.hist(df[\"lab1_M\"], bins=100, range =(2420,2510), color = \"brown\")\n",
    "    ax.hist(df[\"lab1_M\"][df[\"lab2_ProbNNe\"]>Cut1][df[\"lab2_ProbNNp\"]>Cut2][df[\"lab1_IPCHI2_OWNPV\"]<Cut3][df[\"lab1_FDCHI2_OWNPV\"]>Cut4], bins=100, range =(2420,2510), color = \"darkorange\")\n",
    "    bx.hist(df[\"lab2_ProbNNe\"][df[\"lab2_ProbNNe\"]>Cut1], bins=100, range =(0,1))\n",
    "    cx.hist(df[\"lab2_ProbNNp\"][df[\"lab2_ProbNNp\"]>Cut2], bins=100, range =(0,1))\n",
    "    dx.hist(df[\"lab1_IPCHI2_OWNPV\"][df[\"lab1_IPCHI2_OWNPV\"]<Cut3], bins=100, range =(0,11))\n",
    "    ex.hist(df[\"lab1_FDCHI2_OWNPV\"][df[\"lab1_FDCHI2_OWNPV\"]>Cut4], bins=100, range =(0,500))"
   ]
  },
  {
   "cell_type": "code",
   "execution_count": 114,
   "id": "a3a30cb3",
   "metadata": {
    "scrolled": false
   },
   "outputs": [
    {
     "data": {
      "application/vnd.jupyter.widget-view+json": {
       "model_id": "20e678a9f0554830bd0d94ba80a930a1",
       "version_major": 2,
       "version_minor": 0
      },
      "text/plain": [
       "Canvas(toolbar=Toolbar(toolitems=[('Home', 'Reset original view', 'home', 'home'), ('Back', 'Back to previous …"
      ]
     },
     "metadata": {},
     "output_type": "display_data"
    },
    {
     "data": {
      "application/vnd.jupyter.widget-view+json": {
       "model_id": "dcbe7538864c440da9c7c993109b443b",
       "version_major": 2,
       "version_minor": 0
      },
      "text/plain": [
       "interactive(children=(Label(value='Test bla bla', description='Text1'), FloatSlider(value=0.0, continuous_upda…"
      ]
     },
     "metadata": {},
     "output_type": "display_data"
    }
   ],
   "source": [
    "%matplotlib widget\n",
    "\n",
    "fig = plt.figure()\n",
    "fig.set_size_inches(10, 5)\n",
    "fig.canvas.header_visible = False\n",
    "\n",
    "ax = plt.subplot2grid((6,16),(0,1),colspan = 7, rowspan = 5)\n",
    "bx = plt.subplot2grid((6,16),(0,9),colspan = 3, rowspan = 2)\n",
    "cx = plt.subplot2grid((6,16),(3,9),colspan = 3, rowspan = 2)\n",
    "dx = plt.subplot2grid((6,16),(0,13),colspan = 3, rowspan = 2)\n",
    "ex = plt.subplot2grid((6,16),(3,13),colspan = 3, rowspan = 2)\n",
    "\n",
    "\n",
    "plt.tight_layout()\n",
    "\n",
    "#fig, ((ax,bx,cx),(dx,ex)) = plt.subplots(2,3)\n",
    "#fig.set_size_inches(16, 7)\n",
    "\n",
    "@widgets.interact(Text1 = widgets.Label(\"Test bla bla\"),Text2=widgets.Label(\"asdfpsakjflöaj\"),Cut1=FloatSlider(min = 0, max = 1, step = 0.05, description = \"Bedingung 1:\",continuous_update = False)) #, Cut2=(0,1,0.05), Cut3=(0.1,11,0.1), Cut4=(0,1000,5)\n",
    "def update(Text1,Cut1=0,  Cut2=0, Cut3=11, Cut4=0): #, Cut3=11, Cut4=0\n",
    "    \n",
    "    ax.cla()\n",
    "    bx.cla()\n",
    "    cx.cla()\n",
    "    dx.cla()\n",
    "    ex.cla()\n",
    "    \n",
    "    ax.set_title(\"$\\Xi_c^+$\")\n",
    "    ax.set_ylabel(\"Einträge pro MeV [$1/MeV$]\")\n",
    "    ax.set_xlabel(\"$m(pK^-\\pi^+)$ [$MeV$]\")\n",
    "    \n",
    "    bx.set_title(\"\")\n",
    "    bx.set_ylabel(\"Einträge\")\n",
    "    bx.set_xlabel(\"Wahrscheinlichkeit für Elektron\")\n",
    "    bx.set_yscale(\"log\")\n",
    "    \n",
    "    cx.set_title(\"\")\n",
    "    cx.set_ylabel(\"Einträge\")\n",
    "    cx.set_xlabel(\"Wahrscheinlichkeit für Proton\")\n",
    "    \n",
    "    dx.set_title(\"\")\n",
    "    dx.set_ylabel(\"Einträge\")\n",
    "    dx.set_xlabel(\"****\")\n",
    "    dx.set_yscale(\"log\")\n",
    "    \n",
    "    ex.set_title(\"\")\n",
    "    ex.set_ylabel(\"Einträge\")\n",
    "    ex.set_xlabel(\"***\")\n",
    "    \n",
    "    ax.hist(df[\"lab1_M\"], bins=100, range =(2420,2510), color = \"brown\")\n",
    "    ax.hist(df[\"lab1_M\"][df[\"lab2_ProbNNe\"]>Cut1][df[\"lab2_ProbNNp\"]>Cut2][df[\"lab1_IPCHI2_OWNPV\"]<Cut3][df[\"lab1_FDCHI2_OWNPV\"]>Cut4], bins=100, range =(2420,2510), color = \"darkorange\")\n",
    "    bx.hist(df[\"lab2_ProbNNe\"][df[\"lab2_ProbNNe\"]>Cut1], bins=100, range =(0,1))\n",
    "    cx.hist(df[\"lab2_ProbNNp\"][df[\"lab2_ProbNNp\"]>Cut2], bins=100, range =(0,1))\n",
    "    dx.hist(df[\"lab1_IPCHI2_OWNPV\"][df[\"lab1_IPCHI2_OWNPV\"]<Cut3], bins=100, range =(0,11))\n",
    "    ex.hist(df[\"lab1_FDCHI2_OWNPV\"][df[\"lab1_FDCHI2_OWNPV\"]>Cut4], bins=100, range =(0,500))"
   ]
  },
  {
   "cell_type": "code",
   "execution_count": 108,
   "id": "847a86a3",
   "metadata": {},
   "outputs": [
    {
     "data": {
      "application/vnd.jupyter.widget-view+json": {
       "model_id": "83a42a6d3dbc47e4bcab6b8a6a99672a",
       "version_major": 2,
       "version_minor": 0
      },
      "text/plain": [
       "Canvas(toolbar=Toolbar(toolitems=[('Home', 'Reset original view', 'home', 'home'), ('Back', 'Back to previous …"
      ]
     },
     "metadata": {},
     "output_type": "display_data"
    }
   ],
   "source": [
    "%matplotlib widget\n",
    "\n",
    "df = df.assign(Xic= df[\"lab0_M\"] * 0 + 2467.89)\n",
    "gf = gf.assign(Xic= gf[\"lab0_M\"] * 0 + 2467.89)\n",
    "\n",
    "\n",
    "fig = plt.figure()\n",
    "fig.set_size_inches(10, 6)\n",
    "fig.canvas.header_visible = False\n",
    "\n",
    "ax = plt.subplot2grid((12,14),(0,1),colspan = 5, rowspan = 5)\n",
    "bx = plt.subplot2grid((12,14),(6,1),colspan = 5, rowspan = 5)\n",
    "cx = plt.subplot2grid((12,14),(0,7),colspan = 3, rowspan = 3)\n",
    "dx = plt.subplot2grid((12,14),(4,7),colspan = 3, rowspan = 3)\n",
    "ex = plt.subplot2grid((12,14),(8,7),colspan = 3, rowspan = 3)\n",
    "fx = plt.subplot2grid((12,14),(0,11),colspan = 3, rowspan = 3)\n",
    "gx = plt.subplot2grid((12,14),(4,11),colspan = 3, rowspan = 3)\n",
    "hx = plt.subplot2grid((12,14),(8,11),colspan = 3, rowspan = 3)"
   ]
  },
  {
   "cell_type": "code",
   "execution_count": 254,
   "id": "6e4b239c",
   "metadata": {},
   "outputs": [
    {
     "name": "stdout",
     "output_type": "stream",
     "text": [
      "407986.42498478317\n",
      "Signal: 78386.3416429361\n",
      "Signal + Background: 196946.34158218425\n",
      "Purity: 0.3980086200800336\n",
      "Varianz: 6.595954612372771\n",
      " \n"
     ]
    },
    {
     "name": "stderr",
     "output_type": "stream",
     "text": [
      "Warning in <TFile::Append>: Replacing existing TH1: h1 (Potential memory leak).\n",
      "Warning in <TCanvas::Constructor>: Deleting canvas with same name: myCanvasName\n"
     ]
    },
    {
     "data": {
      "text/html": [
       "\n",
       "\n",
       "<div id=\"root_plot_1635210396577\"\n",
       "     style=\"width: 796px; height: 572px\">\n",
       "</div>\n",
       "<script>\n",
       "\n",
       "function display_root_plot_1635210396577(Core) {\n",
       "   let obj = Core.parse({\"_typename\":\"TCanvas\",\"fUniqueID\":0,\"fBits\":3342344,\"fLineColor\":1,\"fLineStyle\":1,\"fLineWidth\":1,\"fFillColor\":0,\"fFillStyle\":1001,\"fLeftMargin\":0.12,\"fRightMargin\":0.1,\"fBottomMargin\":0.1,\"fTopMargin\":0.1,\"fXfile\":2,\"fYfile\":2,\"fAfile\":1,\"fXstat\":0.99,\"fYstat\":0.99,\"fAstat\":2,\"fFrameFillColor\":0,\"fFrameLineColor\":1,\"fFrameFillStyle\":1001,\"fFrameLineStyle\":1,\"fFrameLineWidth\":1,\"fFrameBorderSize\":1,\"fFrameBorderMode\":0,\"fX1\":2408.74999916181,\"fY1\":-1273.91259491388,\"fX2\":2521.25000083819,\"fY2\":11465.2125949139,\"fXtoAbsPixelk\":-17043.2441345497,\"fXtoPixelk\":-17043.2441345497,\"fXtoPixel\":7.07555545012156,\"fYtoAbsPixelk\":514.800046590614,\"fYtoPixelk\":514.800046590614,\"fYtoPixel\":-0.0449010423774424,\"fUtoAbsPixelk\":5e-5,\"fUtoPixelk\":5e-5,\"fUtoPixel\":796,\"fVtoAbsPixelk\":572.00005,\"fVtoPixelk\":572,\"fVtoPixel\":-572,\"fAbsPixeltoXk\":2408.74999916181,\"fPixeltoXk\":2408.74999916181,\"fPixeltoX\":0.141331660397463,\"fAbsPixeltoYk\":11465.2125949139,\"fPixeltoYk\":-1273.91259491388,\"fPixeltoY\":-22.2711978843143,\"fXlowNDC\":0,\"fYlowNDC\":0,\"fXUpNDC\":1,\"fYUpNDC\":1,\"fWNDC\":1,\"fHNDC\":1,\"fAbsXlowNDC\":0,\"fAbsYlowNDC\":0,\"fAbsWNDC\":1,\"fAbsHNDC\":1,\"fUxmin\":2420,\"fUymin\":0,\"fUxmax\":2510,\"fUymax\":10191.3,\"fTheta\":30,\"fPhi\":30,\"fAspectRatio\":0,\"fNumber\":0,\"fTickx\":0,\"fTicky\":0,\"fLogx\":0,\"fLogy\":0,\"fLogz\":0,\"fPadPaint\":0,\"fCrosshair\":0,\"fCrosshairPos\":0,\"fBorderSize\":2,\"fBorderMode\":0,\"fModified\":true,\"fGridx\":false,\"fGridy\":false,\"fAbsCoord\":false,\"fEditable\":true,\"fFixedAspectRatio\":false,\"fPrimitives\":{\"_typename\":\"TList\",\"name\":\"TList\",\"arr\":[{\"_typename\":\"TFrame\",\"fUniqueID\":0,\"fBits\":8,\"fLineColor\":1,\"fLineStyle\":1,\"fLineWidth\":1,\"fFillColor\":0,\"fFillStyle\":1001,\"fX1\":2420,\"fY1\":0,\"fX2\":2510,\"fY2\":10191.3,\"fBorderSize\":1,\"fBorderMode\":0},{\"_typename\":\"TH1F\",\"fUniqueID\":0,\"fBits\":520,\"fName\":\"h1\",\"fTitle\":\"Kombination der Teilchen\",\"fLineColor\":602,\"fLineStyle\":1,\"fLineWidth\":1,\"fFillColor\":0,\"fFillStyle\":1001,\"fMarkerColor\":1,\"fMarkerStyle\":1,\"fMarkerSize\":1,\"fNcells\":102,\"fXaxis\":{\"_typename\":\"TAxis\",\"fUniqueID\":0,\"fBits\":0,\"fName\":\"xaxis\",\"fTitle\":\"m(p K^{-} #pi^{+}) [MeV]\",\"fNdivisions\":510,\"fAxisColor\":1,\"fLabelColor\":1,\"fLabelFont\":42,\"fLabelOffset\":0.005,\"fLabelSize\":0.035,\"fTickLength\":0.03,\"fTitleOffset\":1,\"fTitleSize\":0.035,\"fTitleColor\":1,\"fTitleFont\":42,\"fNbins\":100,\"fXmin\":2420,\"fXmax\":2510,\"fXbins\":[],\"fFirst\":0,\"fLast\":0,\"fBits2\":0,\"fTimeDisplay\":false,\"fTimeFormat\":\"\",\"fLabels\":null,\"fModLabs\":null},\"fYaxis\":{\"_typename\":\"TAxis\",\"fUniqueID\":0,\"fBits\":0,\"fName\":\"yaxis\",\"fTitle\":\"Eintr#ddot{a}ge pro 1.1MeV [1\\/1.1MeV]\",\"fNdivisions\":510,\"fAxisColor\":1,\"fLabelColor\":1,\"fLabelFont\":42,\"fLabelOffset\":0.005,\"fLabelSize\":0.035,\"fTickLength\":0.03,\"fTitleOffset\":0,\"fTitleSize\":0.035,\"fTitleColor\":1,\"fTitleFont\":42,\"fNbins\":1,\"fXmin\":0,\"fXmax\":1,\"fXbins\":[],\"fFirst\":0,\"fLast\":0,\"fBits2\":0,\"fTimeDisplay\":false,\"fTimeFormat\":\"\",\"fLabels\":null,\"fModLabs\":null},\"fZaxis\":{\"_typename\":\"TAxis\",\"fUniqueID\":0,\"fBits\":0,\"fName\":\"zaxis\",\"fTitle\":\"\",\"fNdivisions\":510,\"fAxisColor\":1,\"fLabelColor\":1,\"fLabelFont\":42,\"fLabelOffset\":0.005,\"fLabelSize\":0.035,\"fTickLength\":0.03,\"fTitleOffset\":1,\"fTitleSize\":0.035,\"fTitleColor\":1,\"fTitleFont\":42,\"fNbins\":1,\"fXmin\":0,\"fXmax\":1,\"fXbins\":[],\"fFirst\":0,\"fLast\":0,\"fBits2\":0,\"fTimeDisplay\":false,\"fTimeFormat\":\"\",\"fLabels\":null,\"fModLabs\":null},\"fBarOffset\":0,\"fBarWidth\":1000,\"fEntries\":640709,\"fTsumw\":544844,\"fTsumw2\":544844,\"fTsumwx\":1342669726.67714,\"fTsumwx2\":3309076079416.71,\"fMaximum\":-1111,\"fMinimum\":-1111,\"fNormFactor\":0,\"fContour\":[],\"fSumw2\":[],\"fOption\":\"\",\"fFunctions\":{\"_typename\":\"TList\",\"name\":\"TList\",\"arr\":[{\"_typename\":\"TF1\",\"fUniqueID\":0,\"fBits\":1024,\"fName\":\"f1\",\"fTitle\":\"[0] + x*[1] + [3] * exp(-(x - [4])^2\\/(2*[2]*[2]))+ [5] * exp(-(x - [7])^2\\/(2*[6]*[6]))\",\"fLineColor\":594,\"fLineStyle\":1,\"fLineWidth\":2,\"fFillColor\":19,\"fFillStyle\":0,\"fMarkerColor\":1,\"fMarkerStyle\":1,\"fMarkerSize\":1,\"fXmin\":2420,\"fXmax\":2510,\"fNpar\":8,\"fNdim\":1,\"fNpx\":100,\"fType\":0,\"fNpfits\":100,\"fNDF\":92,\"fChisquare\":278.159787873556,\"fMinimum\":-1111,\"fMaximum\":-1111,\"fParErrors\":[7.15958273560482,0.00290280568214007,0.0343808572373879,25.4462705598147,0.0434051507401421,0.424264068711929,1.4142135623731,1.4142135623731],\"fParMin\":[0,0,0,0,0,0,0,0],\"fParMax\":[0,0,0,0,0,0,0,0],\"fSave\":[5011.35333454654,5001.78991786449,4992.22650120225,4982.66308459065,4973.09966810595,4963.53625193319,4953.97283651252,4944.4094228702,4934.84601335163,4925.28261321064,4915.71923398113,4906.15590047693,4896.59266500786,4887.02963561883,4877.46703093966,4867.90528432937,4858.34523711234,4848.7884888274,4839.23801712605,4829.69924857757,4820.18186296099,4810.70275691767,4801.29078569632,4791.99414625889,4782.89155215117,4774.10865241338,4765.84140812112,4758.38827034365,4752.19287268724,4747.89839582892,4746.41359945212,4748.98858641185,4757.29557576101,4773.5063697339,4800.35407661728,4841.16254457271,4899.82371227328,4980.70177304963,5088.4448600312,5227.69092924205,5402.66523207907,5616.68203345321,5871.58180982382,6167.15467573724,6500.61787744433,6866.22596417239,7255.09299663784,7655.29424106261,8052.28950498653,8429.67338639437,8770.21364887152,9057.09428022494,9275.24222093854,9412.59357775415,9461.15174348599,9417.70835955083,9284.13667817653,9067.22000009455,8778.03705068245,8430.98178439973,8042.53824967679,7629.95532336631,7209.96847556514,6797.69737867547,6405.8137546967,6044.03031352825,5718.91671014293,5434.00913330268,5190.15149442283,4985.99070751423,4818.54614165054,4683.78177988207,4577.12542231072,4493.89850314516,4429.63919403058,4380.31777472442,4342.45522885986,4313.16321703334,4290.12640232639,4271.54750586983,4256.07262159562,4242.71034606436,4230.75409489786,4219.7132081711,4209.2554334112,4199.16122143147,4189.28891874836,4179.54924177611,4169.88719199006,4160.26964663523,4150.67709657089,4141.09830068591,4131.52692103444,4121.95946015756,4112.39402872516,4102.82962744703,4093.26573874758,4083.70210007352,4074.13858096402,4064.57511791323,4055.01168063341,2420,2510],\"fNormalized\":false,\"fNormIntegral\":0,\"fFormula\":{\"_typename\":\"TFormula\",\"fUniqueID\":0,\"fBits\":1024,\"fName\":\"f1\",\"fTitle\":\"[0] + x*[1] + [3] * exp(-(x - [4])^2\\/(2*[2]*[2]))+ [5] * exp(-(x - [7])^2\\/(2*[6]*[6]))\",\"fClingParameters\":[30726.3182233104,-10.6260185490789,6.59595461237277,4967.03237408628,2468.71908595201,-472574.740277519,0,2468],\"fAllParametersSetted\":true,\"fParams\":[{\"$pair\":\"pair<TString,int,TFormulaParamOrder>\",\"first\":\"p0\",\"second\":0},{\"$pair\":\"pair<TString,int,TFormulaParamOrder>\",\"first\":\"p1\",\"second\":1},{\"$pair\":\"pair<TString,int,TFormulaParamOrder>\",\"first\":\"p2\",\"second\":2},{\"$pair\":\"pair<TString,int,TFormulaParamOrder>\",\"first\":\"p3\",\"second\":3},{\"$pair\":\"pair<TString,int,TFormulaParamOrder>\",\"first\":\"p4\",\"second\":4},{\"$pair\":\"pair<TString,int,TFormulaParamOrder>\",\"first\":\"p5\",\"second\":5},{\"$pair\":\"pair<TString,int,TFormulaParamOrder>\",\"first\":\"p6\",\"second\":6},{\"$pair\":\"pair<TString,int,TFormulaParamOrder>\",\"first\":\"p7\",\"second\":7}],\"fFormula\":\"[p0]+x*[p1]+[p3]*exp(-pow((x-[p4]),2)\\/(2*[p2]*[p2]))+[p5]*exp(-pow((x-[p7]),2)\\/(2*[p6]*[p6]))\",\"fNdim\":1,\"fLinearParts\":[],\"fVectorized\":false},\"fParams\":null,\"fComposition\":null}],\"opt\":[\"\"]},\"fBufferSize\":0,\"fBuffer\":[],\"fBinStatErrOpt\":0,\"fStatOverflows\":2,\"fArray\":[39139,4962,4901,4888,4826,4928,4802,4792,4821,4864,4921,4798,4801,4775,4927,5075,4867,4845,4731,4879,4884,4899,4792,4803,4770,4957,4881,4777,4803,4649,4875,4942,4828,4790,4894,4920,4847,5146,5147,5210,5412,5624,5797,5909,6424,6565,6792,7354,7786,8096,8614,8957,9022,9580,9706,9626,9320,9310,9074,8671,8207,7648,7329,6848,6564,6061,5884,5448,5260,5232,5005,4834,4784,4727,4516,4528,4416,4580,4277,4259,4175,4550,4134,4138,4074,4348,4325,4270,4048,3980,4181,4007,4191,4073,4110,4141,3832,4067,4037,3909,3991,56726]},{\"_typename\":\"TF1\",\"fUniqueID\":0,\"fBits\":8,\"fName\":\"f21\",\"fTitle\":\"30726.318223310416+x*-10.626018549078902\",\"fLineColor\":1,\"fLineStyle\":4,\"fLineWidth\":2,\"fFillColor\":19,\"fFillStyle\":0,\"fMarkerColor\":1,\"fMarkerStyle\":1,\"fMarkerSize\":1,\"fXmin\":0,\"fXmax\":2510,\"fNpar\":0,\"fNdim\":1,\"fNpx\":100,\"fType\":0,\"fNpfits\":0,\"fNDF\":0,\"fChisquare\":0,\"fMinimum\":-1111,\"fMaximum\":-1111,\"fParErrors\":[],\"fParMin\":[],\"fParMax\":[],\"fSave\":[],\"fNormalized\":false,\"fNormIntegral\":0,\"fFormula\":{\"_typename\":\"TFormula\",\"fUniqueID\":0,\"fBits\":1024,\"fName\":\"f21\",\"fTitle\":\"30726.318223310416+x*-10.626018549078902\",\"fClingParameters\":[],\"fAllParametersSetted\":true,\"fParams\":[],\"fFormula\":\"30726.318223310416+x*-10.626018549078902\",\"fNdim\":1,\"fLinearParts\":[],\"fVectorized\":false},\"fParams\":null,\"fComposition\":null},{\"_typename\":\"TF1\",\"fUniqueID\":0,\"fBits\":8,\"fName\":\"f22\",\"fTitle\":\"4967.0323740862805 * exp(-(x - 2468.719085952012)^2\\/(2*6.595954612372771*6.595954612372771))+ -472574.7402775187 * exp(-(x - 2468.0)^2\\/(2*0.0*0.0))\",\"fLineColor\":602,\"fLineStyle\":1,\"fLineWidth\":3,\"fFillColor\":19,\"fFillStyle\":0,\"fMarkerColor\":1,\"fMarkerStyle\":1,\"fMarkerSize\":1,\"fXmin\":2420,\"fXmax\":2510,\"fNpar\":0,\"fNdim\":1,\"fNpx\":100,\"fType\":0,\"fNpfits\":0,\"fNDF\":0,\"fChisquare\":0,\"fMinimum\":-1111,\"fMaximum\":-1111,\"fParErrors\":[],\"fParMin\":[],\"fParMax\":[],\"fSave\":[],\"fNormalized\":false,\"fNormIntegral\":0,\"fFormula\":{\"_typename\":\"TFormula\",\"fUniqueID\":0,\"fBits\":1024,\"fName\":\"f22\",\"fTitle\":\"4967.0323740862805 * exp(-(x - 2468.719085952012)^2\\/(2*6.595954612372771*6.595954612372771))+ -472574.7402775187 * exp(-(x - 2468.0)^2\\/(2*0.0*0.0))\",\"fClingParameters\":[],\"fAllParametersSetted\":true,\"fParams\":[],\"fFormula\":\"4967.0323740862805*exp(-pow((x-2468.719085952012),2)\\/(2*6.595954612372771*6.595954612372771))+-472574.7402775187*exp(-pow((x-2468.0),2)\\/(2*0.0*0.0))\",\"fNdim\":1,\"fLinearParts\":[],\"fVectorized\":false},\"fParams\":null,\"fComposition\":null},{\"_typename\":\"TF1\",\"fUniqueID\":0,\"fBits\":8,\"fName\":\"f23\",\"fTitle\":\"30726.318223310416+x*-10.626018549078902 +4967.0323740862805 * exp(-(x - 2468.719085952012)^2\\/(2*6.595954612372771*6.595954612372771))+ -472574.7402775187 * exp(-(x - 2468.0)^2\\/(2*0.0*0.0))\",\"fLineColor\":1,\"fLineStyle\":4,\"fLineWidth\":2,\"fFillColor\":19,\"fFillStyle\":0,\"fMarkerColor\":1,\"fMarkerStyle\":1,\"fMarkerSize\":1,\"fXmin\":2420,\"fXmax\":2510,\"fNpar\":0,\"fNdim\":1,\"fNpx\":100,\"fType\":0,\"fNpfits\":0,\"fNDF\":0,\"fChisquare\":0,\"fMinimum\":-1111,\"fMaximum\":-1111,\"fParErrors\":[],\"fParMin\":[],\"fParMax\":[],\"fSave\":[],\"fNormalized\":false,\"fNormIntegral\":0,\"fFormula\":{\"_typename\":\"TFormula\",\"fUniqueID\":0,\"fBits\":1024,\"fName\":\"f23\",\"fTitle\":\"30726.318223310416+x*-10.626018549078902 +4967.0323740862805 * exp(-(x - 2468.719085952012)^2\\/(2*6.595954612372771*6.595954612372771))+ -472574.7402775187 * exp(-(x - 2468.0)^2\\/(2*0.0*0.0))\",\"fClingParameters\":[],\"fAllParametersSetted\":true,\"fParams\":[],\"fFormula\":\"30726.318223310416+x*-10.626018549078902+4967.0323740862805*exp(-pow((x-2468.719085952012),2)\\/(2*6.595954612372771*6.595954612372771))+-472574.7402775187*exp(-pow((x-2468.0),2)\\/(2*0.0*0.0))\",\"fNdim\":1,\"fLinearParts\":[],\"fVectorized\":false},\"fParams\":null,\"fComposition\":null},{\"_typename\":\"TPaveText\",\"fUniqueID\":0,\"fBits\":9,\"fLineColor\":1,\"fLineStyle\":1,\"fLineWidth\":1,\"fFillColor\":0,\"fFillStyle\":0,\"fX1\":2438.78863026269,\"fY1\":10700.8651338286,\"fX2\":2491.21136973731,\"fY2\":11401.5170297096,\"fX1NDC\":0.267010050251256,\"fY1NDC\":0.940000003948808,\"fX2NDC\":0.732989949748744,\"fY2NDC\":0.995000004768372,\"fBorderSize\":0,\"fInit\":1,\"fShadowColor\":1,\"fCornerRadius\":0,\"fOption\":\"blNDC\",\"fName\":\"title\",\"fTextAngle\":0,\"fTextSize\":0,\"fTextAlign\":22,\"fTextColor\":1,\"fTextFont\":42,\"fLabel\":\"\",\"fLongest\":24,\"fMargin\":0.05,\"fLines\":{\"_typename\":\"TList\",\"name\":\"TList\",\"arr\":[{\"_typename\":\"TLatex\",\"fUniqueID\":0,\"fBits\":0,\"fName\":\"\",\"fTitle\":\"Kombination der Teilchen\",\"fTextAngle\":0,\"fTextSize\":0,\"fTextAlign\":0,\"fTextColor\":0,\"fTextFont\":0,\"fX\":0,\"fY\":0,\"fLineColor\":1,\"fLineStyle\":1,\"fLineWidth\":2,\"fLimitFactorSize\":3,\"fOriginSize\":0.0467500016093254}],\"opt\":[\"\"]}},{\"_typename\":\"TLegend\",\"fUniqueID\":0,\"fBits\":8,\"fLineColor\":1,\"fLineStyle\":1,\"fLineWidth\":1,\"fFillColor\":0,\"fFillStyle\":1001,\"fX1\":0.8,\"fY1\":0.7,\"fX2\":0.99,\"fY2\":0.99,\"fX1NDC\":0,\"fY1NDC\":0,\"fX2NDC\":0,\"fY2NDC\":0,\"fBorderSize\":1,\"fInit\":0,\"fShadowColor\":1,\"fCornerRadius\":0,\"fOption\":\"brNDC\",\"fName\":\"TPave\",\"fTextAngle\":0,\"fTextSize\":0,\"fTextAlign\":12,\"fTextColor\":1,\"fTextFont\":42,\"fPrimitives\":{\"_typename\":\"TList\",\"name\":\"TList\",\"arr\":[{\"_typename\":\"TLegendEntry\",\"fUniqueID\":0,\"fBits\":0,\"fTextAngle\":0,\"fTextSize\":0,\"fTextAlign\":0,\"fTextColor\":0,\"fTextFont\":0,\"fLineColor\":1,\"fLineStyle\":1,\"fLineWidth\":1,\"fFillColor\":0,\"fFillStyle\":0,\"fMarkerColor\":1,\"fMarkerStyle\":21,\"fMarkerSize\":1,\"fObject\":{\"$ref\":3},\"fLabel\":\"Daten\",\"fOption\":\"l\"},{\"_typename\":\"TLegendEntry\",\"fUniqueID\":0,\"fBits\":0,\"fTextAngle\":0,\"fTextSize\":0,\"fTextAlign\":0,\"fTextColor\":0,\"fTextFont\":0,\"fLineColor\":1,\"fLineStyle\":1,\"fLineWidth\":1,\"fFillColor\":0,\"fFillStyle\":0,\"fMarkerColor\":1,\"fMarkerStyle\":21,\"fMarkerSize\":1,\"fObject\":{\"$ref\":14},\"fLabel\":\"Hintergrund\",\"fOption\":\"l\"},{\"_typename\":\"TLegendEntry\",\"fUniqueID\":0,\"fBits\":0,\"fTextAngle\":0,\"fTextSize\":0,\"fTextAlign\":0,\"fTextColor\":0,\"fTextFont\":0,\"fLineColor\":1,\"fLineStyle\":1,\"fLineWidth\":1,\"fFillColor\":0,\"fFillStyle\":0,\"fMarkerColor\":1,\"fMarkerStyle\":21,\"fMarkerSize\":1,\"fObject\":{\"$ref\":12},\"fLabel\":\"Signal\",\"fOption\":\"l\"}],\"opt\":[\"l\",\"l\",\"l\"]},\"fEntrySeparation\":0.1,\"fMargin\":0.25,\"fNColumns\":1,\"fColumnSeparation\":0},{\"_typename\":\"TStyle\",\"fUniqueID\":0,\"fBits\":0,\"fName\":\"Modern\",\"fTitle\":\"Modern Style\",\"fLineColor\":1,\"fLineStyle\":1,\"fLineWidth\":1,\"fFillColor\":19,\"fFillStyle\":1001,\"fMarkerColor\":1,\"fMarkerStyle\":1,\"fMarkerSize\":1,\"fTextAngle\":0,\"fTextSize\":0.05,\"fTextAlign\":11,\"fTextColor\":1,\"fTextFont\":62,\"fXaxis\":{\"_typename\":\"TAttAxis\",\"fNdivisions\":510,\"fAxisColor\":1,\"fLabelColor\":1,\"fLabelFont\":42,\"fLabelOffset\":0.005,\"fLabelSize\":0.035,\"fTickLength\":0.03,\"fTitleOffset\":1,\"fTitleSize\":0.035,\"fTitleColor\":1,\"fTitleFont\":42},\"fYaxis\":{\"_typename\":\"TAttAxis\",\"fNdivisions\":510,\"fAxisColor\":1,\"fLabelColor\":1,\"fLabelFont\":42,\"fLabelOffset\":0.005,\"fLabelSize\":0.035,\"fTickLength\":0.03,\"fTitleOffset\":0,\"fTitleSize\":0.035,\"fTitleColor\":1,\"fTitleFont\":42},\"fZaxis\":{\"_typename\":\"TAttAxis\",\"fNdivisions\":510,\"fAxisColor\":1,\"fLabelColor\":1,\"fLabelFont\":42,\"fLabelOffset\":0.005,\"fLabelSize\":0.035,\"fTickLength\":0.03,\"fTitleOffset\":1,\"fTitleSize\":0.035,\"fTitleColor\":1,\"fTitleFont\":42},\"fBarWidth\":1,\"fBarOffset\":0,\"fColorModelPS\":0,\"fDrawBorder\":0,\"fOptLogx\":0,\"fOptLogy\":0,\"fOptLogz\":0,\"fOptDate\":0,\"fOptStat\":0,\"fOptTitle\":1,\"fOptFile\":0,\"fOptFit\":0,\"fShowEventStatus\":0,\"fShowEditor\":0,\"fShowToolBar\":0,\"fNumberContours\":20,\"fAttDate\":{\"_typename\":\"TAttText\",\"fTextAngle\":0,\"fTextSize\":0.025,\"fTextAlign\":11,\"fTextColor\":1,\"fTextFont\":62},\"fDateX\":0.01,\"fDateY\":0.01,\"fEndErrorSize\":2,\"fErrorX\":0.5,\"fFuncColor\":2,\"fFuncStyle\":1,\"fFuncWidth\":2,\"fGridColor\":0,\"fGridStyle\":3,\"fGridWidth\":1,\"fLegendBorderSize\":1,\"fLegendFillColor\":0,\"fLegendFont\":42,\"fLegendTextSize\":0,\"fHatchesLineWidth\":1,\"fHatchesSpacing\":1,\"fFrameFillColor\":0,\"fFrameLineColor\":1,\"fFrameFillStyle\":1001,\"fFrameLineStyle\":1,\"fFrameLineWidth\":1,\"fFrameBorderSize\":1,\"fFrameBorderMode\":0,\"fHistFillColor\":0,\"fHistLineColor\":602,\"fHistFillStyle\":1001,\"fHistLineStyle\":1,\"fHistLineWidth\":1,\"fHistMinimumZero\":false,\"fHistTopMargin\":0.05,\"fCanvasPreferGL\":false,\"fCanvasColor\":0,\"fCanvasBorderSize\":2,\"fCanvasBorderMode\":0,\"fCanvasDefH\":500,\"fCanvasDefW\":700,\"fCanvasDefX\":10,\"fCanvasDefY\":10,\"fPadColor\":0,\"fPadBorderSize\":2,\"fPadBorderMode\":0,\"fPadBottomMargin\":0.1,\"fPadTopMargin\":0.1,\"fPadLeftMargin\":0.1,\"fPadRightMargin\":0.1,\"fPadGridX\":false,\"fPadGridY\":false,\"fPadTickX\":0,\"fPadTickY\":0,\"fPaperSizeX\":20,\"fPaperSizeY\":26,\"fScreenFactor\":1,\"fStatColor\":0,\"fStatTextColor\":1,\"fStatBorderSize\":1,\"fStatFont\":42,\"fStatFontSize\":0,\"fStatStyle\":1001,\"fStatFormat\":\"6.4g\",\"fStatX\":0.98,\"fStatY\":0.935,\"fStatW\":0.2,\"fStatH\":0.16,\"fStripDecimals\":true,\"fTitleAlign\":23,\"fTitleColor\":0,\"fTitleTextColor\":1,\"fTitleBorderSize\":0,\"fTitleFont\":42,\"fTitleFontSize\":0.05,\"fTitleStyle\":0,\"fTitleX\":0.5,\"fTitleY\":0.995,\"fTitleW\":0,\"fTitleH\":0,\"fLegoInnerR\":0.5,\"fLineStyle\":[\"\",\"  \",\" 12 12\",\" 4 8\",\" 12 16 4 16\",\" 20 12 4 12\",\" 20 12 4 12 4 12 4 12\",\" 20 20\",\" 20 12 4 12 4 12\",\" 80 20\",\" 80 40 4 40\",\"  \",\"  \",\"  \",\"  \",\"  \",\"  \",\"  \",\"  \",\"  \",\"  \",\"  \",\"  \",\"  \",\"  \",\"  \",\"  \",\"  \",\"  \",\"  \"],\"fHeaderPS\":\"\",\"fTitlePS\":\"\",\"fFitFormat\":\"5.4g\",\"fPaintTextFormat\":\"g\",\"fLineScalePS\":3,\"fJoinLinePS\":0,\"fCapLinePS\":0,\"fTimeOffset\":788918400,\"fImageScaling\":1}],\"opt\":[\"\",\"MIN0\",\"same\",\"same\",\"same\",\"blNDC\",\"\",\"\"]},\"fExecs\":null,\"fName\":\"myCanvasName\",\"fTitle\":\"Titel\",\"fNumPaletteColor\":0,\"fNextPaletteColor\":0,\"fDISPLAY\":\"$DISPLAY\",\"fDoubleBuffer\":0,\"fRetained\":true,\"fXsizeUser\":0,\"fYsizeUser\":0,\"fXsizeReal\":20,\"fYsizeReal\":15,\"fWindowTopX\":0,\"fWindowTopY\":0,\"fWindowWidth\":0,\"fWindowHeight\":0,\"fCw\":796,\"fCh\":572,\"fCatt\":{\"_typename\":\"TAttCanvas\",\"fXBetween\":2,\"fYBetween\":2,\"fTitleFromTop\":1.2,\"fXdate\":0.2,\"fYdate\":0.3,\"fAdate\":1},\"kMoveOpaque\":true,\"kResizeOpaque\":true,\"fHighLightColor\":2,\"fBatch\":true,\"kShowEventStatus\":false,\"kAutoExec\":true,\"kMenuBar\":true});\n",
       "   Core.settings.HandleKeys = false;\n",
       "   Core.draw(\"root_plot_1635210396577\", obj, \"\");\n",
       "}\n",
       "\n",
       "function script_load_root_plot_1635210396577(src, on_error) {\n",
       "    let script = document.createElement('script');\n",
       "    script.src = src;\n",
       "    script.onload = function() { display_root_plot_1635210396577(JSROOT); };\n",
       "    script.onerror = function() { script.remove(); on_error(); };\n",
       "    document.head.appendChild(script);\n",
       "}\n",
       "\n",
       "if (typeof requirejs !== 'undefined') {\n",
       "\n",
       "    // We are in jupyter notebooks, use require.js which should be configured already\n",
       "    requirejs.config({\n",
       "       paths: { 'JSRootCore' : [ 'scripts/JSRoot.core', 'https://root.cern/js/6.1.1/scripts/JSRoot.core.min', 'https://jsroot.gsi.de/6.1.1/scripts/JSRoot.core.min' ] }\n",
       "    })(['JSRootCore'],  function(Core) {\n",
       "       display_root_plot_1635210396577(Core);\n",
       "    });\n",
       "\n",
       "} else if (typeof JSROOT !== 'undefined') {\n",
       "\n",
       "   // JSROOT already loaded, just use it\n",
       "   display_root_plot_1635210396577(JSROOT);\n",
       "\n",
       "} else {\n",
       "\n",
       "    // We are in jupyterlab without require.js, directly loading jsroot\n",
       "    // Jupyterlab might be installed in a different base_url so we need to know it.\n",
       "    try {\n",
       "        var base_url = JSON.parse(document.getElementById('jupyter-config-data').innerHTML).baseUrl;\n",
       "    } catch(_) {\n",
       "        var base_url = '/';\n",
       "    }\n",
       "\n",
       "    // Try loading a local version of requirejs and fallback to cdn if not possible.\n",
       "    script_load_root_plot_1635210396577(base_url + 'static/scripts/JSRoot.core.js', function(){\n",
       "        console.error('Fail to load JSROOT locally, please check your jupyter_notebook_config.py file');\n",
       "        script_load_root_plot_1635210396577('https://root.cern/js/6.1.1/scripts/JSRoot.core.min.js', function(){\n",
       "            document.getElementById(\"root_plot_1635210396577\").innerHTML = \"Failed to load JSROOT\";\n",
       "        });\n",
       "    });\n",
       "}\n",
       "\n",
       "</script>\n"
      ],
      "text/plain": [
       "<IPython.core.display.HTML object>"
      ]
     },
     "metadata": {},
     "output_type": "display_data"
    }
   ],
   "source": [
    "xmin = 2420\n",
    "xmax = 2510\n",
    "ROOT.gStyle.SetOptStat(0) #Entfernen HistLegende\n",
    "\n",
    "#Erstellen der Cuts\n",
    "cut11 = ROOT.TCut(\"lab2_ProbNNe>0\") #Einfügen W'keit für Elektron\n",
    "cut12 = ROOT.TCut(\"lab2_ProbNNp>0.45\") #Einfügen W'keit für Proton\n",
    "cut13 = ROOT.TCut(\"lab1_IPCHI2_OWNPV<3\") #Einfügen IP Cut\n",
    "cut14 = ROOT.TCut(\"lab1_FDCHI2_OWNPV>100\") #Einfügen FD Cut\n",
    "cut10 = ROOT.TCut(cut11+cut12+cut13+cut14) #Erstellen Gesamtcut\n",
    "\n",
    "#Erstellen Fitfunktion: linBG + Gauss + Gauss\n",
    "f1 = ROOT.TF1('f1','[0] + x*[1] + [3] * exp(-(x - [4])^2/(2*[2]*[2]))+ [5] * exp(-(x - [7])^2/(2*[6]*[6]))', xmin, xmax) #Fitfunktion\n",
    "f1.SetParameter(4, 2468) #Parameter für Gauss Tendenz setzen Mean\n",
    "f1.SetParameter(3,1) #Parameter für Gauss Tendenz setzen existenz\n",
    "f1.SetParameter(5,1) #existenz Gauss2\n",
    "f1.SetParameter(7, 2468) #Mean Gauss2\n",
    "\n",
    "#Erstellen und Füllen der Histogramme\n",
    "h1 = ROOT.TH1F(\"h1\", \"Kombination der Teilchen\", 100, xmin, xmax) #Hist mit Cut\n",
    "tree1.Draw(\"lab1_M>>h1\",cut10) #Füllen Hist mit Cut\n",
    "c6 = ROOT.TCanvas(\"myCanvasName\",\"Titel\",800,600) #Erstellen Canvas\n",
    "h1.Draw(\"MIN0\") #Hist mC zeichnen in gleiches TCanvas\n",
    "\n",
    "#erste Fits, Fitparameter für Integrale nehmen\n",
    "f1.SetLineColor(ROOT.kBlue-6)\n",
    "h1.Fit(\"f1\",\"RQ\") #Hist mC fitten\n",
    "p10 = f1.GetParameter(\"p0\") #getParForBG#Y-Intersect\n",
    "p11 = f1.GetParameter(\"p1\") #GetParForBG#slope\n",
    "p22 = f1.GetParameter(\"p2\") #GetParForSignal #sigma\n",
    "p23 = f1.GetParameter(\"p3\") #Signal\n",
    "p24 = f1.GetParameter(\"p4\") #Signal #Mean\n",
    "p25 = f1.GetParameter(\"p5\") #Signal \n",
    "p26 = f1.GetParameter(\"p6\") #Signal #sigma\n",
    "p27 = f1.GetParameter(\"p7\") #Signal #mean\n",
    "\n",
    "#print(\"Steigung Background mit Cut: \", p11) #SlopeOfBGCUt\n",
    "#print(\"Achsenabschnitt Background mit Cut: \", p10) #Y-IntersectOfBGCut\n",
    "#print(\" \") #Space\n",
    "\n",
    "#Bestimmen der Funktione für Integrale, kosmetische Anpassungen Fits\n",
    "f21 = ROOT.TF1(\"f21\", \"{p10}+x*{p11}\".format(p10=p10, p11=p11), 0, xmax) #BGFunctionCut\n",
    "f21.SetLineColor(1) #BGCut\n",
    "f21.SetLineStyle(4) #BGCut\n",
    "f21.Draw(\"same\") #Draw BGCut\n",
    "f22 = ROOT.TF1(\"f22\", \"{p23} * exp(-(x - {p24})^2/(2*{p22}*{p22}))+ {p25} * exp(-(x - {p27})^2/(2*{p26}*{p26}))\".format(p22=p22,p23=p23,p24=p24,p25=p25,p26=p26,p27=p27), xmin,xmax) #only SignalPeak Fit\n",
    "f23 = ROOT.TF1(\"f23\", \"{p10}+x*{p11} +{p23} * exp(-(x - {p24})^2/(2*{p22}*{p22}))+ {p25} * exp(-(x - {p27})^2/(2*{p26}*{p26}))\".format(p10=p10,p11=p11,p22=p22,p23=p23,p24=p24,p25=p25,p26=p26,p27=p27), xmin,xmax)\n",
    "f22.SetLineColor(ROOT.kBlue+2)\n",
    "f22.SetLineWidth(3)\n",
    "f22.Draw(\"same\") #Draw SignalPeak\n",
    "SB = f23.Integral(p24 - 2 * abs(p22), p24 + 2 * abs(p22)) #integrate Sign+Bg in signalregion (mean+-2sigma)\n",
    "Signal = f22.Integral(p24 - 2*abs(p22), p24 + 2*abs(p22)) #integrate signal in signalregion (\"\")\n",
    "f23.SetLineColor(1)\n",
    "f23.SetLineStyle(4)\n",
    "f23.Draw(\"same\")\n",
    "Bg = f21.Integral(xmin, xmax) #Integrate Background whole Dataset\n",
    "print(Bg) #PrintBG\n",
    "\n",
    "#Variablen für die\n",
    "Varianz = abs(p22)\n",
    "print(\"Signal:\", Signal)\n",
    "print(\"Signal + Background:\", SB)\n",
    "Purity = Signal/SB\n",
    "print(\"Purity:\", Purity)\n",
    "print(\"Varianz:\", Varianz)\n",
    "print(\" \")\n",
    "\n",
    "f1.SetParameter(4, 2468) #Parameter für Gauss Tendenz setzen Mean\n",
    "f1.SetParameter(3,1) #Parameter für Gauss Tendenz setzen existenz\n",
    "f1.SetParameter(5,1) #existenz Gauss2\n",
    "f1.SetParameter(7, 2468) #Mean Gauss2\n",
    "f1.SetLineColor(ROOT.kRed)\n",
    "#h2.Fit(\"f1\",\"RQ\") #ursprünglicher Signal\n",
    "p0 = f1.GetParameter(\"p0\")\n",
    "p1 = f1.GetParameter(\"p1\")\n",
    "#f3 = ROOT.TF1(\"f3\", \"{p0}+x*{p1}\".format(p0=p0, p1=p1), 0, xmax) #ursprünglicher Background\n",
    "#f3.SetLineColor(1) #ursprünglicher Background\n",
    "#f3.SetLineStyle(4) #ursprünglicher Background\n",
    "#f3.Draw(\"same\")\n",
    "%jsroot\n",
    "c6.Draw()\n",
    "h1.GetXaxis().SetTitle(\"m(p K^{-} #pi^{+}) [MeV]\")\n",
    "h1.GetYaxis().SetTitle(\"Eintr#ddot{a}ge pro 1.1MeV [1/1.1MeV]\")\n",
    "c6.SetLeftMargin(0.12)\n",
    "leg=ROOT.TLegend(0.8,0.7,0.99,0.99)\n",
    "#leg.AddEntry(h2,\"Ungefilterte Daten\",\"l\")\n",
    "leg.AddEntry(h1,\"Daten\",\"l\")\n",
    "leg.AddEntry(f23,\"Hintergrund\",\"l\")\n",
    "leg.AddEntry(f22,\"Signal\",\"l\")\n",
    "leg.Draw()"
   ]
  },
  {
   "cell_type": "code",
   "execution_count": 263,
   "id": "91279e1b",
   "metadata": {},
   "outputs": [
    {
     "data": {
      "application/vnd.jupyter.widget-view+json": {
       "model_id": "e8cf5ecd403d476d9d5caf5aea0bf35b",
       "version_major": 2,
       "version_minor": 0
      },
      "text/plain": [
       "Canvas(toolbar=Toolbar(toolitems=[('Home', 'Reset original view', 'home', 'home'), ('Back', 'Back to previous …"
      ]
     },
     "metadata": {},
     "output_type": "display_data"
    },
    {
     "data": {
      "application/vnd.jupyter.widget-view+json": {
       "model_id": "6a1e484f92b842d3aa2495e1ef064f94",
       "version_major": 2,
       "version_minor": 0
      },
      "text/plain": [
       "interactive(children=(FloatSlider(value=0.0, continuous_update=False, description='Ftr.1 $P(e^-)$', max=1.0, s…"
      ]
     },
     "metadata": {},
     "output_type": "display_data"
    }
   ],
   "source": [
    "%matplotlib widget\n",
    "\n",
    "fig = plt.figure()\n",
    "fig.set_size_inches(10, 5)\n",
    "fig.canvas.header_visible = False\n",
    "\n",
    "ax = plt.subplot2grid((7,16),(1,1),colspan = 7, rowspan = 5)\n",
    "bx = plt.subplot2grid((7,16),(1,9),colspan = 3, rowspan = 2)\n",
    "dx = plt.subplot2grid((7,16),(4,9),colspan = 3, rowspan = 2)\n",
    "cx = plt.subplot2grid((7,16),(1,13),colspan = 3, rowspan = 2)\n",
    "ex = plt.subplot2grid((7,16),(4,13),colspan = 3, rowspan = 2)\n",
    "\n",
    "\n",
    "plt.tight_layout()\n",
    "\n",
    "a = 0\n",
    "\n",
    "#fig, ((ax,bx,cx),(dx,ex)) = plt.subplots(2,3)\n",
    "#fig.set_size_inches(16, 7)\n",
    "#print(\"Filter 2: Wahrscheinlichkeit, dass ein Teilchen ein Proton ist\")\n",
    "#print(\"Filter 3: Qualität des Stoßparameters zwischen Teilchen und Kollisionspunkt\")\n",
    "#print(\"Filter 4: Qualität der Flugdistanz bezüglich des Kollisionspunkts\")\n",
    "\n",
    "\n",
    "@widgets.interact(Cut1=FloatSlider(min = 0, max = 1, step = 0.05, description = \"Ftr.1 $P(e^-)$\",continuous_update = False), Cut2=FloatSlider(min = 0, max = 1, step = 0.05, description = \"Ftr.2 $P(p)$\",continuous_update = False), Cut3=FloatSlider(value=0,min = 0, max = 11, step = 0.1, description = \"Ftr.3 $\\chi^2_{Stoß}$\",continuous_update = False), Cut4=IntSlider(min = 0, max = 500, step = 2, description = \"Ftr.4 $\\chi^2_{Flug}$\",continuous_update = False))\n",
    "def update(Cut1, Cut2=0, Cut3=11, Cut4=0):\n",
    "    \n",
    "    ax.cla()\n",
    "    bx.cla()\n",
    "    cx.cla()\n",
    "    dx.cla()\n",
    "    ex.cla()\n",
    "    \n",
    "    ax.set_title(\"Kombination $p$ mit $K^-$ und $\\pi^+$\")\n",
    "    ax.set_ylabel(\"Einträge pro 1.1MeV\")\n",
    "    ax.set_xlabel(\"$m(pK^-\\pi^+)$ [$MeV$]\")\n",
    "    \n",
    "    bx.set_title(\"\")\n",
    "    bx.set_ylabel(\"Einträge\")\n",
    "    bx.set_xlabel(\"Filter 1: Elektron\")\n",
    "    bx.set_yscale(\"log\")\n",
    "    \n",
    "    cx.set_title(\"\")\n",
    "    cx.set_ylabel(\"Einträge\")\n",
    "    cx.set_xlabel(\"Filter 2: Proton\")\n",
    "    \n",
    "    dx.set_title(\"\")\n",
    "    dx.set_ylabel(\"Einträge\")\n",
    "    dx.set_xlabel(\"Filter 3: Stoßparameter\")\n",
    "    dx.set_yscale(\"log\")\n",
    "    \n",
    "    ex.set_title(\"\")\n",
    "    ex.set_ylabel(\"Einträge\")\n",
    "    ex.set_xlabel(\"Filter 4: Flugdistanz\")\n",
    "    \n",
    "    ax.hist(df[\"lab1_M\"], bins=100, range =(2420,2510), color = \"brown\")\n",
    "    ax.hist(df[\"lab1_M\"][df[\"lab2_ProbNNe\"]>Cut1][df[\"lab2_ProbNNp\"]>Cut2][df[\"lab1_IPCHI2_OWNPV\"]<(11-Cut3)][df[\"lab1_FDCHI2_OWNPV\"]>Cut4], bins=100, range =(2420,2510), color = \"darkorange\")\n",
    "    bx.hist(df[\"lab2_ProbNNe\"][df[\"lab2_ProbNNe\"]>Cut1], bins=100, range =(0,1))\n",
    "    cx.hist(df[\"lab2_ProbNNp\"][df[\"lab2_ProbNNp\"]>Cut2], bins=100, range =(0,1))\n",
    "    dx.hist(df[\"lab1_IPCHI2_OWNPV\"][df[\"lab1_IPCHI2_OWNPV\"]<(11-Cut3)], bins=100, range =(0,11))\n",
    "    ex.hist(df[\"lab1_FDCHI2_OWNPV\"][df[\"lab1_FDCHI2_OWNPV\"]>Cut4], bins=100, range =(0,500))"
   ]
  },
  {
   "cell_type": "code",
   "execution_count": 17,
   "id": "e26a3090",
   "metadata": {},
   "outputs": [
    {
     "name": "stdout",
     "output_type": "stream",
     "text": [
      "2.0\n"
     ]
    }
   ],
   "source": [
    "a = math.sqrt(4)\n",
    "print(a)"
   ]
  },
  {
   "cell_type": "code",
   "execution_count": null,
   "id": "3f105b8e",
   "metadata": {},
   "outputs": [],
   "source": []
  }
 ],
 "metadata": {
  "kernelspec": {
   "display_name": "Python 3",
   "language": "python",
   "name": "python3"
  },
  "language_info": {
   "codemirror_mode": {
    "name": "ipython",
    "version": 3
   },
   "file_extension": ".py",
   "mimetype": "text/x-python",
   "name": "python",
   "nbconvert_exporter": "python",
   "pygments_lexer": "ipython3",
   "version": "3.9.6"
  }
 },
 "nbformat": 4,
 "nbformat_minor": 5
}
