{
 "cells": [
  {
   "cell_type": "markdown",
   "id": "c3588f39",
   "metadata": {},
   "source": [
    "# Masterclass\n",
    "\n",
    "### Importieren Bibliotheken\n",
    "\n",
    "An dieser Stelle werden die Bibliotheken importiert, die für die Datenanalyse notwendig sind.\n",
    "Wenn alles fertig importiert ist, wird es Dir vom Programm angezeigt. Dann kannst Du weitermachen."
   ]
  },
  {
   "cell_type": "code",
   "execution_count": 3,
   "id": "0ea3f513",
   "metadata": {},
   "outputs": [
    {
     "name": "stdout",
     "output_type": "stream",
     "text": [
      "Welcome to JupyROOT 6.24/06\n",
      "Alles geladen!\n"
     ]
    }
   ],
   "source": [
    "import ROOT\n",
    "import uproot\n",
    "import pandas as pd\n",
    "import numpy as np\n",
    "import matplotlib.pyplot as plt\n",
    "import ipywidgets as widgets\n",
    "import math\n",
    "import requests\n",
    "print(\"Alles geladen!\")"
   ]
  },
  {
   "cell_type": "markdown",
   "id": "adad7961",
   "metadata": {},
   "source": [
    "### Gruppenauswahl\n",
    "\n",
    "Hier sollst Du deine Gruppennummer eingeben."
   ]
  },
  {
   "cell_type": "code",
   "execution_count": 38,
   "id": "77a30518",
   "metadata": {},
   "outputs": [],
   "source": [
    "gruppe=11\n",
    "if gruppe>10 or gruppe<0 or gruppe!=int(gruppe):\n",
    "    print(\"Du solltest eine Gruppennummer zwischen 1 und 10 haben!\")"
   ]
  },
  {
   "cell_type": "markdown",
   "id": "9b1dba94",
   "metadata": {},
   "source": [
    "Hier wird die richtige Datei Heruntergeladen.\n",
    "Das kann dauern, bitte nur einmal ausführen!\n",
    "Das Programm zeigt Dir an, wenn es die entsprechende Datei fertig geladen hat."
   ]
  },
  {
   "cell_type": "code",
   "execution_count": 39,
   "id": "5eefef5e",
   "metadata": {},
   "outputs": [
    {
     "name": "stdout",
     "output_type": "stream",
     "text": [
      "Wir haben alle Daten heruntergeladen, es kann los gehen!\n"
     ]
    }
   ],
   "source": [
    "urls=[\"https://cernbox.cern.ch/index.php/s/QS4iT8gIv8xFzNu/download\", #1\n",
    "      \"https://cernbox.cern.ch/index.php/s/ACPAHhinDXVUrvu/download\", #2\n",
    "      \"https://cernbox.cern.ch/index.php/s/BGCTRtUUyMrFzQN/download\", #3\n",
    "      \"https://cernbox.cern.ch/index.php/s/rvstLklNQTZM7eG/download\", #4\n",
    "      \"https://cernbox.cern.ch/index.php/s/fmUytQBMwNuUYQq/download\", #5\n",
    "      \"https://cernbox.cern.ch/index.php/s/G03MHIxqZjYbK6u/download\", #6\n",
    "      \"https://cernbox.cern.ch/index.php/s/0mSb3DhjX2FqK3o/download\", #7\n",
    "      \"https://cernbox.cern.ch/index.php/s/zhzUE2HwUX82pOm/download\", #8\n",
    "      \"https://cernbox.cern.ch/index.php/s/rnyG9b2O4CZo7YR/download\", #9\n",
    "      \"https://cernbox.cern.ch/index.php/s/CK0zEsHhqgXA0EB/download\", #10\n",
    "     ]\n",
    "urlsWS=[\"https://cernbox.cern.ch/index.php/s/L3HseMtKZWKkwp4/download\", #1\n",
    "      \"https://cernbox.cern.ch/index.php/s/zGFePJmF5op4htU/download\", #2\n",
    "      \"https://cernbox.cern.ch/index.php/s/ZL06Lrtnp9ptlwm/download\", #3\n",
    "      \"https://cernbox.cern.ch/index.php/s/oGArqPD6TuYlEkd/download\", #4\n",
    "      \"https://cernbox.cern.ch/index.php/s/bEqEkecN6vDCzZv/download\", #5\n",
    "      \"https://cernbox.cern.ch/index.php/s/96guIz3nSK6r9Vs/download\", #6\n",
    "      \"https://cernbox.cern.ch/index.php/s/Tg2BvkUod7RzvbC/download\", #7\n",
    "      \"https://cernbox.cern.ch/index.php/s/e4SAM5l5MNRFvgK/download\", #8\n",
    "      \"https://cernbox.cern.ch/index.php/s/KMH4vI9gwUpZGth/download\", #9\n",
    "      \"https://cernbox.cern.ch/index.php/s/Rev3W2fIbx9QEgg/download\", #10\n",
    "     ]\n",
    "myfile = requests.get(urls[gruppe-1])\n",
    "open('Masterclass{}.root'.format(gruppe), 'wb').write(myfile.content)\n",
    "myfile = requests.get(urlsWS[gruppe-1])\n",
    "open('Masterclass{}WS.root'.format(gruppe), 'wb').write(myfile.content)\n",
    "print(\"Wir haben alle Daten heruntergeladen, es kann los gehen!\")"
   ]
  },
  {
   "cell_type": "markdown",
   "id": "41731fa5",
   "metadata": {},
   "source": [
    "### Erstellen von Dataframes\n",
    "\n",
    "Hier werden die Daten ausgelesen und für die Analyse in Dataframes gespeichert, damit Filter angewendet und Histogramme erstellt werden können."
   ]
  },
  {
   "cell_type": "code",
   "execution_count": 40,
   "id": "d99fcde8",
   "metadata": {},
   "outputs": [],
   "source": [
    "df = uproot.open(\"Masterclass{}.root\".format(gruppe))[\"DecayTree\"].arrays(library=\"pd\")\n",
    "f = ROOT.TFile.Open(\"Masterclass{}.root\".format(gruppe))\n",
    "tree1 = f.Get(\"DecayTree\")\n",
    "\n",
    "gf = uproot.open(\"Masterclass{}WS.root\".format(gruppe))[\"DecayTree\"].arrays(library=\"pd\")\n",
    "g = ROOT.TFile.Open(\"Masterclass{}WS.root\".format(gruppe))\n",
    "tree2 = g.Get(\"DecayTree\")"
   ]
  },
  {
   "cell_type": "markdown",
   "id": "29092196",
   "metadata": {},
   "source": [
    "### Aufgabe 1: $\\Xi_c^+$\n",
    "#### Urprüngliches Signal\n",
    "\n",
    "Zunächst wird kannst Du hier die ursprünglichen, ungefilterten Daten in einem Histogramm darstellen lassen.\n",
    "Da Du in dieser Aufgabe ein möglichst reines Signal von $\\Xi_c^+$ erzeugen sollst, rechnet die nächste Zelle zusätzlich einen Wert für diese Reinheit vom ungefilterten Datensatz aus."
   ]
  },
  {
   "cell_type": "code",
   "execution_count": 9,
   "id": "92a0de04",
   "metadata": {
    "scrolled": false
   },
   "outputs": [
    {
     "name": "stdout",
     "output_type": "stream",
     "text": [
      "Einträge Signal: 23225.4\n",
      "Einträge Signal + Untergrund: 829717.09\n",
      "Reinheit des Signals: 25.5\n",
      "Breite des Signals: 6.41 MeV\n",
      " \n"
     ]
    },
    {
     "data": {
      "text/html": [
       "\n",
       "\n",
       "<div id=\"root_plot_1635372043752\"\n",
       "     style=\"width: 796px; height: 572px\">\n",
       "</div>\n",
       "<script>\n",
       "\n",
       "function display_root_plot_1635372043752(Core) {\n",
       "   let obj = Core.parse({\"_typename\":\"TCanvas\",\"fUniqueID\":0,\"fBits\":3342344,\"fLineColor\":1,\"fLineStyle\":1,\"fLineWidth\":1,\"fFillColor\":0,\"fFillStyle\":1001,\"fLeftMargin\":0.12,\"fRightMargin\":0.1,\"fBottomMargin\":0.1,\"fTopMargin\":0.1,\"fXfile\":2,\"fYfile\":2,\"fAfile\":1,\"fXstat\":0.99,\"fYstat\":0.99,\"fAstat\":2,\"fFrameFillColor\":0,\"fFrameLineColor\":1,\"fFrameFillStyle\":1001,\"fFrameLineStyle\":1,\"fFrameLineWidth\":1,\"fFrameBorderSize\":1,\"fFrameBorderMode\":0,\"fX1\":2408.74999916181,\"fY1\":-741.562555250715,\"fX2\":2521.25000083819,\"fY2\":6674.06255525072,\"fXtoAbsPixelk\":-17043.2441345497,\"fXtoPixelk\":-17043.2441345497,\"fXtoPixel\":7.07555545012156,\"fYtoAbsPixelk\":514.800046590614,\"fYtoPixelk\":514.800046590614,\"fYtoPixel\":-0.0771344278434435,\"fUtoAbsPixelk\":5e-5,\"fUtoPixelk\":5e-5,\"fUtoPixel\":796,\"fVtoAbsPixelk\":572.00005,\"fVtoPixelk\":572,\"fVtoPixel\":-572,\"fAbsPixeltoXk\":2408.74999916181,\"fPixeltoXk\":2408.74999916181,\"fPixeltoX\":0.141331660397463,\"fAbsPixeltoYk\":6674.06255525071,\"fPixeltoYk\":-741.562555250715,\"fPixeltoY\":-12.9643795638137,\"fXlowNDC\":0,\"fYlowNDC\":0,\"fXUpNDC\":1,\"fYUpNDC\":1,\"fWNDC\":1,\"fHNDC\":1,\"fAbsXlowNDC\":0,\"fAbsYlowNDC\":0,\"fAbsWNDC\":1,\"fAbsHNDC\":1,\"fUxmin\":2420,\"fUymin\":0,\"fUxmax\":2510,\"fUymax\":5932.5,\"fTheta\":30,\"fPhi\":30,\"fAspectRatio\":0,\"fNumber\":0,\"fTickx\":0,\"fTicky\":0,\"fLogx\":0,\"fLogy\":0,\"fLogz\":0,\"fPadPaint\":0,\"fCrosshair\":0,\"fCrosshairPos\":0,\"fBorderSize\":2,\"fBorderMode\":0,\"fModified\":true,\"fGridx\":false,\"fGridy\":false,\"fAbsCoord\":false,\"fEditable\":true,\"fFixedAspectRatio\":false,\"fPrimitives\":{\"_typename\":\"TList\",\"name\":\"TList\",\"arr\":[{\"_typename\":\"TFrame\",\"fUniqueID\":0,\"fBits\":8,\"fLineColor\":1,\"fLineStyle\":1,\"fLineWidth\":1,\"fFillColor\":0,\"fFillStyle\":1001,\"fX1\":2420,\"fY1\":0,\"fX2\":2510,\"fY2\":5932.5,\"fBorderSize\":1,\"fBorderMode\":0},{\"_typename\":\"TH1F\",\"fUniqueID\":0,\"fBits\":520,\"fName\":\"h11\",\"fTitle\":\"Kombination der Teilchen\",\"fLineColor\":632,\"fLineStyle\":1,\"fLineWidth\":1,\"fFillColor\":0,\"fFillStyle\":1001,\"fMarkerColor\":1,\"fMarkerStyle\":1,\"fMarkerSize\":1,\"fNcells\":102,\"fXaxis\":{\"_typename\":\"TAxis\",\"fUniqueID\":0,\"fBits\":0,\"fName\":\"xaxis\",\"fTitle\":\"m(p K^{-} #pi^{+}) [MeV]\",\"fNdivisions\":510,\"fAxisColor\":1,\"fLabelColor\":1,\"fLabelFont\":42,\"fLabelOffset\":0.005,\"fLabelSize\":0.035,\"fTickLength\":0.03,\"fTitleOffset\":1,\"fTitleSize\":0.035,\"fTitleColor\":1,\"fTitleFont\":42,\"fNbins\":100,\"fXmin\":2420,\"fXmax\":2510,\"fXbins\":[],\"fFirst\":0,\"fLast\":0,\"fBits2\":0,\"fTimeDisplay\":false,\"fTimeFormat\":\"\",\"fLabels\":null,\"fModLabs\":null},\"fYaxis\":{\"_typename\":\"TAxis\",\"fUniqueID\":0,\"fBits\":0,\"fName\":\"yaxis\",\"fTitle\":\"Eintr#ddot{a}ge pro 1.1MeV [1\\/1.1MeV]\",\"fNdivisions\":510,\"fAxisColor\":1,\"fLabelColor\":1,\"fLabelFont\":42,\"fLabelOffset\":0.005,\"fLabelSize\":0.035,\"fTickLength\":0.03,\"fTitleOffset\":0,\"fTitleSize\":0.035,\"fTitleColor\":1,\"fTitleFont\":42,\"fNbins\":1,\"fXmin\":0,\"fXmax\":1,\"fXbins\":[],\"fFirst\":0,\"fLast\":0,\"fBits2\":0,\"fTimeDisplay\":false,\"fTimeFormat\":\"\",\"fLabels\":null,\"fModLabs\":null},\"fZaxis\":{\"_typename\":\"TAxis\",\"fUniqueID\":0,\"fBits\":0,\"fName\":\"zaxis\",\"fTitle\":\"\",\"fNdivisions\":510,\"fAxisColor\":1,\"fLabelColor\":1,\"fLabelFont\":42,\"fLabelOffset\":0.005,\"fLabelSize\":0.035,\"fTickLength\":0.03,\"fTitleOffset\":1,\"fTitleSize\":0.035,\"fTitleColor\":1,\"fTitleFont\":42,\"fNbins\":1,\"fXmin\":0,\"fXmax\":1,\"fXbins\":[],\"fFirst\":0,\"fLast\":0,\"fBits2\":0,\"fTimeDisplay\":false,\"fTimeFormat\":\"\",\"fLabels\":null,\"fModLabs\":null},\"fBarOffset\":0,\"fBarWidth\":1000,\"fEntries\":514710,\"fTsumw\":427066,\"fTsumw2\":427066,\"fTsumwx\":1052492481.4509,\"fTsumwx2\":2594109193548.26,\"fMaximum\":-1111,\"fMinimum\":-1111,\"fNormFactor\":0,\"fContour\":[],\"fSumw2\":[],\"fOption\":\"\",\"fFunctions\":{\"_typename\":\"TList\",\"name\":\"TList\",\"arr\":[{\"_typename\":\"TF1\",\"fUniqueID\":0,\"fBits\":1024,\"fName\":\"fit1\",\"fTitle\":\"[0] + x*[1] + [3] * exp(-(x - [4])^2\\/(2*[2]*[2]))+ [5] * exp(-(x - [7])^2\\/(2*[6]*[6]))\",\"fLineColor\":2,\"fLineStyle\":1,\"fLineWidth\":2,\"fFillColor\":19,\"fFillStyle\":0,\"fMarkerColor\":1,\"fMarkerStyle\":1,\"fMarkerSize\":1,\"fXmin\":2420,\"fXmax\":2510,\"fNpar\":8,\"fNdim\":1,\"fNpx\":100,\"fType\":0,\"fNpfits\":100,\"fNDF\":92,\"fChisquare\":227.3061087607,\"fMinimum\":-1111,\"fMaximum\":-1111,\"fParErrors\":[611.600284138442,0.248171774458766,0.133966947441544,26.0225867018848,0.118853822687132,1.4142135623731,1.4142135623731,1.4142135623731],\"fParMin\":[0,0,0,0,0,0,0,0],\"fParMax\":[0,0,0,0,0,0,0,0],\"fSave\":[4210.12131250573,4205.87946098384,4201.637609464,4197.39575794969,4193.15390644993,4188.91205498769,4184.67020362023,4180.42835248736,4176.18650192323,4171.94465270992,4167.70280663928,4163.46096773014,4159.21914480516,4154.9773568209,4150.7356436367,4146.49408726155,4142.25285277641,4138.01226524939,4133.77295075418,4129.53608845494,4125.30384973501,4121.08014316318,4116.87184436245,4112.69077012492,4108.55675599789,4104.50230995913,4100.57942647164,4096.86922713043,4093.49510265416,4090.63990664806,4088.56742346318,4087.64772956516,4088.38513849556,4091.44615890892,4097.68337679535,4108.14957726286,4124.09505018828,4146.94028949451,4178.2166700978,4219.4696110565,4272.12249179757,4337.30516581508,4415.65788084778,4507.12886301936,4610.79043240853,4724.70272818373,4845.85443400304,4970.20524458935,5092.84493362963,5208.26954578406,5310.75829884095,5394.81796439329,5455.647904344,5489.57143400717,5494.37970782406,5469.54340265306,5416.26398080468,5337.35762731829,5236.98745659207,5120.27940723571,4992.87108375999,4860.44857997371,4728.32355391708,4601.09264234639,4482.40608067346,4374.85516854225,4279.97201679702,4198.32225363166,4129.66350138141,4073.13980927446,4027.48422369697,3991.20701615783,3962.75420522616,3940.62840488481,3923.47053532984,3910.10582467382,3899.56055342978,3891.05726633517,3883.99605998082,3877.92851676349,3872.52935312724,3867.56925540706,3862.89094397101,3858.389371586,3853.99616408972,3849.66792375513,3845.3777761141,3841.10947661901,3836.85343700359,3832.60412905176,3828.35843838198,3824.11465018973,3819.87184144748,3815.62952635004,3811.38745484092,3807.1455010232,3802.90360288723,3798.6617305496,3794.41986991802,3790.17801448873,3785.93616132391,2420,2510],\"fNormalized\":false,\"fNormIntegral\":0,\"fFormula\":{\"_typename\":\"TFormula\",\"fUniqueID\":0,\"fBits\":1024,\"fName\":\"fit1\",\"fTitle\":\"[0] + x*[1] + [3] * exp(-(x - [4])^2\\/(2*[2]*[2]))+ [5] * exp(-(x - [7])^2\\/(2*[6]*[6]))\",\"fClingParameters\":[15615.9887411658,-4.71316835895069,6.41214910426451,1513.88837737217,2468.42402542552,1,0,2468],\"fAllParametersSetted\":true,\"fParams\":[{\"$pair\":\"pair<TString,int,TFormulaParamOrder>\",\"first\":\"p0\",\"second\":0},{\"$pair\":\"pair<TString,int,TFormulaParamOrder>\",\"first\":\"p1\",\"second\":1},{\"$pair\":\"pair<TString,int,TFormulaParamOrder>\",\"first\":\"p2\",\"second\":2},{\"$pair\":\"pair<TString,int,TFormulaParamOrder>\",\"first\":\"p3\",\"second\":3},{\"$pair\":\"pair<TString,int,TFormulaParamOrder>\",\"first\":\"p4\",\"second\":4},{\"$pair\":\"pair<TString,int,TFormulaParamOrder>\",\"first\":\"p5\",\"second\":5},{\"$pair\":\"pair<TString,int,TFormulaParamOrder>\",\"first\":\"p6\",\"second\":6},{\"$pair\":\"pair<TString,int,TFormulaParamOrder>\",\"first\":\"p7\",\"second\":7}],\"fFormula\":\"[p0]+x*[p1]+[p3]*exp(-pow((x-[p4]),2)\\/(2*[p2]*[p2]))+[p5]*exp(-pow((x-[p7]),2)\\/(2*[p6]*[p6]))\",\"fNdim\":1,\"fLinearParts\":[],\"fVectorized\":false},\"fParams\":null,\"fComposition\":null}],\"opt\":[\"\"]},\"fBufferSize\":0,\"fBuffer\":[],\"fBinStatErrOpt\":0,\"fStatOverflows\":2,\"fArray\":[33246,4206,4126,4033,4029,3951,4282,4137,4174,4206,4342,4121,4183,4122,4136,4060,4276,4192,4037,4195,3940,4089,4207,4301,4072,4184,4225,4132,4053,4052,4190,4196,4095,4115,4002,4198,4151,4213,4200,4300,4321,4390,4439,4582,4345,4723,4928,4845,4828,5030,5181,5397,5387,5650,5486,5430,5603,5412,5218,5290,5153,4853,4885,4594,4442,4303,4270,4276,4150,4195,3972,3875,4055,4081,4033,4048,3782,3919,3840,3878,3975,3850,3833,3900,3842,3766,3704,3887,3989,3660,3872,3727,3899,3981,3736,3845,3727,3904,3670,3758,3729,54398]},{\"_typename\":\"TF1\",\"fUniqueID\":0,\"fBits\":8,\"fName\":\"sig1\",\"fTitle\":\"1513.8883773721736 * exp(-(x - 2468.4240254255187)^2\\/(2*6.412149104264509*6.412149104264509))+ 1.0 * exp(-(x - 2468.0)^2\\/(2*0.0*0.0))\",\"fLineColor\":2,\"fLineStyle\":1,\"fLineWidth\":4,\"fFillColor\":19,\"fFillStyle\":0,\"fMarkerColor\":1,\"fMarkerStyle\":1,\"fMarkerSize\":1,\"fXmin\":2420,\"fXmax\":2510,\"fNpar\":0,\"fNdim\":1,\"fNpx\":100,\"fType\":0,\"fNpfits\":0,\"fNDF\":0,\"fChisquare\":0,\"fMinimum\":-1111,\"fMaximum\":-1111,\"fParErrors\":[],\"fParMin\":[],\"fParMax\":[],\"fSave\":[],\"fNormalized\":false,\"fNormIntegral\":0,\"fFormula\":{\"_typename\":\"TFormula\",\"fUniqueID\":0,\"fBits\":1024,\"fName\":\"sig1\",\"fTitle\":\"1513.8883773721736 * exp(-(x - 2468.4240254255187)^2\\/(2*6.412149104264509*6.412149104264509))+ 1.0 * exp(-(x - 2468.0)^2\\/(2*0.0*0.0))\",\"fClingParameters\":[],\"fAllParametersSetted\":true,\"fParams\":[],\"fFormula\":\"1513.8883773721736*exp(-pow((x-2468.4240254255187),2)\\/(2*6.412149104264509*6.412149104264509))+1.0*exp(-pow((x-2468.0),2)\\/(2*0.0*0.0))\",\"fNdim\":1,\"fLinearParts\":[],\"fVectorized\":false},\"fParams\":null,\"fComposition\":null},{\"_typename\":\"TF1\",\"fUniqueID\":0,\"fBits\":8,\"fName\":\"bac1\",\"fTitle\":\"15615.988741165786+ x*-4.7131683589506945\",\"fLineColor\":1,\"fLineStyle\":4,\"fLineWidth\":2,\"fFillColor\":19,\"fFillStyle\":0,\"fMarkerColor\":1,\"fMarkerStyle\":1,\"fMarkerSize\":1,\"fXmin\":2420,\"fXmax\":2510,\"fNpar\":0,\"fNdim\":1,\"fNpx\":100,\"fType\":0,\"fNpfits\":0,\"fNDF\":0,\"fChisquare\":0,\"fMinimum\":-1111,\"fMaximum\":-1111,\"fParErrors\":[],\"fParMin\":[],\"fParMax\":[],\"fSave\":[],\"fNormalized\":false,\"fNormIntegral\":0,\"fFormula\":{\"_typename\":\"TFormula\",\"fUniqueID\":0,\"fBits\":1024,\"fName\":\"bac1\",\"fTitle\":\"15615.988741165786+ x*-4.7131683589506945\",\"fClingParameters\":[],\"fAllParametersSetted\":true,\"fParams\":[],\"fFormula\":\"15615.988741165786+x*-4.7131683589506945\",\"fNdim\":1,\"fLinearParts\":[],\"fVectorized\":false},\"fParams\":null,\"fComposition\":null},{\"_typename\":\"TPaveText\",\"fUniqueID\":0,\"fBits\":9,\"fLineColor\":1,\"fLineStyle\":1,\"fLineWidth\":1,\"fFillColor\":0,\"fFillStyle\":0,\"fX1\":2438.78863026269,\"fY1\":6229.12507790351,\"fX2\":2491.21136973731,\"fY2\":6636.98446505866,\"fX1NDC\":0.267010050251256,\"fY1NDC\":0.940000003948808,\"fX2NDC\":0.732989949748744,\"fY2NDC\":0.995000004768372,\"fBorderSize\":0,\"fInit\":1,\"fShadowColor\":1,\"fCornerRadius\":0,\"fOption\":\"blNDC\",\"fName\":\"title\",\"fTextAngle\":0,\"fTextSize\":0,\"fTextAlign\":22,\"fTextColor\":1,\"fTextFont\":42,\"fLabel\":\"\",\"fLongest\":24,\"fMargin\":0.05,\"fLines\":{\"_typename\":\"TList\",\"name\":\"TList\",\"arr\":[{\"_typename\":\"TLatex\",\"fUniqueID\":0,\"fBits\":0,\"fName\":\"\",\"fTitle\":\"Kombination der Teilchen\",\"fTextAngle\":0,\"fTextSize\":0,\"fTextAlign\":0,\"fTextColor\":0,\"fTextFont\":0,\"fX\":0,\"fY\":0,\"fLineColor\":1,\"fLineStyle\":1,\"fLineWidth\":2,\"fLimitFactorSize\":3,\"fOriginSize\":0.0467500016093254}],\"opt\":[\"\"]}},{\"_typename\":\"TLegend\",\"fUniqueID\":0,\"fBits\":8,\"fLineColor\":1,\"fLineStyle\":1,\"fLineWidth\":1,\"fFillColor\":0,\"fFillStyle\":1001,\"fX1\":0.8,\"fY1\":0.7,\"fX2\":0.99,\"fY2\":0.99,\"fX1NDC\":0,\"fY1NDC\":0,\"fX2NDC\":0,\"fY2NDC\":0,\"fBorderSize\":1,\"fInit\":0,\"fShadowColor\":1,\"fCornerRadius\":0,\"fOption\":\"brNDC\",\"fName\":\"TPave\",\"fTextAngle\":0,\"fTextSize\":0,\"fTextAlign\":12,\"fTextColor\":1,\"fTextFont\":42,\"fPrimitives\":{\"_typename\":\"TList\",\"name\":\"TList\",\"arr\":[{\"_typename\":\"TLegendEntry\",\"fUniqueID\":0,\"fBits\":0,\"fTextAngle\":0,\"fTextSize\":0,\"fTextAlign\":0,\"fTextColor\":0,\"fTextFont\":0,\"fLineColor\":1,\"fLineStyle\":1,\"fLineWidth\":1,\"fFillColor\":0,\"fFillStyle\":0,\"fMarkerColor\":1,\"fMarkerStyle\":21,\"fMarkerSize\":1,\"fObject\":{\"$ref\":3},\"fLabel\":\"Ungefilterte Daten\",\"fOption\":\"l\"},{\"_typename\":\"TLegendEntry\",\"fUniqueID\":0,\"fBits\":0,\"fTextAngle\":0,\"fTextSize\":0,\"fTextAlign\":0,\"fTextColor\":0,\"fTextFont\":0,\"fLineColor\":1,\"fLineStyle\":1,\"fLineWidth\":1,\"fFillColor\":0,\"fFillStyle\":0,\"fMarkerColor\":1,\"fMarkerStyle\":21,\"fMarkerSize\":1,\"fObject\":{\"$ref\":12},\"fLabel\":\"Untergrund\",\"fOption\":\"1\"},{\"_typename\":\"TLegendEntry\",\"fUniqueID\":0,\"fBits\":0,\"fTextAngle\":0,\"fTextSize\":0,\"fTextAlign\":0,\"fTextColor\":0,\"fTextFont\":0,\"fLineColor\":1,\"fLineStyle\":1,\"fLineWidth\":1,\"fFillColor\":0,\"fFillStyle\":0,\"fMarkerColor\":1,\"fMarkerStyle\":21,\"fMarkerSize\":1,\"fObject\":{\"$ref\":10},\"fLabel\":\"Ungefiltertes Signal\",\"fOption\":\"l\"}],\"opt\":[\"l\",\"1\",\"l\"]},\"fEntrySeparation\":0.1,\"fMargin\":0.25,\"fNColumns\":1,\"fColumnSeparation\":0},{\"_typename\":\"TStyle\",\"fUniqueID\":0,\"fBits\":0,\"fName\":\"Modern\",\"fTitle\":\"Modern Style\",\"fLineColor\":1,\"fLineStyle\":1,\"fLineWidth\":1,\"fFillColor\":19,\"fFillStyle\":1001,\"fMarkerColor\":1,\"fMarkerStyle\":1,\"fMarkerSize\":1,\"fTextAngle\":0,\"fTextSize\":0.05,\"fTextAlign\":11,\"fTextColor\":1,\"fTextFont\":62,\"fXaxis\":{\"_typename\":\"TAttAxis\",\"fNdivisions\":510,\"fAxisColor\":1,\"fLabelColor\":1,\"fLabelFont\":42,\"fLabelOffset\":0.005,\"fLabelSize\":0.035,\"fTickLength\":0.03,\"fTitleOffset\":1,\"fTitleSize\":0.035,\"fTitleColor\":1,\"fTitleFont\":42},\"fYaxis\":{\"_typename\":\"TAttAxis\",\"fNdivisions\":510,\"fAxisColor\":1,\"fLabelColor\":1,\"fLabelFont\":42,\"fLabelOffset\":0.005,\"fLabelSize\":0.035,\"fTickLength\":0.03,\"fTitleOffset\":0,\"fTitleSize\":0.035,\"fTitleColor\":1,\"fTitleFont\":42},\"fZaxis\":{\"_typename\":\"TAttAxis\",\"fNdivisions\":510,\"fAxisColor\":1,\"fLabelColor\":1,\"fLabelFont\":42,\"fLabelOffset\":0.005,\"fLabelSize\":0.035,\"fTickLength\":0.03,\"fTitleOffset\":1,\"fTitleSize\":0.035,\"fTitleColor\":1,\"fTitleFont\":42},\"fBarWidth\":1,\"fBarOffset\":0,\"fColorModelPS\":0,\"fDrawBorder\":0,\"fOptLogx\":0,\"fOptLogy\":0,\"fOptLogz\":0,\"fOptDate\":0,\"fOptStat\":0,\"fOptTitle\":1,\"fOptFile\":0,\"fOptFit\":0,\"fShowEventStatus\":0,\"fShowEditor\":0,\"fShowToolBar\":0,\"fNumberContours\":20,\"fAttDate\":{\"_typename\":\"TAttText\",\"fTextAngle\":0,\"fTextSize\":0.025,\"fTextAlign\":11,\"fTextColor\":1,\"fTextFont\":62},\"fDateX\":0.01,\"fDateY\":0.01,\"fEndErrorSize\":2,\"fErrorX\":0.5,\"fFuncColor\":2,\"fFuncStyle\":1,\"fFuncWidth\":2,\"fGridColor\":0,\"fGridStyle\":3,\"fGridWidth\":1,\"fLegendBorderSize\":1,\"fLegendFillColor\":0,\"fLegendFont\":42,\"fLegendTextSize\":0,\"fHatchesLineWidth\":1,\"fHatchesSpacing\":1,\"fFrameFillColor\":0,\"fFrameLineColor\":1,\"fFrameFillStyle\":1001,\"fFrameLineStyle\":1,\"fFrameLineWidth\":1,\"fFrameBorderSize\":1,\"fFrameBorderMode\":0,\"fHistFillColor\":0,\"fHistLineColor\":602,\"fHistFillStyle\":1001,\"fHistLineStyle\":1,\"fHistLineWidth\":1,\"fHistMinimumZero\":false,\"fHistTopMargin\":0.05,\"fCanvasPreferGL\":false,\"fCanvasColor\":0,\"fCanvasBorderSize\":2,\"fCanvasBorderMode\":0,\"fCanvasDefH\":500,\"fCanvasDefW\":700,\"fCanvasDefX\":10,\"fCanvasDefY\":10,\"fPadColor\":0,\"fPadBorderSize\":2,\"fPadBorderMode\":0,\"fPadBottomMargin\":0.1,\"fPadTopMargin\":0.1,\"fPadLeftMargin\":0.1,\"fPadRightMargin\":0.1,\"fPadGridX\":false,\"fPadGridY\":false,\"fPadTickX\":0,\"fPadTickY\":0,\"fPaperSizeX\":20,\"fPaperSizeY\":26,\"fScreenFactor\":1,\"fStatColor\":0,\"fStatTextColor\":1,\"fStatBorderSize\":1,\"fStatFont\":42,\"fStatFontSize\":0,\"fStatStyle\":1001,\"fStatFormat\":\"6.4g\",\"fStatX\":0.98,\"fStatY\":0.935,\"fStatW\":0.2,\"fStatH\":0.16,\"fStripDecimals\":true,\"fTitleAlign\":23,\"fTitleColor\":0,\"fTitleTextColor\":1,\"fTitleBorderSize\":0,\"fTitleFont\":42,\"fTitleFontSize\":0.05,\"fTitleStyle\":0,\"fTitleX\":0.5,\"fTitleY\":0.995,\"fTitleW\":0,\"fTitleH\":0,\"fLegoInnerR\":0.5,\"fLineStyle\":[\"\",\"  \",\" 12 12\",\" 4 8\",\" 12 16 4 16\",\" 20 12 4 12\",\" 20 12 4 12 4 12 4 12\",\" 20 20\",\" 20 12 4 12 4 12\",\" 80 20\",\" 80 40 4 40\",\"  \",\"  \",\"  \",\"  \",\"  \",\"  \",\"  \",\"  \",\"  \",\"  \",\"  \",\"  \",\"  \",\"  \",\"  \",\"  \",\"  \",\"  \",\"  \"],\"fHeaderPS\":\"\",\"fTitlePS\":\"\",\"fFitFormat\":\"5.4g\",\"fPaintTextFormat\":\"g\",\"fLineScalePS\":3,\"fJoinLinePS\":0,\"fCapLinePS\":0,\"fTimeOffset\":788918400,\"fImageScaling\":1}],\"opt\":[\"\",\"MIN0\",\"same\",\"same\",\"blNDC\",\"\",\"\"]},\"fExecs\":null,\"fName\":\"myCanvasName\",\"fTitle\":\"Titel\",\"fNumPaletteColor\":0,\"fNextPaletteColor\":0,\"fDISPLAY\":\"$DISPLAY\",\"fDoubleBuffer\":0,\"fRetained\":true,\"fXsizeUser\":0,\"fYsizeUser\":0,\"fXsizeReal\":20,\"fYsizeReal\":15,\"fWindowTopX\":0,\"fWindowTopY\":0,\"fWindowWidth\":0,\"fWindowHeight\":0,\"fCw\":796,\"fCh\":572,\"fCatt\":{\"_typename\":\"TAttCanvas\",\"fXBetween\":2,\"fYBetween\":2,\"fTitleFromTop\":1.2,\"fXdate\":0.2,\"fYdate\":0.3,\"fAdate\":1},\"kMoveOpaque\":true,\"kResizeOpaque\":true,\"fHighLightColor\":2,\"fBatch\":true,\"kShowEventStatus\":false,\"kAutoExec\":true,\"kMenuBar\":true});\n",
       "   Core.settings.HandleKeys = false;\n",
       "   Core.draw(\"root_plot_1635372043752\", obj, \"\");\n",
       "}\n",
       "\n",
       "function script_load_root_plot_1635372043752(src, on_error) {\n",
       "    let script = document.createElement('script');\n",
       "    script.src = src;\n",
       "    script.onload = function() { display_root_plot_1635372043752(JSROOT); };\n",
       "    script.onerror = function() { script.remove(); on_error(); };\n",
       "    document.head.appendChild(script);\n",
       "}\n",
       "\n",
       "if (typeof requirejs !== 'undefined') {\n",
       "\n",
       "    // We are in jupyter notebooks, use require.js which should be configured already\n",
       "    requirejs.config({\n",
       "       paths: { 'JSRootCore' : [ 'scripts/JSRoot.core', 'https://root.cern/js/6.1.1/scripts/JSRoot.core.min', 'https://jsroot.gsi.de/6.1.1/scripts/JSRoot.core.min' ] }\n",
       "    })(['JSRootCore'],  function(Core) {\n",
       "       display_root_plot_1635372043752(Core);\n",
       "    });\n",
       "\n",
       "} else if (typeof JSROOT !== 'undefined') {\n",
       "\n",
       "   // JSROOT already loaded, just use it\n",
       "   display_root_plot_1635372043752(JSROOT);\n",
       "\n",
       "} else {\n",
       "\n",
       "    // We are in jupyterlab without require.js, directly loading jsroot\n",
       "    // Jupyterlab might be installed in a different base_url so we need to know it.\n",
       "    try {\n",
       "        var base_url = JSON.parse(document.getElementById('jupyter-config-data').innerHTML).baseUrl;\n",
       "    } catch(_) {\n",
       "        var base_url = '/';\n",
       "    }\n",
       "\n",
       "    // Try loading a local version of requirejs and fallback to cdn if not possible.\n",
       "    script_load_root_plot_1635372043752(base_url + 'static/scripts/JSRoot.core.js', function(){\n",
       "        console.error('Fail to load JSROOT locally, please check your jupyter_notebook_config.py file');\n",
       "        script_load_root_plot_1635372043752('https://root.cern/js/6.1.1/scripts/JSRoot.core.min.js', function(){\n",
       "            document.getElementById(\"root_plot_1635372043752\").innerHTML = \"Failed to load JSROOT\";\n",
       "        });\n",
       "    });\n",
       "}\n",
       "\n",
       "</script>\n"
      ],
      "text/plain": [
       "<IPython.core.display.HTML object>"
      ]
     },
     "metadata": {},
     "output_type": "display_data"
    }
   ],
   "source": [
    "xmin = 2420\n",
    "xmax = 2510\n",
    "ROOT.gStyle.SetOptStat(0) #Entfernen HistLegende\n",
    "\n",
    "fit1 = ROOT.TF1('fit1','[0] + x*[1] + [3] * exp(-(x - [4])^2/(2*[2]*[2]))+ [5] * exp(-(x - [7])^2/(2*[6]*[6]))', xmin, xmax) #Fitfunktion\n",
    "fit1.SetParameter(4, 2468) #Parameter für Gauss Tendenz setzen Mean\n",
    "fit1.SetParameter(3,1) #Parameter für Gauss Tendenz setzen existenz\n",
    "fit1.SetParameter(5,1) #existenz Gauss2\n",
    "fit1.SetParameter(7, 2468) #Mean Gauss2\n",
    "\n",
    "h11 = ROOT.TH1F(\"h11\",\"Kombination der Teilchen\", 100, 2420, 2510)\n",
    "c11 = ROOT.TCanvas(\"myCanvasName\",\"Titel\",800,600)\n",
    "tree1.Draw(\"lab1_M>>h11\")\n",
    "h11.SetLineColor(ROOT.kRed)\n",
    "h11.Draw(\"MIN0\")\n",
    "\n",
    "h11.Fit(\"fit1\", \"RQ\")\n",
    "a0 = fit1.GetParameter(\"p0\")\n",
    "a1 = fit1.GetParameter(\"p1\")\n",
    "a2 = fit1.GetParameter(\"p2\")\n",
    "a3 = fit1.GetParameter(\"p3\")\n",
    "a4 = fit1.GetParameter(\"p4\")\n",
    "a5 = fit1.GetParameter(\"p5\")\n",
    "a6 = fit1.GetParameter(\"p6\")\n",
    "a7 = fit1.GetParameter(\"p7\")\n",
    "\n",
    "sighin = ROOT.TF1(\"sighin\", \"{a0}+x*{a2}+{a3} * exp(-(x - {a4})^2/(2*{a2}*{a2}))+ {a5} * exp(-(x - {a7})^2/(2*{a6}*{a6}))\".format(a0=a0,a1=a1,a2=a2,a3=a3,a4=a4,a5=a5,a6=a6,a7=a7), xmin, xmax)\n",
    "sig1 = ROOT.TF1(\"sig1\", \"{a3} * exp(-(x - {a4})^2/(2*{a2}*{a2}))+ {a5} * exp(-(x - {a7})^2/(2*{a6}*{a6}))\".format(a2=a2,a3=a3,a4=a4,a5=a5,a6=a6,a7=a7), xmin, xmax)\n",
    "sig1.SetLineWidth(4)\n",
    "bac1 = ROOT.TF1(\"bac1\", \"{a0}+ x*{a1}\".format(a0=a0,a1=a1), xmin, xmax)\n",
    "bac1.SetLineColor(1)\n",
    "bac1.SetLineStyle(4)\n",
    "sig1.Draw(\"same\")\n",
    "bac1.Draw(\"same\")\n",
    "\n",
    "SigHin = sighin.Integral(a4 - 2 * abs(a2), a4 + 2 * abs(a2)) \n",
    "Signal = sig1.Integral(a4 - 2*abs(a2), a4 + 2*abs(a2))\n",
    "Purity = Signal/(math.sqrt(SigHin))\n",
    "\n",
    "print(\"Einträge Signal:\", round(Signal,2))\n",
    "print(\"Einträge Signal + Untergrund:\", round(SigHin,2))\n",
    "print(\"Reinheit des Signals:\", round(Purity,2))\n",
    "print(\"Breite des Signals:\", round(abs(a2),2),\"MeV\")\n",
    "print(\" \")\n",
    "\n",
    "%jsroot\n",
    "c11.Draw()\n",
    "h11.GetXaxis().SetTitle(\"m(p K^{-} #pi^{+}) [MeV]\")\n",
    "h11.GetYaxis().SetTitle(\"Eintr#ddot{a}ge pro 1.1MeV [1/1.1MeV]\")\n",
    "c11.SetLeftMargin(0.12)\n",
    "leg=ROOT.TLegend(0.8,0.7,0.99,0.99)\n",
    "leg.AddEntry(h11,\"Ungefilterte Daten\",\"l\")\n",
    "leg.AddEntry(bac1,\"Untergrund\",\"1\")\n",
    "leg.AddEntry(sig1,\"Ungefiltertes Signal\",\"l\")\n",
    "leg.Draw()"
   ]
  },
  {
   "cell_type": "markdown",
   "id": "e8d3c196",
   "metadata": {},
   "source": [
    "#### Schieberegler\n",
    "\n",
    "In der nächsten Zelle darfst Du zum ersten Mal selbst arbeiten, hier beginnt die Datenanalyse! Du sollst ein möglichst sauberes Signal von $\\Xi_c^+$ erhalten. Dafür wendest Du Filter auf die Daten an, um den Hintergrund zu reduzieren.\n",
    "\n",
    "Das Signal für $\\Xi_c^+$ soll im orangefarbenen Histogramm bestimmt werden. Mit jedem angewandten Filter updated es sich, behält aber das ursprüngliche ungefilterte Signal im Hintergrund bei. In den blauen Histogrammen siehst Du die Werteverteilung der Filter. Daran kannst Du erahnen, welche Filterung sinnvoll ist und welche eher nicht.\n",
    "\n",
    "Es kann zunächst einen kurzen Moment dauern, bis die Histogramme erstellt sind, aber dann kann es direkt losgehen. Mithilfe der Schieberegler können die einzelnen Filter angepasst und so die Daten zugeschnitten werden. Eine Beschreibung, was welcher Filter bedeutet, findest du auf dem Aufgabenblatt.\n",
    "\n",
    "Wenn Du einen Schieberegler verstellt hast, wartest Du am besten kurz (5-10s), bis der zuletzt angewendete Filter von den Histogrammen übernommen wurde."
   ]
  },
  {
   "cell_type": "code",
   "execution_count": 10,
   "id": "8258c0e8",
   "metadata": {
    "scrolled": false
   },
   "outputs": [
    {
     "data": {
      "application/vnd.jupyter.widget-view+json": {
       "model_id": "eed0d8aac52440288b1670e90071151c",
       "version_major": 2,
       "version_minor": 0
      },
      "text/plain": [
       "Canvas(toolbar=Toolbar(toolitems=[('Home', 'Reset original view', 'home', 'home'), ('Back', 'Back to previous …"
      ]
     },
     "metadata": {},
     "output_type": "display_data"
    },
    {
     "name": "stdout",
     "output_type": "stream",
     "text": [
      "Eine kurze Erinnerung: Ist der Slider auf der linken Seite, wird wenig gefiltert, rechts filtert er stark.\n"
     ]
    },
    {
     "data": {
      "application/vnd.jupyter.widget-view+json": {
       "model_id": "0b0f5fbcfa2f4ef9ba82af6da12b16d4",
       "version_major": 2,
       "version_minor": 0
      },
      "text/plain": [
       "Label(value='Filter 1: $P(e^-)$ Wahrscheinlichkeit, dass ein Teilchen ein Elektron ist')"
      ]
     },
     "metadata": {},
     "output_type": "display_data"
    },
    {
     "data": {
      "application/vnd.jupyter.widget-view+json": {
       "model_id": "4e95fe1df92143738b4905e51263dbca",
       "version_major": 2,
       "version_minor": 0
      },
      "text/plain": [
       "Label(value='Filter 2: $P(e^-)$ Wahrscheinlichkeit, dass ein Teilchen ein Proton ist')"
      ]
     },
     "metadata": {},
     "output_type": "display_data"
    },
    {
     "data": {
      "application/vnd.jupyter.widget-view+json": {
       "model_id": "8773536dee5d433c91fefac190d87c59",
       "version_major": 2,
       "version_minor": 0
      },
      "text/plain": [
       "Label(value='Filter 3: $\\\\chi^2_{Stoß}$ Qualität des Stoßparameters zwischen Teilchen und Kollisionspunkt')"
      ]
     },
     "metadata": {},
     "output_type": "display_data"
    },
    {
     "data": {
      "application/vnd.jupyter.widget-view+json": {
       "model_id": "da7d41f0d35748feb6e0febe2b87af64",
       "version_major": 2,
       "version_minor": 0
      },
      "text/plain": [
       "Label(value='Filter 4: $\\\\chi^2_{Flug}$ Qualität der Flugdistanz bezüglich des Kollisionspunkts')"
      ]
     },
     "metadata": {},
     "output_type": "display_data"
    },
    {
     "data": {
      "application/vnd.jupyter.widget-view+json": {
       "model_id": "1fb83ba44bab4ab6b3e059ff67c95c83",
       "version_major": 2,
       "version_minor": 0
      },
      "text/plain": [
       "interactive(children=(FloatSlider(value=0.0, continuous_update=False, description='Ftr.1 $P(e^-)$', max=1.0, s…"
      ]
     },
     "metadata": {},
     "output_type": "display_data"
    }
   ],
   "source": [
    "%matplotlib widget\n",
    "\n",
    "fig = plt.figure()\n",
    "fig.set_size_inches(10, 5)\n",
    "fig.canvas.header_visible = False\n",
    "\n",
    "ax = plt.subplot2grid((7,16),(1,1),colspan = 7, rowspan = 5)\n",
    "bx = plt.subplot2grid((7,16),(1,9),colspan = 3, rowspan = 2)\n",
    "dx = plt.subplot2grid((7,16),(4,9),colspan = 3, rowspan = 2)\n",
    "cx = plt.subplot2grid((7,16),(1,13),colspan = 3, rowspan = 2)\n",
    "ex = plt.subplot2grid((7,16),(4,13),colspan = 3, rowspan = 2)\n",
    "plt.tight_layout()\n",
    "\n",
    "print(\"Eine kurze Erinnerung: Ist der Slider auf der linken Seite, wird wenig gefiltert, rechts filtert er stark.\")\n",
    "lb1 = widgets.Label(\"Filter 1: $P(e^-)$ Wahrscheinlichkeit, dass ein Teilchen ein Elektron ist\")\n",
    "lb2 = widgets.Label(\"Filter 2: $P(e^-)$ Wahrscheinlichkeit, dass ein Teilchen ein Proton ist\")\n",
    "lb3 = widgets.Label(\"Filter 3: $\\chi^2_{Stoß}$ Qualität des Stoßparameters zwischen Teilchen und Kollisionspunkt\")\n",
    "lb4 = widgets.Label(\"Filter 4: $\\chi^2_{Flug}$ Qualität der Flugdistanz bezüglich des Kollisionspunkts\")\n",
    "display(lb1, lb2, lb3, lb4)\n",
    "\n",
    "@widgets.interact(Cut1=widgets.FloatSlider(min = 0, max = 1, step = 0.05, description = \"Ftr.1 $P(e^-)$\",continuous_update = False), Cut2=widgets.FloatSlider(min = 0, max = 1, step = 0.05, description = \"Ftr.2 $P(p)$\",continuous_update = False), Cut3=widgets.FloatSlider(value=0,min = 0, max = 11, step = 0.1, description = \"Ftr.3 $\\chi^2_{Stoß}$\",continuous_update = False), Cut4=widgets.IntSlider(min = 0, max = 500, step = 2, description = \"Ftr.4 $\\chi^2_{Flug}$\",continuous_update = False))\n",
    "def update(Cut1, Cut2=0, Cut3=0, Cut4=0):\n",
    "    \n",
    "    ax.cla()\n",
    "    bx.cla()\n",
    "    cx.cla()\n",
    "    dx.cla()\n",
    "    ex.cla()\n",
    "    \n",
    "    ax.set_title(\"Kombination von $p$, $K^-$ und $\\pi^+$\")\n",
    "    ax.set_ylabel(\"Einträge pro 1.1MeV\")\n",
    "    ax.set_xlabel(\"$m(pK^-\\pi^+)$ [$MeV$]\")\n",
    "    \n",
    "    bx.set_title(\"\")\n",
    "    bx.set_ylabel(\"Einträge\")\n",
    "    bx.set_xlabel(\"Filter 1: Elektron\")\n",
    "    bx.set_yscale(\"log\")\n",
    "    \n",
    "    cx.set_title(\"\")\n",
    "    cx.set_ylabel(\"Einträge\")\n",
    "    cx.set_xlabel(\"Filter 2: Proton\")\n",
    "    \n",
    "    dx.set_title(\"\")\n",
    "    dx.set_ylabel(\"Einträge\")\n",
    "    dx.set_xlabel(\"Filter 3: Stoßparameter\")\n",
    "    dx.set_yscale(\"log\")\n",
    "    \n",
    "    ex.set_title(\"\")\n",
    "    ex.set_ylabel(\"Einträge\")\n",
    "    ex.set_xlabel(\"Filter 4: Flugdistanz\")\n",
    "    \n",
    "    ax.hist(df[\"lab1_M\"], bins=100, range =(2420,2510), color = \"brown\")\n",
    "    ax.hist(df[\"lab1_M\"][df[\"lab2_ProbNNe\"]>Cut1][df[\"lab2_ProbNNp\"]>Cut2][df[\"lab1_IPCHI2_OWNPV\"]<(11-Cut3)][df[\"lab1_FDCHI2_OWNPV\"]>Cut4], bins=100, range =(2420,2510), color = \"darkorange\")\n",
    "    bx.hist(df[\"lab2_ProbNNe\"][df[\"lab2_ProbNNe\"]>Cut1], bins=100, range =(0,1))\n",
    "    cx.hist(df[\"lab2_ProbNNp\"][df[\"lab2_ProbNNp\"]>Cut2], bins=100, range =(0,1))\n",
    "    dx.hist(df[\"lab1_IPCHI2_OWNPV\"][df[\"lab1_IPCHI2_OWNPV\"]<(11-Cut3)], bins=100, range =(0,11))\n",
    "    ex.hist(df[\"lab1_FDCHI2_OWNPV\"][df[\"lab1_FDCHI2_OWNPV\"]>Cut4], bins=100, range =(0,500))"
   ]
  },
  {
   "cell_type": "markdown",
   "id": "6367e92e",
   "metadata": {},
   "source": [
    "#### Festlegung der Filter\n",
    "\n",
    "In die nächste Zelle sollst Du die Werte für die Filter eintragen, die Du in dem vorherigen Teil mit den Schiebereglern erörtert hast. Ersetze dafür die drei Rauten ### in der Zelle mit den Zahlenwerten und nutze Punkte statt Kommas, wenn Du Dezimalzahlen schreibst. Die Zelle gibt Dir eine Mitteilung, wenn die Filter übernommen sind."
   ]
  },
  {
   "cell_type": "code",
   "execution_count": 11,
   "id": "54f41a79",
   "metadata": {},
   "outputs": [
    {
     "name": "stdout",
     "output_type": "stream",
     "text": [
      "Werte der Filter sind übernommen!\n"
     ]
    }
   ],
   "source": [
    "cut11 = ROOT.TCut(\"lab2_ProbNNe>###\") #Einfügen Filter1\n",
    "cut12 = ROOT.TCut(\"lab2_ProbNNp>###\") #Einfügen Filter2\n",
    "cut13 = ROOT.TCut(\"lab1_IPCHI2_OWNPV<(11-###)\") #Einfügen Filter3\n",
    "cut14 = ROOT.TCut(\"lab1_FDCHI2_OWNPV>###\") #Einfügen Filter4\n",
    "cut10 = ROOT.TCut(cut11+cut12+cut13+cut14)\n",
    "\n",
    "print(\"Werte der Filter sind übernommen!\")"
   ]
  },
  {
   "cell_type": "markdown",
   "id": "21eae989",
   "metadata": {},
   "source": [
    "#### Berechnung der Reinheit\n",
    "\n",
    "Wenn Du Werte für die Filter angegeben hast und die Zelle danach ausgeführt hast, kannst Du die nächste Zelle ausführen. Hier wird ein Histogramm der Daten mit den von Dir bestimmten Filtern erstellt, was anschließend eine Ausgleichskurve kriegt. Außerdem berechnet das Programm die Anzahl der Einträge von Signal und Hintergrund und gibt neben der Breite des Signals auch dessen Reinheit an."
   ]
  },
  {
   "cell_type": "code",
   "execution_count": 12,
   "id": "580606d1",
   "metadata": {
    "scrolled": false
   },
   "outputs": [
    {
     "name": "stdout",
     "output_type": "stream",
     "text": [
      "Einträge Signal: 14800.41\n",
      "Einträge Signal + Untergrund: 38887.04\n",
      "Reinheit des Signals: 75.05\n",
      "Breite des Signals: 6.65 MeV\n",
      " \n"
     ]
    },
    {
     "name": "stderr",
     "output_type": "stream",
     "text": [
      "Warning in <TCanvas::Constructor>: Deleting canvas with same name: myCanvasName\n"
     ]
    },
    {
     "data": {
      "text/html": [
       "\n",
       "\n",
       "<div id=\"root_plot_1635372098873\"\n",
       "     style=\"width: 796px; height: 572px\">\n",
       "</div>\n",
       "<script>\n",
       "\n",
       "function display_root_plot_1635372098873(Core) {\n",
       "   let obj = Core.parse({\"_typename\":\"TCanvas\",\"fUniqueID\":0,\"fBits\":3342344,\"fLineColor\":1,\"fLineStyle\":1,\"fLineWidth\":1,\"fFillColor\":0,\"fFillStyle\":1001,\"fLeftMargin\":0.12,\"fRightMargin\":0.1,\"fBottomMargin\":0.1,\"fTopMargin\":0.1,\"fXfile\":2,\"fYfile\":2,\"fAfile\":1,\"fXstat\":0.99,\"fYstat\":0.99,\"fAstat\":2,\"fFrameFillColor\":0,\"fFrameLineColor\":1,\"fFrameFillStyle\":1001,\"fFrameLineStyle\":1,\"fFrameLineWidth\":1,\"fFrameBorderSize\":1,\"fFrameBorderMode\":0,\"fX1\":2408.74999916181,\"fY1\":-741.562555250715,\"fX2\":2521.25000083819,\"fY2\":6674.06255525072,\"fXtoAbsPixelk\":-17043.2441345497,\"fXtoPixelk\":-17043.2441345497,\"fXtoPixel\":7.07555545012156,\"fYtoAbsPixelk\":514.800046590614,\"fYtoPixelk\":514.800046590614,\"fYtoPixel\":-0.0771344278434435,\"fUtoAbsPixelk\":5e-5,\"fUtoPixelk\":5e-5,\"fUtoPixel\":796,\"fVtoAbsPixelk\":572.00005,\"fVtoPixelk\":572,\"fVtoPixel\":-572,\"fAbsPixeltoXk\":2408.74999916181,\"fPixeltoXk\":2408.74999916181,\"fPixeltoX\":0.141331660397463,\"fAbsPixeltoYk\":6674.06255525071,\"fPixeltoYk\":-741.562555250715,\"fPixeltoY\":-12.9643795638137,\"fXlowNDC\":0,\"fYlowNDC\":0,\"fXUpNDC\":1,\"fYUpNDC\":1,\"fWNDC\":1,\"fHNDC\":1,\"fAbsXlowNDC\":0,\"fAbsYlowNDC\":0,\"fAbsWNDC\":1,\"fAbsHNDC\":1,\"fUxmin\":2420,\"fUymin\":0,\"fUxmax\":2510,\"fUymax\":5932.5,\"fTheta\":30,\"fPhi\":30,\"fAspectRatio\":0,\"fNumber\":0,\"fTickx\":0,\"fTicky\":0,\"fLogx\":0,\"fLogy\":0,\"fLogz\":0,\"fPadPaint\":0,\"fCrosshair\":0,\"fCrosshairPos\":0,\"fBorderSize\":2,\"fBorderMode\":0,\"fModified\":true,\"fGridx\":false,\"fGridy\":false,\"fAbsCoord\":false,\"fEditable\":true,\"fFixedAspectRatio\":false,\"fPrimitives\":{\"_typename\":\"TList\",\"name\":\"TList\",\"arr\":[{\"_typename\":\"TFrame\",\"fUniqueID\":0,\"fBits\":8,\"fLineColor\":1,\"fLineStyle\":1,\"fLineWidth\":1,\"fFillColor\":0,\"fFillStyle\":1001,\"fX1\":2420,\"fY1\":0,\"fX2\":2510,\"fY2\":5932.5,\"fBorderSize\":1,\"fBorderMode\":0},{\"_typename\":\"TH1F\",\"fUniqueID\":0,\"fBits\":520,\"fName\":\"h2\",\"fTitle\":\"Kombination der Teilchen\",\"fLineColor\":632,\"fLineStyle\":1,\"fLineWidth\":1,\"fFillColor\":0,\"fFillStyle\":1001,\"fMarkerColor\":1,\"fMarkerStyle\":1,\"fMarkerSize\":1,\"fNcells\":102,\"fXaxis\":{\"_typename\":\"TAxis\",\"fUniqueID\":0,\"fBits\":0,\"fName\":\"xaxis\",\"fTitle\":\"m(p K^{-} #pi^{+}) [MeV]\",\"fNdivisions\":510,\"fAxisColor\":1,\"fLabelColor\":1,\"fLabelFont\":42,\"fLabelOffset\":0.005,\"fLabelSize\":0.035,\"fTickLength\":0.03,\"fTitleOffset\":1,\"fTitleSize\":0.035,\"fTitleColor\":1,\"fTitleFont\":42,\"fNbins\":100,\"fXmin\":2420,\"fXmax\":2510,\"fXbins\":[],\"fFirst\":0,\"fLast\":0,\"fBits2\":0,\"fTimeDisplay\":false,\"fTimeFormat\":\"\",\"fLabels\":null,\"fModLabs\":null},\"fYaxis\":{\"_typename\":\"TAxis\",\"fUniqueID\":0,\"fBits\":0,\"fName\":\"yaxis\",\"fTitle\":\"Eintr#ddot{a}ge pro 1.1MeV [1\\/1.1MeV]\",\"fNdivisions\":510,\"fAxisColor\":1,\"fLabelColor\":1,\"fLabelFont\":42,\"fLabelOffset\":0.005,\"fLabelSize\":0.035,\"fTickLength\":0.03,\"fTitleOffset\":0,\"fTitleSize\":0.035,\"fTitleColor\":1,\"fTitleFont\":42,\"fNbins\":1,\"fXmin\":0,\"fXmax\":1,\"fXbins\":[],\"fFirst\":0,\"fLast\":0,\"fBits2\":0,\"fTimeDisplay\":false,\"fTimeFormat\":\"\",\"fLabels\":null,\"fModLabs\":null},\"fZaxis\":{\"_typename\":\"TAxis\",\"fUniqueID\":0,\"fBits\":0,\"fName\":\"zaxis\",\"fTitle\":\"\",\"fNdivisions\":510,\"fAxisColor\":1,\"fLabelColor\":1,\"fLabelFont\":42,\"fLabelOffset\":0.005,\"fLabelSize\":0.035,\"fTickLength\":0.03,\"fTitleOffset\":1,\"fTitleSize\":0.035,\"fTitleColor\":1,\"fTitleFont\":42,\"fNbins\":1,\"fXmin\":0,\"fXmax\":1,\"fXbins\":[],\"fFirst\":0,\"fLast\":0,\"fBits2\":0,\"fTimeDisplay\":false,\"fTimeFormat\":\"\",\"fLabels\":null,\"fModLabs\":null},\"fBarOffset\":0,\"fBarWidth\":1000,\"fEntries\":514710,\"fTsumw\":427066,\"fTsumw2\":427066,\"fTsumwx\":1052492481.4509,\"fTsumwx2\":2594109193548.26,\"fMaximum\":-1111,\"fMinimum\":-1111,\"fNormFactor\":0,\"fContour\":[],\"fSumw2\":[],\"fOption\":\"\",\"fFunctions\":{\"_typename\":\"TList\",\"name\":\"TList\",\"arr\":[{\"_typename\":\"TF1\",\"fUniqueID\":0,\"fBits\":1024,\"fName\":\"f1\",\"fTitle\":\"[0] + x*[1] + [3] * exp(-(x - [4])^2\\/(2*[2]*[2]))+ [5] * exp(-(x - [7])^2\\/(2*[6]*[6]))\",\"fLineColor\":632,\"fLineStyle\":1,\"fLineWidth\":2,\"fFillColor\":19,\"fFillStyle\":0,\"fMarkerColor\":1,\"fMarkerStyle\":1,\"fMarkerSize\":1,\"fXmin\":2420,\"fXmax\":2510,\"fNpar\":8,\"fNdim\":1,\"fNpx\":100,\"fType\":0,\"fNpfits\":100,\"fNDF\":92,\"fChisquare\":227.306108504039,\"fMinimum\":-1111,\"fMaximum\":-1111,\"fParErrors\":[610.208872646853,0.247614461869365,0.131563831006816,25.8067498977962,0.118337895598303,1.4142135623731,1.4142135623731,1.4142135623731],\"fParMin\":[0,0,0,0,0,0,0,0],\"fParMax\":[0,0,0,0,0,0,0,0],\"fSave\":[4210.12035909244,4205.87849138765,4201.63662368492,4197.39475598772,4193.15288830506,4188.91102065992,4184.66915310954,4180.4272857937,4176.18541904653,4171.94355364997,4167.70169139565,4163.45983630187,4159.21799719026,4154.97619301521,4150.73446363181,4146.49289104086,4142.25164030781,4138.01103647228,4133.77170555682,4129.53482663615,4125.30257094118,4121.07884678792,4116.87052939153,4112.68943490454,4108.55539790085,4104.50092492194,4100.57800838014,4096.86776704368,4093.49358788045,4090.63831972507,4088.56574114722,4087.64592199833,4088.38316878688,4091.44398342064,4097.6809464486,4108.14684014439,4124.09195563068,4146.93679360358,4178.21274241829,4219.46524172998,4272.11769822992,4337.29999761398,4415.65242170073,4507.12322833755,4610.78476200265,4724.69717394933,4845.84914348915,4970.2003422517,5092.84050233332,5208.26561152161,5310.75482152079,5394.81483687426,5455.6449607122,5489.5684666013,5494.37649099509,5469.53972000246,5416.25965194921,5337.35253023682,5236.98154232854,5120.27270501872,4992.86369618858,4860.44066949392,4728.31532307405,4601.08431103041,4482.39786369648,4374.84725643142,4279.96456182728,4198.31536205501,4129.65723176799,4073.13417603888,4027.47920435078,3991.20256063338,3962.75024571709,3940.62486495815,3923.46733747998,3910.10289591404,3899.55782888081,3891.05469103221,3883.99358927025,3877.9261157106,3872.5269953319,3867.56692155441,3862.88862035616,3858.3870487649,3853.99383573493,3849.66558574115,3845.37542582127,3841.10711242624,3836.85105793273,3832.60173452705,3828.35602807268,3824.11222391034,3819.86939909642,3815.62706787293,3811.38498020936,3807.14301022266,3802.90109591047,3798.65920739307,3794.41733058004,3790.17545896849,3785.93358962107,2420,2510],\"fNormalized\":false,\"fNormIntegral\":0,\"fFormula\":{\"_typename\":\"TFormula\",\"fUniqueID\":0,\"fBits\":1024,\"fName\":\"f1\",\"fTitle\":\"[0] + x*[1] + [3] * exp(-(x - [4])^2\\/(2*[2]*[2]))+ [5] * exp(-(x - [7])^2\\/(2*[6]*[6]))\",\"fClingParameters\":[15616.031301755,-4.71318633994348,6.4121223563041,1513.88705114167,2468.42401630836,1,0,2468],\"fAllParametersSetted\":true,\"fParams\":[{\"$pair\":\"pair<TString,int,TFormulaParamOrder>\",\"first\":\"p0\",\"second\":0},{\"$pair\":\"pair<TString,int,TFormulaParamOrder>\",\"first\":\"p1\",\"second\":1},{\"$pair\":\"pair<TString,int,TFormulaParamOrder>\",\"first\":\"p2\",\"second\":2},{\"$pair\":\"pair<TString,int,TFormulaParamOrder>\",\"first\":\"p3\",\"second\":3},{\"$pair\":\"pair<TString,int,TFormulaParamOrder>\",\"first\":\"p4\",\"second\":4},{\"$pair\":\"pair<TString,int,TFormulaParamOrder>\",\"first\":\"p5\",\"second\":5},{\"$pair\":\"pair<TString,int,TFormulaParamOrder>\",\"first\":\"p6\",\"second\":6},{\"$pair\":\"pair<TString,int,TFormulaParamOrder>\",\"first\":\"p7\",\"second\":7}],\"fFormula\":\"[p0]+x*[p1]+[p3]*exp(-pow((x-[p4]),2)\\/(2*[p2]*[p2]))+[p5]*exp(-pow((x-[p7]),2)\\/(2*[p6]*[p6]))\",\"fNdim\":1,\"fLinearParts\":[],\"fVectorized\":false},\"fParams\":null,\"fComposition\":null}],\"opt\":[\"\"]},\"fBufferSize\":0,\"fBuffer\":[],\"fBinStatErrOpt\":0,\"fStatOverflows\":2,\"fArray\":[33246,4206,4126,4033,4029,3951,4282,4137,4174,4206,4342,4121,4183,4122,4136,4060,4276,4192,4037,4195,3940,4089,4207,4301,4072,4184,4225,4132,4053,4052,4190,4196,4095,4115,4002,4198,4151,4213,4200,4300,4321,4390,4439,4582,4345,4723,4928,4845,4828,5030,5181,5397,5387,5650,5486,5430,5603,5412,5218,5290,5153,4853,4885,4594,4442,4303,4270,4276,4150,4195,3972,3875,4055,4081,4033,4048,3782,3919,3840,3878,3975,3850,3833,3900,3842,3766,3704,3887,3989,3660,3872,3727,3899,3981,3736,3845,3727,3904,3670,3758,3729,54398]},{\"_typename\":\"TH1F\",\"fUniqueID\":0,\"fBits\":520,\"fName\":\"h1\",\"fTitle\":\"Kombination der Teilchen\",\"fLineColor\":602,\"fLineStyle\":1,\"fLineWidth\":1,\"fFillColor\":0,\"fFillStyle\":1001,\"fMarkerColor\":1,\"fMarkerStyle\":1,\"fMarkerSize\":1,\"fNcells\":102,\"fXaxis\":{\"_typename\":\"TAxis\",\"fUniqueID\":0,\"fBits\":0,\"fName\":\"xaxis\",\"fTitle\":\"\",\"fNdivisions\":510,\"fAxisColor\":1,\"fLabelColor\":1,\"fLabelFont\":42,\"fLabelOffset\":0.005,\"fLabelSize\":0.035,\"fTickLength\":0.03,\"fTitleOffset\":1,\"fTitleSize\":0.035,\"fTitleColor\":1,\"fTitleFont\":42,\"fNbins\":100,\"fXmin\":2420,\"fXmax\":2510,\"fXbins\":[],\"fFirst\":0,\"fLast\":0,\"fBits2\":0,\"fTimeDisplay\":false,\"fTimeFormat\":\"\",\"fLabels\":null,\"fModLabs\":null},\"fYaxis\":{\"_typename\":\"TAxis\",\"fUniqueID\":0,\"fBits\":0,\"fName\":\"yaxis\",\"fTitle\":\"\",\"fNdivisions\":510,\"fAxisColor\":1,\"fLabelColor\":1,\"fLabelFont\":42,\"fLabelOffset\":0.005,\"fLabelSize\":0.035,\"fTickLength\":0.03,\"fTitleOffset\":0,\"fTitleSize\":0.035,\"fTitleColor\":1,\"fTitleFont\":42,\"fNbins\":1,\"fXmin\":0,\"fXmax\":1,\"fXbins\":[],\"fFirst\":0,\"fLast\":0,\"fBits2\":0,\"fTimeDisplay\":false,\"fTimeFormat\":\"\",\"fLabels\":null,\"fModLabs\":null},\"fZaxis\":{\"_typename\":\"TAxis\",\"fUniqueID\":0,\"fBits\":0,\"fName\":\"zaxis\",\"fTitle\":\"\",\"fNdivisions\":510,\"fAxisColor\":1,\"fLabelColor\":1,\"fLabelFont\":42,\"fLabelOffset\":0.005,\"fLabelSize\":0.035,\"fTickLength\":0.03,\"fTitleOffset\":1,\"fTitleSize\":0.035,\"fTitleColor\":1,\"fTitleFont\":42,\"fNbins\":1,\"fXmin\":0,\"fXmax\":1,\"fXbins\":[],\"fFirst\":0,\"fLast\":0,\"fBits2\":0,\"fTimeDisplay\":false,\"fTimeFormat\":\"\",\"fLabels\":null,\"fModLabs\":null},\"fBarOffset\":0,\"fBarWidth\":1000,\"fEntries\":128233,\"fTsumw\":108771,\"fTsumw2\":108771,\"fTsumwx\":268050843.288748,\"fTsumwx2\":660635828727.905,\"fMaximum\":-1111,\"fMinimum\":-1111,\"fNormFactor\":0,\"fContour\":[],\"fSumw2\":[],\"fOption\":\"\",\"fFunctions\":{\"_typename\":\"TList\",\"name\":\"TList\",\"arr\":[{\"_typename\":\"TF1\",\"fUniqueID\":0,\"fBits\":1024,\"fName\":\"f1\",\"fTitle\":\"[0] + x*[1] + [3] * exp(-(x - [4])^2\\/(2*[2]*[2]))+ [5] * exp(-(x - [7])^2\\/(2*[6]*[6]))\",\"fLineColor\":594,\"fLineStyle\":1,\"fLineWidth\":2,\"fFillColor\":19,\"fFillStyle\":0,\"fMarkerColor\":1,\"fMarkerStyle\":1,\"fMarkerSize\":1,\"fXmin\":2420,\"fXmax\":2510,\"fNpar\":8,\"fNdim\":1,\"fNpx\":100,\"fType\":0,\"fNpfits\":100,\"fNDF\":92,\"fChisquare\":212.496804980833,\"fMinimum\":-1111,\"fMaximum\":-1111,\"fParErrors\":[3.20647919836901,0.00130010595413797,0.0829589997627364,11.1999091780097,0.103064638687164,0.424264068711929,1.4142135623731,1.4142135623731],\"fParMin\":[0,0,0,0,0,0,0,0],\"fParMax\":[0,0,0,0,0,0,0,0],\"fSave\":[1002.34339743091,1000.56247234193,998.781547258574,997.000622189329,995.219697154921,993.438772204859,991.657847455152,989.876923172321,988.095999956728,986.315079134211,984.534163575135,982.753259370849,980.97237919143,979.191548864975,977.410819986163,975.630293542015,973.850163182555,972.070792654158,970.292851132387,968.517544112298,966.746997723576,964.984882404179,963.237398884164,961.514795266797,959.833636194164,958.220097498704,956.714601037991,955.378116866592,954.300419076633,953.610457717373,953.488770820476,954.181481777259,956.014897787526,959.409062474918,964.887878106367,973.082707453291,984.725849292617,1000.63014953059,1021.65146595049,1048.63191795406,1082.32390312568,1123.29768483596,1171.83869851326,1227.84414225907,1290.73130343126,1359.37174531667,1432.06531065127,1506.56547227942,1580.16280528029,1649.82664018791,1712.39710412157,1764.81194254088,1804.34608099126,1828.83808452687,1836.87739415273,1827.92978066897,1802.38548935502,1761.52403777379,1707.40008548978,1642.66454213973,1570.34258068901,1493.59437056734,1415.4846654113,1338.78408490565,1265.81883318589,1198.37790915293,1137.67893257784,1084.38675158947,1038.67389743083,1000.30915451393,968.760012301037,943.296187316972,923.084144511946,907.265925045978,895.018976973354,885.596611116495,878.35088468847,872.741057747097,868.33133282592,864.781535142027,861.833921467783,859.298618496692,857.03945052274,854.961236831486,852.999086729391,851.109817826818,849.265364228881,847.44790144137,845.646363009282,843.854029782175,842.066910817313,840.282686502289,838.500037234348,836.718228066969,834.936858189271,833.155713523228,831.374682067442,829.593706415974,827.81275773982,826.031821851851,824.250891909825,2420,2510],\"fNormalized\":false,\"fNormIntegral\":0,\"fFormula\":{\"_typename\":\"TFormula\",\"fUniqueID\":0,\"fBits\":1024,\"fName\":\"f1\",\"fTitle\":\"[0] + x*[1] + [3] * exp(-(x - [4])^2\\/(2*[2]*[2]))+ [5] * exp(-(x - [7])^2\\/(2*[6]*[6]))\",\"fClingParameters\":[5791.05309057697,-1.97880565832569,6.64617544891619,930.756479159409,2468.67061029311,-413275.474027577,0,2468],\"fAllParametersSetted\":true,\"fParams\":[{\"$pair\":\"pair<TString,int,TFormulaParamOrder>\",\"first\":\"p0\",\"second\":0},{\"$pair\":\"pair<TString,int,TFormulaParamOrder>\",\"first\":\"p1\",\"second\":1},{\"$pair\":\"pair<TString,int,TFormulaParamOrder>\",\"first\":\"p2\",\"second\":2},{\"$pair\":\"pair<TString,int,TFormulaParamOrder>\",\"first\":\"p3\",\"second\":3},{\"$pair\":\"pair<TString,int,TFormulaParamOrder>\",\"first\":\"p4\",\"second\":4},{\"$pair\":\"pair<TString,int,TFormulaParamOrder>\",\"first\":\"p5\",\"second\":5},{\"$pair\":\"pair<TString,int,TFormulaParamOrder>\",\"first\":\"p6\",\"second\":6},{\"$pair\":\"pair<TString,int,TFormulaParamOrder>\",\"first\":\"p7\",\"second\":7}],\"fFormula\":\"[p0]+x*[p1]+[p3]*exp(-pow((x-[p4]),2)\\/(2*[p2]*[p2]))+[p5]*exp(-pow((x-[p7]),2)\\/(2*[p6]*[p6]))\",\"fNdim\":1,\"fLinearParts\":[],\"fVectorized\":false},\"fParams\":null,\"fComposition\":null}],\"opt\":[\"\"]},\"fBufferSize\":0,\"fBuffer\":[],\"fBinStatErrOpt\":0,\"fStatOverflows\":2,\"fArray\":[8045,992,1036,940,972,968,908,935,997,1043,973,1013,958,921,1043,1032,1051,896,886,993,955,943,1010,1032,929,990,1008,941,993,887,916,1023,946,977,943,1019,994,1053,968,1088,1076,1165,1118,1178,1262,1369,1403,1377,1442,1627,1689,1747,1781,1865,1882,1873,1825,1813,1653,1790,1665,1466,1460,1312,1255,1219,1174,1100,982,1036,998,982,986,1008,995,983,822,956,892,917,864,868,827,879,824,814,877,899,831,830,813,777,848,827,830,838,828,848,784,761,789,11417]},{\"_typename\":\"TF1\",\"fUniqueID\":0,\"fBits\":8,\"fName\":\"f21\",\"fTitle\":\"5791.053090576972+x*-1.9788056583256914\",\"fLineColor\":1,\"fLineStyle\":4,\"fLineWidth\":2,\"fFillColor\":19,\"fFillStyle\":0,\"fMarkerColor\":1,\"fMarkerStyle\":1,\"fMarkerSize\":1,\"fXmin\":0,\"fXmax\":2510,\"fNpar\":0,\"fNdim\":1,\"fNpx\":100,\"fType\":0,\"fNpfits\":0,\"fNDF\":0,\"fChisquare\":0,\"fMinimum\":-1111,\"fMaximum\":-1111,\"fParErrors\":[],\"fParMin\":[],\"fParMax\":[],\"fSave\":[],\"fNormalized\":false,\"fNormIntegral\":0,\"fFormula\":{\"_typename\":\"TFormula\",\"fUniqueID\":0,\"fBits\":1024,\"fName\":\"f21\",\"fTitle\":\"5791.053090576972+x*-1.9788056583256914\",\"fClingParameters\":[],\"fAllParametersSetted\":true,\"fParams\":[],\"fFormula\":\"5791.053090576972+x*-1.9788056583256914\",\"fNdim\":1,\"fLinearParts\":[],\"fVectorized\":false},\"fParams\":null,\"fComposition\":null},{\"_typename\":\"TF1\",\"fUniqueID\":0,\"fBits\":8,\"fName\":\"f22\",\"fTitle\":\"930.7564791594085 * exp(-(x - 2468.670610293113)^2\\/(2*6.646175448916187*6.646175448916187))+ -413275.47402757686 * exp(-(x - 2468.0)^2\\/(2*0.0*0.0))\",\"fLineColor\":602,\"fLineStyle\":1,\"fLineWidth\":3,\"fFillColor\":19,\"fFillStyle\":0,\"fMarkerColor\":1,\"fMarkerStyle\":1,\"fMarkerSize\":1,\"fXmin\":2420,\"fXmax\":2510,\"fNpar\":0,\"fNdim\":1,\"fNpx\":100,\"fType\":0,\"fNpfits\":0,\"fNDF\":0,\"fChisquare\":0,\"fMinimum\":-1111,\"fMaximum\":-1111,\"fParErrors\":[],\"fParMin\":[],\"fParMax\":[],\"fSave\":[],\"fNormalized\":false,\"fNormIntegral\":0,\"fFormula\":{\"_typename\":\"TFormula\",\"fUniqueID\":0,\"fBits\":1024,\"fName\":\"f22\",\"fTitle\":\"930.7564791594085 * exp(-(x - 2468.670610293113)^2\\/(2*6.646175448916187*6.646175448916187))+ -413275.47402757686 * exp(-(x - 2468.0)^2\\/(2*0.0*0.0))\",\"fClingParameters\":[],\"fAllParametersSetted\":true,\"fParams\":[],\"fFormula\":\"930.7564791594085*exp(-pow((x-2468.670610293113),2)\\/(2*6.646175448916187*6.646175448916187))+-413275.47402757686*exp(-pow((x-2468.0),2)\\/(2*0.0*0.0))\",\"fNdim\":1,\"fLinearParts\":[],\"fVectorized\":false},\"fParams\":null,\"fComposition\":null},{\"_typename\":\"TF1\",\"fUniqueID\":0,\"fBits\":8,\"fName\":\"f3\",\"fTitle\":\"15616.031301755034+x*-4.713186339943479\",\"fLineColor\":1,\"fLineStyle\":4,\"fLineWidth\":2,\"fFillColor\":19,\"fFillStyle\":0,\"fMarkerColor\":1,\"fMarkerStyle\":1,\"fMarkerSize\":1,\"fXmin\":0,\"fXmax\":2510,\"fNpar\":0,\"fNdim\":1,\"fNpx\":100,\"fType\":0,\"fNpfits\":0,\"fNDF\":0,\"fChisquare\":0,\"fMinimum\":-1111,\"fMaximum\":-1111,\"fParErrors\":[],\"fParMin\":[],\"fParMax\":[],\"fSave\":[],\"fNormalized\":false,\"fNormIntegral\":0,\"fFormula\":{\"_typename\":\"TFormula\",\"fUniqueID\":0,\"fBits\":1024,\"fName\":\"f3\",\"fTitle\":\"15616.031301755034+x*-4.713186339943479\",\"fClingParameters\":[],\"fAllParametersSetted\":true,\"fParams\":[],\"fFormula\":\"15616.031301755034+x*-4.713186339943479\",\"fNdim\":1,\"fLinearParts\":[],\"fVectorized\":false},\"fParams\":null,\"fComposition\":null},{\"_typename\":\"TPaveText\",\"fUniqueID\":0,\"fBits\":9,\"fLineColor\":1,\"fLineStyle\":1,\"fLineWidth\":1,\"fFillColor\":0,\"fFillStyle\":0,\"fX1\":2438.78863026269,\"fY1\":6229.12507790351,\"fX2\":2491.21136973731,\"fY2\":6636.98446505866,\"fX1NDC\":0.267010050251256,\"fY1NDC\":0.940000003948808,\"fX2NDC\":0.732989949748744,\"fY2NDC\":0.995000004768372,\"fBorderSize\":0,\"fInit\":1,\"fShadowColor\":1,\"fCornerRadius\":0,\"fOption\":\"blNDC\",\"fName\":\"title\",\"fTextAngle\":0,\"fTextSize\":0,\"fTextAlign\":22,\"fTextColor\":1,\"fTextFont\":42,\"fLabel\":\"\",\"fLongest\":24,\"fMargin\":0.05,\"fLines\":{\"_typename\":\"TList\",\"name\":\"TList\",\"arr\":[{\"_typename\":\"TLatex\",\"fUniqueID\":0,\"fBits\":0,\"fName\":\"\",\"fTitle\":\"Kombination der Teilchen\",\"fTextAngle\":0,\"fTextSize\":0,\"fTextAlign\":0,\"fTextColor\":0,\"fTextFont\":0,\"fX\":0,\"fY\":0,\"fLineColor\":1,\"fLineStyle\":1,\"fLineWidth\":2,\"fLimitFactorSize\":3,\"fOriginSize\":0.0467500016093254}],\"opt\":[\"\"]}},{\"_typename\":\"TLegend\",\"fUniqueID\":0,\"fBits\":8,\"fLineColor\":1,\"fLineStyle\":1,\"fLineWidth\":1,\"fFillColor\":0,\"fFillStyle\":1001,\"fX1\":0.8,\"fY1\":0.7,\"fX2\":0.99,\"fY2\":0.99,\"fX1NDC\":0,\"fY1NDC\":0,\"fX2NDC\":0,\"fY2NDC\":0,\"fBorderSize\":1,\"fInit\":0,\"fShadowColor\":1,\"fCornerRadius\":0,\"fOption\":\"brNDC\",\"fName\":\"TPave\",\"fTextAngle\":0,\"fTextSize\":0,\"fTextAlign\":12,\"fTextColor\":1,\"fTextFont\":42,\"fPrimitives\":{\"_typename\":\"TList\",\"name\":\"TList\",\"arr\":[{\"_typename\":\"TLegendEntry\",\"fUniqueID\":0,\"fBits\":0,\"fTextAngle\":0,\"fTextSize\":0,\"fTextAlign\":0,\"fTextColor\":0,\"fTextFont\":0,\"fLineColor\":1,\"fLineStyle\":1,\"fLineWidth\":1,\"fFillColor\":0,\"fFillStyle\":0,\"fMarkerColor\":1,\"fMarkerStyle\":21,\"fMarkerSize\":1,\"fObject\":{\"$ref\":3},\"fLabel\":\"Ungefilterte Daten\",\"fOption\":\"l\"},{\"_typename\":\"TLegendEntry\",\"fUniqueID\":0,\"fBits\":0,\"fTextAngle\":0,\"fTextSize\":0,\"fTextAlign\":0,\"fTextColor\":0,\"fTextFont\":0,\"fLineColor\":1,\"fLineStyle\":1,\"fLineWidth\":1,\"fFillColor\":0,\"fFillStyle\":0,\"fMarkerColor\":1,\"fMarkerStyle\":21,\"fMarkerSize\":1,\"fObject\":{\"$ref\":10},\"fLabel\":\"Gefilterte Daten\",\"fOption\":\"l\"},{\"_typename\":\"TLegendEntry\",\"fUniqueID\":0,\"fBits\":0,\"fTextAngle\":0,\"fTextSize\":0,\"fTextAlign\":0,\"fTextColor\":0,\"fTextFont\":0,\"fLineColor\":1,\"fLineStyle\":1,\"fLineWidth\":1,\"fFillColor\":0,\"fFillStyle\":0,\"fMarkerColor\":1,\"fMarkerStyle\":21,\"fMarkerSize\":1,\"fObject\":{\"$ref\":19},\"fLabel\":\"Gefiltertes Signal\",\"fOption\":\"l\"}],\"opt\":[\"l\",\"l\",\"l\"]},\"fEntrySeparation\":0.1,\"fMargin\":0.25,\"fNColumns\":1,\"fColumnSeparation\":0},{\"_typename\":\"TStyle\",\"fUniqueID\":0,\"fBits\":0,\"fName\":\"Modern\",\"fTitle\":\"Modern Style\",\"fLineColor\":1,\"fLineStyle\":1,\"fLineWidth\":1,\"fFillColor\":19,\"fFillStyle\":1001,\"fMarkerColor\":1,\"fMarkerStyle\":1,\"fMarkerSize\":1,\"fTextAngle\":0,\"fTextSize\":0.05,\"fTextAlign\":11,\"fTextColor\":1,\"fTextFont\":62,\"fXaxis\":{\"_typename\":\"TAttAxis\",\"fNdivisions\":510,\"fAxisColor\":1,\"fLabelColor\":1,\"fLabelFont\":42,\"fLabelOffset\":0.005,\"fLabelSize\":0.035,\"fTickLength\":0.03,\"fTitleOffset\":1,\"fTitleSize\":0.035,\"fTitleColor\":1,\"fTitleFont\":42},\"fYaxis\":{\"_typename\":\"TAttAxis\",\"fNdivisions\":510,\"fAxisColor\":1,\"fLabelColor\":1,\"fLabelFont\":42,\"fLabelOffset\":0.005,\"fLabelSize\":0.035,\"fTickLength\":0.03,\"fTitleOffset\":0,\"fTitleSize\":0.035,\"fTitleColor\":1,\"fTitleFont\":42},\"fZaxis\":{\"_typename\":\"TAttAxis\",\"fNdivisions\":510,\"fAxisColor\":1,\"fLabelColor\":1,\"fLabelFont\":42,\"fLabelOffset\":0.005,\"fLabelSize\":0.035,\"fTickLength\":0.03,\"fTitleOffset\":1,\"fTitleSize\":0.035,\"fTitleColor\":1,\"fTitleFont\":42},\"fBarWidth\":1,\"fBarOffset\":0,\"fColorModelPS\":0,\"fDrawBorder\":0,\"fOptLogx\":0,\"fOptLogy\":0,\"fOptLogz\":0,\"fOptDate\":0,\"fOptStat\":0,\"fOptTitle\":1,\"fOptFile\":0,\"fOptFit\":0,\"fShowEventStatus\":0,\"fShowEditor\":0,\"fShowToolBar\":0,\"fNumberContours\":20,\"fAttDate\":{\"_typename\":\"TAttText\",\"fTextAngle\":0,\"fTextSize\":0.025,\"fTextAlign\":11,\"fTextColor\":1,\"fTextFont\":62},\"fDateX\":0.01,\"fDateY\":0.01,\"fEndErrorSize\":2,\"fErrorX\":0.5,\"fFuncColor\":2,\"fFuncStyle\":1,\"fFuncWidth\":2,\"fGridColor\":0,\"fGridStyle\":3,\"fGridWidth\":1,\"fLegendBorderSize\":1,\"fLegendFillColor\":0,\"fLegendFont\":42,\"fLegendTextSize\":0,\"fHatchesLineWidth\":1,\"fHatchesSpacing\":1,\"fFrameFillColor\":0,\"fFrameLineColor\":1,\"fFrameFillStyle\":1001,\"fFrameLineStyle\":1,\"fFrameLineWidth\":1,\"fFrameBorderSize\":1,\"fFrameBorderMode\":0,\"fHistFillColor\":0,\"fHistLineColor\":602,\"fHistFillStyle\":1001,\"fHistLineStyle\":1,\"fHistLineWidth\":1,\"fHistMinimumZero\":false,\"fHistTopMargin\":0.05,\"fCanvasPreferGL\":false,\"fCanvasColor\":0,\"fCanvasBorderSize\":2,\"fCanvasBorderMode\":0,\"fCanvasDefH\":500,\"fCanvasDefW\":700,\"fCanvasDefX\":10,\"fCanvasDefY\":10,\"fPadColor\":0,\"fPadBorderSize\":2,\"fPadBorderMode\":0,\"fPadBottomMargin\":0.1,\"fPadTopMargin\":0.1,\"fPadLeftMargin\":0.1,\"fPadRightMargin\":0.1,\"fPadGridX\":false,\"fPadGridY\":false,\"fPadTickX\":0,\"fPadTickY\":0,\"fPaperSizeX\":20,\"fPaperSizeY\":26,\"fScreenFactor\":1,\"fStatColor\":0,\"fStatTextColor\":1,\"fStatBorderSize\":1,\"fStatFont\":42,\"fStatFontSize\":0,\"fStatStyle\":1001,\"fStatFormat\":\"6.4g\",\"fStatX\":0.98,\"fStatY\":0.935,\"fStatW\":0.2,\"fStatH\":0.16,\"fStripDecimals\":true,\"fTitleAlign\":23,\"fTitleColor\":0,\"fTitleTextColor\":1,\"fTitleBorderSize\":0,\"fTitleFont\":42,\"fTitleFontSize\":0.05,\"fTitleStyle\":0,\"fTitleX\":0.5,\"fTitleY\":0.995,\"fTitleW\":0,\"fTitleH\":0,\"fLegoInnerR\":0.5,\"fLineStyle\":[\"\",\"  \",\" 12 12\",\" 4 8\",\" 12 16 4 16\",\" 20 12 4 12\",\" 20 12 4 12 4 12 4 12\",\" 20 20\",\" 20 12 4 12 4 12\",\" 80 20\",\" 80 40 4 40\",\"  \",\"  \",\"  \",\"  \",\"  \",\"  \",\"  \",\"  \",\"  \",\"  \",\"  \",\"  \",\"  \",\"  \",\"  \",\"  \",\"  \",\"  \",\"  \"],\"fHeaderPS\":\"\",\"fTitlePS\":\"\",\"fFitFormat\":\"5.4g\",\"fPaintTextFormat\":\"g\",\"fLineScalePS\":3,\"fJoinLinePS\":0,\"fCapLinePS\":0,\"fTimeOffset\":788918400,\"fImageScaling\":1}],\"opt\":[\"\",\"MIN0\",\"same\",\"same\",\"same\",\"same\",\"blNDC\",\"\",\"\"]},\"fExecs\":null,\"fName\":\"myCanvasName\",\"fTitle\":\"Titel\",\"fNumPaletteColor\":0,\"fNextPaletteColor\":0,\"fDISPLAY\":\"$DISPLAY\",\"fDoubleBuffer\":0,\"fRetained\":true,\"fXsizeUser\":0,\"fYsizeUser\":0,\"fXsizeReal\":20,\"fYsizeReal\":15,\"fWindowTopX\":0,\"fWindowTopY\":0,\"fWindowWidth\":0,\"fWindowHeight\":0,\"fCw\":796,\"fCh\":572,\"fCatt\":{\"_typename\":\"TAttCanvas\",\"fXBetween\":2,\"fYBetween\":2,\"fTitleFromTop\":1.2,\"fXdate\":0.2,\"fYdate\":0.3,\"fAdate\":1},\"kMoveOpaque\":true,\"kResizeOpaque\":true,\"fHighLightColor\":2,\"fBatch\":true,\"kShowEventStatus\":false,\"kAutoExec\":true,\"kMenuBar\":true});\n",
       "   Core.settings.HandleKeys = false;\n",
       "   Core.draw(\"root_plot_1635372098873\", obj, \"\");\n",
       "}\n",
       "\n",
       "function script_load_root_plot_1635372098873(src, on_error) {\n",
       "    let script = document.createElement('script');\n",
       "    script.src = src;\n",
       "    script.onload = function() { display_root_plot_1635372098873(JSROOT); };\n",
       "    script.onerror = function() { script.remove(); on_error(); };\n",
       "    document.head.appendChild(script);\n",
       "}\n",
       "\n",
       "if (typeof requirejs !== 'undefined') {\n",
       "\n",
       "    // We are in jupyter notebooks, use require.js which should be configured already\n",
       "    requirejs.config({\n",
       "       paths: { 'JSRootCore' : [ 'scripts/JSRoot.core', 'https://root.cern/js/6.1.1/scripts/JSRoot.core.min', 'https://jsroot.gsi.de/6.1.1/scripts/JSRoot.core.min' ] }\n",
       "    })(['JSRootCore'],  function(Core) {\n",
       "       display_root_plot_1635372098873(Core);\n",
       "    });\n",
       "\n",
       "} else if (typeof JSROOT !== 'undefined') {\n",
       "\n",
       "   // JSROOT already loaded, just use it\n",
       "   display_root_plot_1635372098873(JSROOT);\n",
       "\n",
       "} else {\n",
       "\n",
       "    // We are in jupyterlab without require.js, directly loading jsroot\n",
       "    // Jupyterlab might be installed in a different base_url so we need to know it.\n",
       "    try {\n",
       "        var base_url = JSON.parse(document.getElementById('jupyter-config-data').innerHTML).baseUrl;\n",
       "    } catch(_) {\n",
       "        var base_url = '/';\n",
       "    }\n",
       "\n",
       "    // Try loading a local version of requirejs and fallback to cdn if not possible.\n",
       "    script_load_root_plot_1635372098873(base_url + 'static/scripts/JSRoot.core.js', function(){\n",
       "        console.error('Fail to load JSROOT locally, please check your jupyter_notebook_config.py file');\n",
       "        script_load_root_plot_1635372098873('https://root.cern/js/6.1.1/scripts/JSRoot.core.min.js', function(){\n",
       "            document.getElementById(\"root_plot_1635372098873\").innerHTML = \"Failed to load JSROOT\";\n",
       "        });\n",
       "    });\n",
       "}\n",
       "\n",
       "</script>\n"
      ],
      "text/plain": [
       "<IPython.core.display.HTML object>"
      ]
     },
     "metadata": {},
     "output_type": "display_data"
    }
   ],
   "source": [
    "xmin = 2420\n",
    "xmax = 2510\n",
    "ROOT.gStyle.SetOptStat(0)\n",
    "\n",
    "#Erstellen Fitfunktion:\n",
    "f1 = ROOT.TF1('f1','[0] + x*[1] + [3] * exp(-(x - [4])^2/(2*[2]*[2]))+ [5] * exp(-(x - [7])^2/(2*[6]*[6]))', xmin, xmax)\n",
    "f1.SetParameter(4, 2468)\n",
    "f1.SetParameter(3,1) \n",
    "f1.SetParameter(5,1) \n",
    "f1.SetParameter(7, 2468)\n",
    "\n",
    "#Erstellen und Füllen der Histogramme\n",
    "h1 = ROOT.TH1F(\"h1\", \"Kombination der Teilchen\", 100, xmin, xmax) #Hist mit\n",
    "h2 = ROOT.TH1F(\"h2\", \"Kombination der Teilchen\", 100, xmin, xmax) #Hist ohne\n",
    "tree1.Draw(\"lab1_M>>h1\",cut10) #Füllen Hist mit\n",
    "tree1.Draw(\"lab1_M>>h2\") #Füllen Hist ohne\n",
    "c1 = ROOT.TCanvas(\"myCanvasName\",\"Titel\",800,600) #Erstellen Canvas\n",
    "h2.SetLineColor(ROOT.kRed)\n",
    "h2.Draw(\"MIN0\") #Hist ohne zeichnen (y-Achse ab 0)\n",
    "h1.Draw(\"same\") #Hist mit zeichnen in gleiches Canvas\n",
    "\n",
    "#erste Fits, Fitparameter für Integrale nehmen\n",
    "f1.SetLineColor(ROOT.kBlue-6)\n",
    "h1.Fit(\"f1\",\"RQ\") #Hist mC fitten\n",
    "p10 = f1.GetParameter(\"p0\") #getParForBG#Y-Intersect\n",
    "p11 = f1.GetParameter(\"p1\") #GetParForBG#slope\n",
    "p22 = f1.GetParameter(\"p2\") #GetParForSignal #sigma\n",
    "p23 = f1.GetParameter(\"p3\") #Signal\n",
    "p24 = f1.GetParameter(\"p4\") #Signal #Mean\n",
    "p25 = f1.GetParameter(\"p5\") #Signal \n",
    "p26 = f1.GetParameter(\"p6\") #Signal #sigma\n",
    "p27 = f1.GetParameter(\"p7\") #Signal #mean\n",
    "\n",
    "#Bestimmen der Funktione für Integrale, kosmetische Anpassungen Fits\n",
    "f21 = ROOT.TF1(\"f21\", \"{p10}+x*{p11}\".format(p10=p10, p11=p11), 0, xmax) #BGFunctionCut\n",
    "f21.SetLineColor(1) #BGCut\n",
    "f21.SetLineStyle(4) #BGCut\n",
    "f21.Draw(\"same\") #Draw BGCut\n",
    "f22 = ROOT.TF1(\"f22\", \"{p23} * exp(-(x - {p24})^2/(2*{p22}*{p22}))+ {p25} * exp(-(x - {p27})^2/(2*{p26}*{p26}))\".format(p22=p22,p23=p23,p24=p24,p25=p25,p26=p26,p27=p27), xmin,xmax) #only SignalPeak Fit\n",
    "f23 = ROOT.TF1(\"f23\", \"{p10}+x*{p11} +{p23} * exp(-(x - {p24})^2/(2*{p22}*{p22}))+ {p25} * exp(-(x - {p27})^2/(2*{p26}*{p26}))\".format(p10=p10,p11=p11,p22=p22,p23=p23,p24=p24,p25=p25,p26=p26,p27=p27), xmin,xmax)\n",
    "f22.SetLineColor(ROOT.kBlue+2)\n",
    "f22.SetLineWidth(3)\n",
    "f22.Draw(\"same\") #Draw SignalPeak\n",
    "SB = f23.Integral(p24 - 2 * abs(p22), p24 + 2 * abs(p22)) #integrate Sign+Bg in signalregion (mean+-2sigma)\n",
    "Signal = f22.Integral(p24 - 2*abs(p22), p24 + 2*abs(p22)) #integrate signal in signalregion (\"\")\n",
    "f23.SetLineColor(1)\n",
    "f23.SetLineStyle(4)\n",
    "#f23.Draw(\"same\")\n",
    "\n",
    "#Variablen für die\n",
    "Sigma = abs(p22)\n",
    "sqrtSB= math.sqrt(SB)\n",
    "Purity = Signal/sqrtSB\n",
    "print(\"Einträge Signal:\", round(Signal,2))\n",
    "print(\"Einträge Signal + Untergrund:\", round(SB,2))\n",
    "print(\"Reinheit des Signals:\", round(Purity,2))\n",
    "print(\"Breite des Signals:\", round(Sigma,2), \"MeV\")\n",
    "print(\" \")\n",
    "\n",
    "f1.SetParameter(4, 2468)\n",
    "f1.SetParameter(3,1) \n",
    "f1.SetParameter(5,1) \n",
    "f1.SetParameter(7, 2468) \n",
    "f1.SetLineColor(ROOT.kRed)\n",
    "h2.Fit(\"f1\",\"RQ\") #ursprüngliches Signal\n",
    "p0 = f1.GetParameter(\"p0\")\n",
    "p1 = f1.GetParameter(\"p1\")\n",
    "\n",
    "f3 = ROOT.TF1(\"f3\", \"{p0}+x*{p1}\".format(p0=p0, p1=p1), 0, xmax) #ursprünglicher Hintergrund\n",
    "f3.SetLineColor(1) #ursprünglicher Hintergrund\n",
    "f3.SetLineStyle(4) #ursprünglicher Hintergrund\n",
    "f3.Draw(\"same\")\n",
    "%jsroot\n",
    "c1.Draw()\n",
    "h2.GetXaxis().SetTitle(\"m(p K^{-} #pi^{+}) [MeV]\")\n",
    "h2.GetYaxis().SetTitle(\"Eintr#ddot{a}ge pro 1.1MeV\")\n",
    "c1.SetLeftMargin(0.12)\n",
    "leg=ROOT.TLegend(0.8,0.7,0.99,0.99)\n",
    "leg.AddEntry(h2,\"Ungefilterte Daten\",\"l\")\n",
    "leg.AddEntry(h1,\"Gefilterte Daten\",\"l\")\n",
    "leg.AddEntry(f22,\"Gefiltertes Signal\",\"l\")\n",
    "leg.Draw()"
   ]
  },
  {
   "cell_type": "markdown",
   "id": "5ba2eebb",
   "metadata": {},
   "source": [
    "### Aufgabe 2: $\\Omega_c^0$\n",
    "Hier sollst Du Besonderheiten von $\\Omega_c^0$ finden! Dafür kombinieren wir $\\Xi_c^+$ einmal mit $K^-$, einmal mit $K^+$.\n",
    "\n",
    "#### Schieberegler\n",
    "In der nächsten Zelle sollst Du wieder mithilfe der Schiebregler arbeiten. Um die angeregten Zustände zu finden, soll der Untergrund wieder rausgefiltert werden. Die blauen Histogramme zeigen Dir die Werteverteilungen der Filter an, in den grünen Histogrammen sind die beiden Kombinationen von $\\Xi_c^+$ mit den Kaons.\n",
    "\n",
    "\n",
    "Ist der Schieberegler links, wird wenig Filter angewandt. Rechts wird viel gefiltert. Am besten wartest Du auch hier immer kurz (5-10s) bis der zuletzt angewendete Filter von den Histogrammen übernommen wurde."
   ]
  },
  {
   "cell_type": "code",
   "execution_count": 19,
   "id": "90e5c9c0",
   "metadata": {
    "scrolled": false
   },
   "outputs": [
    {
     "data": {
      "application/vnd.jupyter.widget-view+json": {
       "model_id": "bf49e456c28942929181336eea162a7e",
       "version_major": 2,
       "version_minor": 0
      },
      "text/plain": [
       "Canvas(toolbar=Toolbar(toolitems=[('Home', 'Reset original view', 'home', 'home'), ('Back', 'Back to previous …"
      ]
     },
     "metadata": {},
     "output_type": "display_data"
    },
    {
     "name": "stdout",
     "output_type": "stream",
     "text": [
      "Eine kurze Erinnerung: Ist der Slider auf der linken Seite, wird wenig gefiltert, rechts filtert er stark.\n"
     ]
    },
    {
     "data": {
      "application/vnd.jupyter.widget-view+json": {
       "model_id": "4e95fe1df92143738b4905e51263dbca",
       "version_major": 2,
       "version_minor": 0
      },
      "text/plain": [
       "Label(value='Filter 2: $P(e^-)$ Wahrscheinlichkeit, dass ein Teilchen ein Proton ist')"
      ]
     },
     "metadata": {},
     "output_type": "display_data"
    },
    {
     "data": {
      "application/vnd.jupyter.widget-view+json": {
       "model_id": "8773536dee5d433c91fefac190d87c59",
       "version_major": 2,
       "version_minor": 0
      },
      "text/plain": [
       "Label(value='Filter 3: $\\\\chi^2_{Stoß}$ Qualität des Stoßparameters zwischen Teilchen und Kollisionspunkt')"
      ]
     },
     "metadata": {},
     "output_type": "display_data"
    },
    {
     "data": {
      "application/vnd.jupyter.widget-view+json": {
       "model_id": "da7d41f0d35748feb6e0febe2b87af64",
       "version_major": 2,
       "version_minor": 0
      },
      "text/plain": [
       "Label(value='Filter 4: $\\\\chi^2_{Flug}$ Qualität der Flugdistanz bezüglich des Kollisionspunkts')"
      ]
     },
     "metadata": {},
     "output_type": "display_data"
    },
    {
     "data": {
      "application/vnd.jupyter.widget-view+json": {
       "model_id": "955d5c2d032a4ea4ba6267291c7f774e",
       "version_major": 2,
       "version_minor": 0
      },
      "text/plain": [
       "Label(value='Filter 5: $\\\\chi_{DTF}^{2}$ Qualität des Fits mit erwarteten Massenhypothesen')"
      ]
     },
     "metadata": {},
     "output_type": "display_data"
    },
    {
     "data": {
      "application/vnd.jupyter.widget-view+json": {
       "model_id": "34a28f95e46b4114b25049ce18af1507",
       "version_major": 2,
       "version_minor": 0
      },
      "text/plain": [
       "Label(value='Filter 6: $P(K)$ Wahrscheinlichkeit, dass zugefügtes Teilchen ein Kaon ist')"
      ]
     },
     "metadata": {},
     "output_type": "display_data"
    },
    {
     "data": {
      "application/vnd.jupyter.widget-view+json": {
       "model_id": "518decadfc124b869c98dd1b05039780",
       "version_major": 2,
       "version_minor": 0
      },
      "text/plain": [
       "Label(value='Filter 7: $p_{T}$ Größe des Transversalimpulses')"
      ]
     },
     "metadata": {},
     "output_type": "display_data"
    },
    {
     "data": {
      "application/vnd.jupyter.widget-view+json": {
       "model_id": "4166b825fa744d61bb7c69debb40a9e9",
       "version_major": 2,
       "version_minor": 0
      },
      "text/plain": [
       "interactive(children=(FloatSlider(value=0.0, continuous_update=False, description='Ftr.2 $P(p)$', max=1.0, ste…"
      ]
     },
     "metadata": {},
     "output_type": "display_data"
    }
   ],
   "source": [
    "%matplotlib widget\n",
    "\n",
    "df = df.assign(Xic= df[\"lab0_M\"] * 0 + 2467.89)\n",
    "gf = gf.assign(Xic= gf[\"lab0_M\"] * 0 + 2467.89)\n",
    "\n",
    "\n",
    "fig = plt.figure()\n",
    "fig.set_size_inches(10, 6)\n",
    "fig.canvas.header_visible = False\n",
    "\n",
    "ax = plt.subplot2grid((13,14),(1,1),colspan = 5, rowspan = 5)\n",
    "bx = plt.subplot2grid((13,14),(7,1),colspan = 5, rowspan = 5)\n",
    "cx = plt.subplot2grid((13,14),(1,7),colspan = 3, rowspan = 3)\n",
    "ex = plt.subplot2grid((13,14),(5,7),colspan = 3, rowspan = 3)\n",
    "gx = plt.subplot2grid((13,14),(9,7),colspan = 3, rowspan = 3)\n",
    "dx = plt.subplot2grid((13,14),(1,11),colspan = 3, rowspan = 3)\n",
    "fx = plt.subplot2grid((13,14),(5,11),colspan = 3, rowspan = 3)\n",
    "hx = plt.subplot2grid((13,14),(9,11),colspan = 3, rowspan = 3)\n",
    "plt.tight_layout()\n",
    "\n",
    "#print(\"Bedingung 2: Wahrscheinlichkeit, dass ein Teilchen ein Proton ist\")\n",
    "#print(\"Bedingung 3: Qualität des Stoßparameters zwischen Teilchen und Kollisionspunkt\")\n",
    "#print(\"Bedingung 4: Qualität der Flugdistanz bezüglich des Kollisionspunkts\")\n",
    "#print(\"Bedingung 5: Qualität des Fits mit erwarteten Massenhypothesen (= DTF)\")\n",
    "#print(\"Bedingung 6: Wahrscheinlichkeit, dass ein Teilchen ein Kaon ist\")\n",
    "#print(\"Bedingung 7: Größe des Transversalimpulses\")\n",
    "print(\"Eine kurze Erinnerung: Ist der Slider auf der linken Seite, wird wenig gefiltert, rechts filtert er stark.\")\n",
    "lb5 = widgets.Label(\"Filter 5: $\\chi_{DTF}^{2}$ Qualität des Fits mit erwarteten Massenhypothesen\")\n",
    "lb6 = widgets.Label(\"Filter 6: $P(K)$ Wahrscheinlichkeit, dass zugefügtes Teilchen ein Kaon ist\")\n",
    "lb7 = widgets.Label(\"Filter 7: $p_{T}$ Größe des Transversalimpulses\")\n",
    "display(lb2, lb3, lb4, lb5, lb6, lb7)\n",
    "\n",
    "@widgets.interact(Cut2=widgets.FloatSlider(min = 0, max = 1, step = 0.05, description = \"Ftr.2 $P(p)$\",continuous_update = False), Cut3=widgets.FloatSlider(value=0,min = 0, max = 11, step = 0.1, description = \"Ftr.3 $\\chi^2_{Stoß}$\",continuous_update = False), Cut4=widgets.IntSlider(min = 0, max = 500, step = 2, description = \"Ftr.4 $\\chi^2_{Flug}$\",continuous_update = False),Cut5=widgets.FloatSlider(min = 0, max = 30, step = 0.1, description = \"Ftr.5 $\\chi^2_{DTF}$\",continuous_update = False), Cut6=widgets.FloatSlider(value=0,min = 0, max = 1, step = 0.01, description = \"Ftr.6 $P(K^-)$\",continuous_update = False), Cut7=widgets.IntSlider(min = 0, max = 10000, step = 20, description = \"Ftr.7 $p_T$\",continuous_update = False))\n",
    "def update(Cut2=0, Cut3=0, Cut4=0, Cut5=0, Cut6=0, Cut7=0):\n",
    "    ax.cla()\n",
    "    bx.cla()\n",
    "    cx.cla()\n",
    "    dx.cla()\n",
    "    ex.cla()\n",
    "    fx.cla()\n",
    "    gx.cla()\n",
    "    hx.cla()\n",
    "\n",
    "    \n",
    "    ax.set_title(\"Kombination $\\Xi_c^+$ mit $K^-$\")\n",
    "    ax.set_ylabel(\"Einträge pro 2.2MeV\")\n",
    "    ax.set_xlabel(\"$m(\\Xi_c^+ K^-)$ [$MeV$]\")\n",
    "    \n",
    "    bx.set_title(\"Kombination $\\Xi_c^+$ mit $K^+$\")\n",
    "    bx.set_ylabel(\"Einträge pro 2.2MeV\")\n",
    "    bx.set_xlabel(\"$m(\\Xi_c^+ K^+)$ [$MeV$]\")\n",
    "    \n",
    "    cx.set_title(\"\")\n",
    "    cx.set_ylabel(\"Einträge\")\n",
    "    cx.set_xlabel(\"Filter 2: Proton\")\n",
    "    \n",
    "    dx.set_title(\"\")\n",
    "    dx.set_ylabel(\"Einträge\")\n",
    "    dx.set_xlabel(\"Filter 3: Stoßparameter\")\n",
    "    dx.set_yscale(\"log\")\n",
    "    \n",
    "    ex.set_title(\"\")\n",
    "    ex.set_ylabel(\"Einträge\")\n",
    "    ex.set_xlabel(\"Filter 4: Flugdistanz\")\n",
    "\n",
    "    fx.set_title(\"\")\n",
    "    fx.set_ylabel(\"Einträge\")\n",
    "    fx.set_xlabel(\"Filter 5: Massenhypothese\")\n",
    "\n",
    "    gx.set_title(\"\")\n",
    "    gx.set_ylabel(\"Einträge\")\n",
    "    gx.set_xlabel(\"Filter 6: Kaon\")\n",
    "    \n",
    "    hx.set_title(\"\")\n",
    "    hx.set_ylabel(\"Einträge\")\n",
    "    hx.set_xlabel(\"Filter 7: Transversalimpuls\")\n",
    "        \n",
    "    ax.hist(df[\"lab0_M\"]-df[\"lab1_M\"]+df[\"Xic\"][df[\"lab2_ProbNNp\"]>Cut2][df[\"lab1_IPCHI2_OWNPV\"]<(11-Cut3)][df[\"lab1_FDCHI2_OWNPV\"]>Cut4][df[\"lab0_CHI2NDOF_DTF_Xic\"]<(30-Cut5)][df[\"lab3_ProbNNk\"]>Cut6][df[\"lab0_PT\"]>Cut7], bins=100, range =(2980,3150), color = \"green\")\n",
    "    bx.hist(gf[\"lab0_M\"]-gf[\"lab1_M\"]+gf[\"Xic\"][gf[\"lab2_ProbNNp\"]>Cut2][gf[\"lab1_IPCHI2_OWNPV\"]<(11-Cut3)][gf[\"lab1_FDCHI2_OWNPV\"]>Cut4][gf[\"lab0_CHI2NDOF_DTF_Xic\"]<(30-Cut5)][gf[\"lab3_ProbNNk\"]>Cut6][gf[\"lab0_PT\"]>Cut7], bins=100, range =(2980,3150), color = \"darkgreen\")\n",
    "    cx.hist(df[\"lab2_ProbNNp\"][df[\"lab2_ProbNNp\"]>Cut2], bins=100, range =(0,1))\n",
    "    dx.hist(df[\"lab1_IPCHI2_OWNPV\"][df[\"lab1_IPCHI2_OWNPV\"]<(11-Cut3)], bins=100, range =(0,11))\n",
    "    ex.hist(df[\"lab1_FDCHI2_OWNPV\"][df[\"lab1_FDCHI2_OWNPV\"]>Cut4], bins=100, range =(0,500))\n",
    "    fx.hist(df[\"lab0_CHI2NDOF_DTF_Xic\"][df[\"lab0_CHI2NDOF_DTF_Xic\"]<(30-Cut5)], bins=100, range =(0,30))\n",
    "    gx.hist(df[\"lab3_ProbNNk\"][df[\"lab3_ProbNNk\"]>Cut6], bins=100, range =(0,1))\n",
    "    hx.hist(df[\"lab0_PT\"][df[\"lab0_PT\"]>Cut7], bins=100, range =(0,20000))"
   ]
  },
  {
   "cell_type": "markdown",
   "id": "e1507f5d",
   "metadata": {},
   "source": [
    "#### Festlegung der Filter\n",
    "\n",
    "In die nächste Zelle sollst Du die Werte für die Filter eintragen, die Du in dem vorherigen Teil mit den Schiebereglern erörtert hast. Ersetze dafür die drei Rauten ### in der Zelle mit den Zahlenwerten und nutze Punkte statt Kommas, wenn Du Dezimalzahlen schreibst. Die Zelle gibt Dir eine Mitteilung, wenn die Filter übernommen sind."
   ]
  },
  {
   "cell_type": "code",
   "execution_count": 24,
   "id": "fc1ad81d",
   "metadata": {},
   "outputs": [],
   "source": [
    "#Hier die Updates der Filter 2-4 eintragen\n",
    "cut12 = ROOT.TCut(\"lab2_ProbNNp>###\") #Filter 2\n",
    "cut13 = ROOT.TCut(\"log(lab1_IPCHI2_OWNPV)<(11-###)\") #Filter 3\n",
    "cut14 = ROOT.TCut(\"lab1_FDCHI2_OWNPV>###\") #Filter 4\n",
    "cut10 = ROOT.TCut(cut12+cut13+cut14)\n",
    "\n",
    "#Hier die Werte für Filter 5-7 eintragen\n",
    "cut21 = ROOT.TCut(\"lab0_CHI2NDOF_DTF_Xic<(30-###)\") #Filter 5\n",
    "cut22 = ROOT.TCut(\"lab3_ProbNNk>###\") #Filter 6\n",
    "cut23 = ROOT.TCut(\"lab0_PT>###\") #Filter 7\n",
    "cut20 = ROOT.TCut(cut21+cut22+cut23)"
   ]
  },
  {
   "cell_type": "markdown",
   "id": "95af7cf5",
   "metadata": {},
   "source": [
    "#### Bestimmen der angeregten Zustände\n",
    "\n",
    "Wenn Du die Filter festgelegt hast, kannst Du die nächste Zelle ausführen.\n",
    "Das Programm zeichnet Dir ein Histogramm, in dem die Kombination $\\Xi_c^+ K^-$ und die Kombination $\\Xi_c^+ K^+$ eingezeichnet sind.\n",
    "Du sollst dann mithilfe des Cursors die Zustände bestimmen."
   ]
  },
  {
   "cell_type": "code",
   "execution_count": 27,
   "id": "97dc830d",
   "metadata": {
    "scrolled": false
   },
   "outputs": [
    {
     "name": "stderr",
     "output_type": "stream",
     "text": [
      "Warning in <TCanvas::Constructor>: Deleting canvas with same name: myCanvasName2\n"
     ]
    },
    {
     "data": {
      "text/html": [
       "\n",
       "\n",
       "<div id=\"root_plot_1635373257700\"\n",
       "     style=\"width: 796px; height: 572px\">\n",
       "</div>\n",
       "<script>\n",
       "\n",
       "function display_root_plot_1635373257700(Core) {\n",
       "   let obj = Core.parse({\"_typename\":\"TCanvas\",\"fUniqueID\":0,\"fBits\":3342344,\"fLineColor\":1,\"fLineStyle\":1,\"fLineWidth\":1,\"fFillColor\":0,\"fFillStyle\":1001,\"fLeftMargin\":0.1,\"fRightMargin\":0.1,\"fBottomMargin\":0.1,\"fTopMargin\":0.1,\"fXfile\":2,\"fYfile\":2,\"fAfile\":1,\"fXstat\":0.99,\"fYstat\":0.99,\"fAstat\":2,\"fFrameFillColor\":0,\"fFrameLineColor\":1,\"fFrameFillStyle\":1001,\"fFrameLineStyle\":1,\"fFrameLineWidth\":1,\"fFrameBorderSize\":1,\"fFrameBorderMode\":0,\"fX1\":2952.49999795109,\"fY1\":-53.8125040093439,\"fX2\":3227.50000204891,\"fY2\":484.312504009344,\"fXtoAbsPixelk\":-8546.1452712673,\"fXtoPixelk\":-8546.1452712673,\"fXtoPixel\":2.89454541141337,\"fYtoAbsPixelk\":514.800046590614,\"fYtoPixelk\":514.800046590614,\"fYtoPixel\":-1.06295004223282,\"fUtoAbsPixelk\":5e-5,\"fUtoPixelk\":5e-5,\"fUtoPixel\":796,\"fVtoAbsPixelk\":572.00005,\"fVtoPixelk\":572,\"fVtoPixel\":-572,\"fAbsPixeltoXk\":2952.49999795109,\"fPixeltoXk\":2952.49999795109,\"fPixeltoX\":0.345477392082688,\"fAbsPixeltoYk\":484.312504009344,\"fPixeltoYk\":-53.8125040093439,\"fPixeltoY\":-0.940777986046657,\"fXlowNDC\":0,\"fYlowNDC\":0,\"fXUpNDC\":1,\"fYUpNDC\":1,\"fWNDC\":1,\"fHNDC\":1,\"fAbsXlowNDC\":0,\"fAbsYlowNDC\":0,\"fAbsWNDC\":1,\"fAbsHNDC\":1,\"fUxmin\":2980,\"fUymin\":0,\"fUxmax\":3200,\"fUymax\":430.5,\"fTheta\":30,\"fPhi\":30,\"fAspectRatio\":0,\"fNumber\":0,\"fTickx\":0,\"fTicky\":0,\"fLogx\":0,\"fLogy\":0,\"fLogz\":0,\"fPadPaint\":0,\"fCrosshair\":0,\"fCrosshairPos\":0,\"fBorderSize\":2,\"fBorderMode\":0,\"fModified\":true,\"fGridx\":false,\"fGridy\":false,\"fAbsCoord\":false,\"fEditable\":true,\"fFixedAspectRatio\":false,\"fPrimitives\":{\"_typename\":\"TList\",\"name\":\"TList\",\"arr\":[{\"_typename\":\"TFrame\",\"fUniqueID\":0,\"fBits\":8,\"fLineColor\":1,\"fLineStyle\":1,\"fLineWidth\":1,\"fFillColor\":0,\"fFillStyle\":1001,\"fX1\":2980,\"fY1\":0,\"fX2\":3200,\"fY2\":430.5,\"fBorderSize\":1,\"fBorderMode\":0},{\"_typename\":\"TH1F\",\"fUniqueID\":0,\"fBits\":520,\"fName\":\"h2\",\"fTitle\":\"Kombination #Xi_{c}^{+} mit K^{#pm}\",\"fLineColor\":602,\"fLineStyle\":1,\"fLineWidth\":2,\"fFillColor\":0,\"fFillStyle\":1001,\"fMarkerColor\":1,\"fMarkerStyle\":1,\"fMarkerSize\":1,\"fNcells\":102,\"fXaxis\":{\"_typename\":\"TAxis\",\"fUniqueID\":0,\"fBits\":0,\"fName\":\"xaxis\",\"fTitle\":\"m(#Xi_{c}^{+} K^{#pm}) [MeV]\",\"fNdivisions\":510,\"fAxisColor\":1,\"fLabelColor\":1,\"fLabelFont\":42,\"fLabelOffset\":0.005,\"fLabelSize\":0.035,\"fTickLength\":0.03,\"fTitleOffset\":1,\"fTitleSize\":0.035,\"fTitleColor\":1,\"fTitleFont\":42,\"fNbins\":100,\"fXmin\":2980,\"fXmax\":3200,\"fXbins\":[],\"fFirst\":0,\"fLast\":0,\"fBits2\":0,\"fTimeDisplay\":false,\"fTimeFormat\":\"\",\"fLabels\":null,\"fModLabs\":null},\"fYaxis\":{\"_typename\":\"TAxis\",\"fUniqueID\":0,\"fBits\":0,\"fName\":\"yaxis\",\"fTitle\":\"Eintr#ddot{a}ge pro 2.2MeV\",\"fNdivisions\":510,\"fAxisColor\":1,\"fLabelColor\":1,\"fLabelFont\":42,\"fLabelOffset\":0.005,\"fLabelSize\":0.035,\"fTickLength\":0.03,\"fTitleOffset\":0,\"fTitleSize\":0.035,\"fTitleColor\":1,\"fTitleFont\":42,\"fNbins\":1,\"fXmin\":0,\"fXmax\":1,\"fXbins\":[],\"fFirst\":0,\"fLast\":0,\"fBits2\":0,\"fTimeDisplay\":false,\"fTimeFormat\":\"\",\"fLabels\":null,\"fModLabs\":null},\"fZaxis\":{\"_typename\":\"TAxis\",\"fUniqueID\":0,\"fBits\":0,\"fName\":\"zaxis\",\"fTitle\":\"\",\"fNdivisions\":510,\"fAxisColor\":1,\"fLabelColor\":1,\"fLabelFont\":42,\"fLabelOffset\":0.005,\"fLabelSize\":0.035,\"fTickLength\":0.03,\"fTitleOffset\":1,\"fTitleSize\":0.035,\"fTitleColor\":1,\"fTitleFont\":42,\"fNbins\":1,\"fXmin\":0,\"fXmax\":1,\"fXbins\":[],\"fFirst\":0,\"fLast\":0,\"fBits2\":0,\"fTimeDisplay\":false,\"fTimeFormat\":\"\",\"fLabels\":null,\"fModLabs\":null},\"fBarOffset\":0,\"fBarWidth\":1000,\"fEntries\":74304,\"fTsumw\":31282,\"fTsumw2\":31282,\"fTsumwx\":96925635.2807515,\"fTsumwx2\":300434989525.661,\"fMaximum\":-1111,\"fMinimum\":-1111,\"fNormFactor\":0,\"fContour\":[],\"fSumw2\":[],\"fOption\":\"\",\"fFunctions\":{\"_typename\":\"TList\",\"name\":\"TList\",\"arr\":[],\"opt\":[]},\"fBufferSize\":0,\"fBuffer\":[],\"fBinStatErrOpt\":0,\"fStatOverflows\":2,\"fArray\":[1154,176,155,195,174,195,216,219,238,260,323,269,234,213,257,239,244,240,271,261,225,250,239,241,264,259,266,262,269,266,311,274,393,408,291,307,319,343,359,410,351,351,329,307,316,276,310,349,324,365,363,404,382,383,347,316,321,333,315,349,329,325,343,388,373,356,334,330,294,315,324,317,357,332,334,349,332,338,354,340,331,336,351,380,342,330,368,342,365,338,354,358,367,323,369,340,350,390,359,327,372,41868]},{\"_typename\":\"TH1F\",\"fUniqueID\":0,\"fBits\":520,\"fName\":\"h3\",\"fTitle\":\"h3\",\"fLineColor\":2,\"fLineStyle\":1,\"fLineWidth\":2,\"fFillColor\":0,\"fFillStyle\":1001,\"fMarkerColor\":1,\"fMarkerStyle\":1,\"fMarkerSize\":1,\"fNcells\":102,\"fXaxis\":{\"_typename\":\"TAxis\",\"fUniqueID\":0,\"fBits\":0,\"fName\":\"xaxis\",\"fTitle\":\"\",\"fNdivisions\":510,\"fAxisColor\":1,\"fLabelColor\":1,\"fLabelFont\":42,\"fLabelOffset\":0.005,\"fLabelSize\":0.035,\"fTickLength\":0.03,\"fTitleOffset\":1,\"fTitleSize\":0.035,\"fTitleColor\":1,\"fTitleFont\":42,\"fNbins\":100,\"fXmin\":2980,\"fXmax\":3200,\"fXbins\":[],\"fFirst\":0,\"fLast\":0,\"fBits2\":0,\"fTimeDisplay\":false,\"fTimeFormat\":\"\",\"fLabels\":null,\"fModLabs\":null},\"fYaxis\":{\"_typename\":\"TAxis\",\"fUniqueID\":0,\"fBits\":0,\"fName\":\"yaxis\",\"fTitle\":\"\",\"fNdivisions\":510,\"fAxisColor\":1,\"fLabelColor\":1,\"fLabelFont\":42,\"fLabelOffset\":0.005,\"fLabelSize\":0.035,\"fTickLength\":0.03,\"fTitleOffset\":0,\"fTitleSize\":0.035,\"fTitleColor\":1,\"fTitleFont\":42,\"fNbins\":1,\"fXmin\":0,\"fXmax\":1,\"fXbins\":[],\"fFirst\":0,\"fLast\":0,\"fBits2\":0,\"fTimeDisplay\":false,\"fTimeFormat\":\"\",\"fLabels\":null,\"fModLabs\":null},\"fZaxis\":{\"_typename\":\"TAxis\",\"fUniqueID\":0,\"fBits\":0,\"fName\":\"zaxis\",\"fTitle\":\"\",\"fNdivisions\":510,\"fAxisColor\":1,\"fLabelColor\":1,\"fLabelFont\":42,\"fLabelOffset\":0.005,\"fLabelSize\":0.035,\"fTickLength\":0.03,\"fTitleOffset\":1,\"fTitleSize\":0.035,\"fTitleColor\":1,\"fTitleFont\":42,\"fNbins\":1,\"fXmin\":0,\"fXmax\":1,\"fXbins\":[],\"fFirst\":0,\"fLast\":0,\"fBits2\":0,\"fTimeDisplay\":false,\"fTimeFormat\":\"\",\"fLabels\":null,\"fModLabs\":null},\"fBarOffset\":0,\"fBarWidth\":1000,\"fEntries\":75982,\"fTsumw\":30497,\"fTsumw2\":30497,\"fTsumwx\":94593459.621094,\"fTsumwx2\":293516247322.546,\"fMaximum\":-1111,\"fMinimum\":-1111,\"fNormFactor\":0,\"fContour\":[],\"fSumw2\":[],\"fOption\":\"\",\"fFunctions\":{\"_typename\":\"TList\",\"name\":\"TList\",\"arr\":[],\"opt\":[]},\"fBufferSize\":0,\"fBuffer\":[],\"fBinStatErrOpt\":0,\"fStatOverflows\":2,\"fArray\":[912,143,144,174,200,167,207,184,201,182,183,212,222,221,212,231,243,262,241,242,233,270,289,249,257,278,278,252,253,298,324,287,317,300,307,253,328,311,284,281,284,287,324,291,329,290,324,303,313,332,324,302,331,329,306,312,346,333,305,331,340,309,353,359,339,368,334,335,344,342,343,346,365,367,344,348,350,357,347,372,330,389,363,349,376,371,345,362,367,382,372,359,396,364,350,364,362,390,381,374,373,44573]},{\"_typename\":\"TPaveText\",\"fUniqueID\":0,\"fBits\":9,\"fLineColor\":1,\"fLineStyle\":1,\"fLineWidth\":1,\"fFillColor\":0,\"fFillStyle\":0,\"fX1\":3033.7010041862,\"fY1\":443.238139704527,\"fX2\":3146.29899581379,\"fY2\":481.621881535231,\"fX1NDC\":0.295276381909548,\"fY1NDC\":0.9236713334397,\"fX2NDC\":0.704723618090452,\"fY2NDC\":0.995000004768372,\"fBorderSize\":0,\"fInit\":1,\"fShadowColor\":1,\"fCornerRadius\":0,\"fOption\":\"blNDC\",\"fName\":\"title\",\"fTextAngle\":0,\"fTextSize\":0,\"fTextAlign\":22,\"fTextColor\":1,\"fTextFont\":42,\"fLabel\":\"\",\"fLongest\":35,\"fMargin\":0.05,\"fLines\":{\"_typename\":\"TList\",\"name\":\"TList\",\"arr\":[{\"_typename\":\"TLatex\",\"fUniqueID\":0,\"fBits\":0,\"fName\":\"\",\"fTitle\":\"Kombination #Xi_{c}^{+} mit K^{#pm}\",\"fTextAngle\":0,\"fTextSize\":0,\"fTextAlign\":0,\"fTextColor\":0,\"fTextFont\":0,\"fX\":0,\"fY\":0,\"fLineColor\":1,\"fLineStyle\":1,\"fLineWidth\":2,\"fLimitFactorSize\":3,\"fOriginSize\":0.0606293715536594}],\"opt\":[\"\"]}},{\"_typename\":\"TLegend\",\"fUniqueID\":0,\"fBits\":8,\"fLineColor\":1,\"fLineStyle\":1,\"fLineWidth\":1,\"fFillColor\":0,\"fFillStyle\":1001,\"fX1\":0.85,\"fY1\":0.8,\"fX2\":0.99,\"fY2\":0.99,\"fX1NDC\":0,\"fY1NDC\":0,\"fX2NDC\":0,\"fY2NDC\":0,\"fBorderSize\":1,\"fInit\":0,\"fShadowColor\":1,\"fCornerRadius\":0,\"fOption\":\"brNDC\",\"fName\":\"TPave\",\"fTextAngle\":0,\"fTextSize\":0,\"fTextAlign\":12,\"fTextColor\":1,\"fTextFont\":42,\"fPrimitives\":{\"_typename\":\"TList\",\"name\":\"TList\",\"arr\":[{\"_typename\":\"TLegendEntry\",\"fUniqueID\":0,\"fBits\":0,\"fTextAngle\":0,\"fTextSize\":0,\"fTextAlign\":0,\"fTextColor\":0,\"fTextFont\":0,\"fLineColor\":1,\"fLineStyle\":1,\"fLineWidth\":1,\"fFillColor\":0,\"fFillStyle\":0,\"fMarkerColor\":1,\"fMarkerStyle\":21,\"fMarkerSize\":1,\"fObject\":{\"$ref\":3},\"fLabel\":\"#Xi_{c}^{+} K^{-}\",\"fOption\":\"l\"},{\"_typename\":\"TLegendEntry\",\"fUniqueID\":0,\"fBits\":0,\"fTextAngle\":0,\"fTextSize\":0,\"fTextAlign\":0,\"fTextColor\":0,\"fTextFont\":0,\"fLineColor\":1,\"fLineStyle\":1,\"fLineWidth\":1,\"fFillColor\":0,\"fFillStyle\":0,\"fMarkerColor\":1,\"fMarkerStyle\":21,\"fMarkerSize\":1,\"fObject\":{\"$ref\":8},\"fLabel\":\"#Xi_{c}^{+} K^{+}\",\"fOption\":\"l\"}],\"opt\":[\"l\",\"l\"]},\"fEntrySeparation\":0.1,\"fMargin\":0.25,\"fNColumns\":1,\"fColumnSeparation\":0},{\"_typename\":\"TStyle\",\"fUniqueID\":0,\"fBits\":0,\"fName\":\"Modern\",\"fTitle\":\"Modern Style\",\"fLineColor\":1,\"fLineStyle\":1,\"fLineWidth\":1,\"fFillColor\":19,\"fFillStyle\":1001,\"fMarkerColor\":1,\"fMarkerStyle\":1,\"fMarkerSize\":1,\"fTextAngle\":0,\"fTextSize\":0.05,\"fTextAlign\":11,\"fTextColor\":1,\"fTextFont\":62,\"fXaxis\":{\"_typename\":\"TAttAxis\",\"fNdivisions\":510,\"fAxisColor\":1,\"fLabelColor\":1,\"fLabelFont\":42,\"fLabelOffset\":0.005,\"fLabelSize\":0.035,\"fTickLength\":0.03,\"fTitleOffset\":1,\"fTitleSize\":0.035,\"fTitleColor\":1,\"fTitleFont\":42},\"fYaxis\":{\"_typename\":\"TAttAxis\",\"fNdivisions\":510,\"fAxisColor\":1,\"fLabelColor\":1,\"fLabelFont\":42,\"fLabelOffset\":0.005,\"fLabelSize\":0.035,\"fTickLength\":0.03,\"fTitleOffset\":0,\"fTitleSize\":0.035,\"fTitleColor\":1,\"fTitleFont\":42},\"fZaxis\":{\"_typename\":\"TAttAxis\",\"fNdivisions\":510,\"fAxisColor\":1,\"fLabelColor\":1,\"fLabelFont\":42,\"fLabelOffset\":0.005,\"fLabelSize\":0.035,\"fTickLength\":0.03,\"fTitleOffset\":1,\"fTitleSize\":0.035,\"fTitleColor\":1,\"fTitleFont\":42},\"fBarWidth\":1,\"fBarOffset\":0,\"fColorModelPS\":0,\"fDrawBorder\":0,\"fOptLogx\":0,\"fOptLogy\":0,\"fOptLogz\":0,\"fOptDate\":0,\"fOptStat\":0,\"fOptTitle\":1,\"fOptFile\":0,\"fOptFit\":0,\"fShowEventStatus\":0,\"fShowEditor\":0,\"fShowToolBar\":0,\"fNumberContours\":20,\"fAttDate\":{\"_typename\":\"TAttText\",\"fTextAngle\":0,\"fTextSize\":0.025,\"fTextAlign\":11,\"fTextColor\":1,\"fTextFont\":62},\"fDateX\":0.01,\"fDateY\":0.01,\"fEndErrorSize\":2,\"fErrorX\":0.5,\"fFuncColor\":2,\"fFuncStyle\":1,\"fFuncWidth\":2,\"fGridColor\":0,\"fGridStyle\":3,\"fGridWidth\":1,\"fLegendBorderSize\":1,\"fLegendFillColor\":0,\"fLegendFont\":42,\"fLegendTextSize\":0,\"fHatchesLineWidth\":1,\"fHatchesSpacing\":1,\"fFrameFillColor\":0,\"fFrameLineColor\":1,\"fFrameFillStyle\":1001,\"fFrameLineStyle\":1,\"fFrameLineWidth\":1,\"fFrameBorderSize\":1,\"fFrameBorderMode\":0,\"fHistFillColor\":0,\"fHistLineColor\":602,\"fHistFillStyle\":1001,\"fHistLineStyle\":1,\"fHistLineWidth\":1,\"fHistMinimumZero\":false,\"fHistTopMargin\":0.05,\"fCanvasPreferGL\":false,\"fCanvasColor\":0,\"fCanvasBorderSize\":2,\"fCanvasBorderMode\":0,\"fCanvasDefH\":500,\"fCanvasDefW\":700,\"fCanvasDefX\":10,\"fCanvasDefY\":10,\"fPadColor\":0,\"fPadBorderSize\":2,\"fPadBorderMode\":0,\"fPadBottomMargin\":0.1,\"fPadTopMargin\":0.1,\"fPadLeftMargin\":0.1,\"fPadRightMargin\":0.1,\"fPadGridX\":false,\"fPadGridY\":false,\"fPadTickX\":0,\"fPadTickY\":0,\"fPaperSizeX\":20,\"fPaperSizeY\":26,\"fScreenFactor\":1,\"fStatColor\":0,\"fStatTextColor\":1,\"fStatBorderSize\":1,\"fStatFont\":42,\"fStatFontSize\":0,\"fStatStyle\":1001,\"fStatFormat\":\"6.4g\",\"fStatX\":0.98,\"fStatY\":0.935,\"fStatW\":0.2,\"fStatH\":0.16,\"fStripDecimals\":true,\"fTitleAlign\":23,\"fTitleColor\":0,\"fTitleTextColor\":1,\"fTitleBorderSize\":0,\"fTitleFont\":42,\"fTitleFontSize\":0.05,\"fTitleStyle\":0,\"fTitleX\":0.5,\"fTitleY\":0.995,\"fTitleW\":0,\"fTitleH\":0,\"fLegoInnerR\":0.5,\"fLineStyle\":[\"\",\"  \",\" 12 12\",\" 4 8\",\" 12 16 4 16\",\" 20 12 4 12\",\" 20 12 4 12 4 12 4 12\",\" 20 20\",\" 20 12 4 12 4 12\",\" 80 20\",\" 80 40 4 40\",\"  \",\"  \",\"  \",\"  \",\"  \",\"  \",\"  \",\"  \",\"  \",\"  \",\"  \",\"  \",\"  \",\"  \",\"  \",\"  \",\"  \",\"  \",\"  \"],\"fHeaderPS\":\"\",\"fTitlePS\":\"\",\"fFitFormat\":\"5.4g\",\"fPaintTextFormat\":\"g\",\"fLineScalePS\":3,\"fJoinLinePS\":0,\"fCapLinePS\":0,\"fTimeOffset\":788918400,\"fImageScaling\":1}],\"opt\":[\"\",\"MIN0\",\"same\",\"blNDC\",\"\",\"\"]},\"fExecs\":null,\"fName\":\"myCanvasName2\",\"fTitle\":\"Titel2\",\"fNumPaletteColor\":0,\"fNextPaletteColor\":0,\"fDISPLAY\":\"$DISPLAY\",\"fDoubleBuffer\":0,\"fRetained\":true,\"fXsizeUser\":0,\"fYsizeUser\":0,\"fXsizeReal\":20,\"fYsizeReal\":15,\"fWindowTopX\":0,\"fWindowTopY\":0,\"fWindowWidth\":0,\"fWindowHeight\":0,\"fCw\":796,\"fCh\":572,\"fCatt\":{\"_typename\":\"TAttCanvas\",\"fXBetween\":2,\"fYBetween\":2,\"fTitleFromTop\":1.2,\"fXdate\":0.2,\"fYdate\":0.3,\"fAdate\":1},\"kMoveOpaque\":true,\"kResizeOpaque\":true,\"fHighLightColor\":2,\"fBatch\":true,\"kShowEventStatus\":false,\"kAutoExec\":true,\"kMenuBar\":true});\n",
       "   Core.settings.HandleKeys = false;\n",
       "   Core.draw(\"root_plot_1635373257700\", obj, \"\");\n",
       "}\n",
       "\n",
       "function script_load_root_plot_1635373257700(src, on_error) {\n",
       "    let script = document.createElement('script');\n",
       "    script.src = src;\n",
       "    script.onload = function() { display_root_plot_1635373257700(JSROOT); };\n",
       "    script.onerror = function() { script.remove(); on_error(); };\n",
       "    document.head.appendChild(script);\n",
       "}\n",
       "\n",
       "if (typeof requirejs !== 'undefined') {\n",
       "\n",
       "    // We are in jupyter notebooks, use require.js which should be configured already\n",
       "    requirejs.config({\n",
       "       paths: { 'JSRootCore' : [ 'scripts/JSRoot.core', 'https://root.cern/js/6.1.1/scripts/JSRoot.core.min', 'https://jsroot.gsi.de/6.1.1/scripts/JSRoot.core.min' ] }\n",
       "    })(['JSRootCore'],  function(Core) {\n",
       "       display_root_plot_1635373257700(Core);\n",
       "    });\n",
       "\n",
       "} else if (typeof JSROOT !== 'undefined') {\n",
       "\n",
       "   // JSROOT already loaded, just use it\n",
       "   display_root_plot_1635373257700(JSROOT);\n",
       "\n",
       "} else {\n",
       "\n",
       "    // We are in jupyterlab without require.js, directly loading jsroot\n",
       "    // Jupyterlab might be installed in a different base_url so we need to know it.\n",
       "    try {\n",
       "        var base_url = JSON.parse(document.getElementById('jupyter-config-data').innerHTML).baseUrl;\n",
       "    } catch(_) {\n",
       "        var base_url = '/';\n",
       "    }\n",
       "\n",
       "    // Try loading a local version of requirejs and fallback to cdn if not possible.\n",
       "    script_load_root_plot_1635373257700(base_url + 'static/scripts/JSRoot.core.js', function(){\n",
       "        console.error('Fail to load JSROOT locally, please check your jupyter_notebook_config.py file');\n",
       "        script_load_root_plot_1635373257700('https://root.cern/js/6.1.1/scripts/JSRoot.core.min.js', function(){\n",
       "            document.getElementById(\"root_plot_1635373257700\").innerHTML = \"Failed to load JSROOT\";\n",
       "        });\n",
       "    });\n",
       "}\n",
       "\n",
       "</script>\n"
      ],
      "text/plain": [
       "<IPython.core.display.HTML object>"
      ]
     },
     "metadata": {},
     "output_type": "display_data"
    }
   ],
   "source": [
    "ROOT.gStyle.SetOptStat(0) #Entfernen HistLegende\n",
    "\n",
    "#Erstellen Hist, Kombinieren Hist\n",
    "h2 = ROOT.TH1F(\"h2\",\"Kombination #Xi_{c}^{+} mit K^{#pm}\",100,2980,3200)\n",
    "h3 = ROOT.TH1F(\"h3\",\"h3\",100,2980,3200) #WS\n",
    "c2 = ROOT.TCanvas(\"myCanvasName2\",\"Titel2\",800,600)\n",
    "tree1.Draw(\"lab0_M-lab1_M+2467.89>>h2\",cut10+cut20)\n",
    "tree2.Draw(\"lab0_M-lab1_M+2467.89>>h3\",cut10+cut20) #WS\n",
    "h2.SetLineWidth(2)\n",
    "h2.Draw(\"MIN0\")\n",
    "h3.SetLineColor(2) #WS\n",
    "h3.SetLineWidth(2) #WS\n",
    "h3.Draw(\"same\") #WS\n",
    "%jsroot\n",
    "c2.Draw()\n",
    "h2.GetXaxis().SetTitle(\"m(#Xi_{c}^{+} K^{#pm}) [MeV]\")\n",
    "h2.GetYaxis().SetTitle(\"Eintr#ddot{a}ge pro 2.2MeV\")\n",
    "\n",
    "leg=ROOT.TLegend(0.85,0.8,0.99,0.99)\n",
    "leg.AddEntry(h2,\"#Xi_{c}^{+} K^{-}\",\"l\")\n",
    "leg.AddEntry(h3,\"#Xi_{c}^{+} K^{+}\",\"l\") #WS\n",
    "leg.Draw()"
   ]
  },
  {
   "cell_type": "code",
   "execution_count": null,
   "id": "637a958f",
   "metadata": {},
   "outputs": [],
   "source": []
  }
 ],
 "metadata": {
  "kernelspec": {
   "display_name": "Python 3",
   "language": "python",
   "name": "python3"
  },
  "language_info": {
   "codemirror_mode": {
    "name": "ipython",
    "version": 3
   },
   "file_extension": ".py",
   "mimetype": "text/x-python",
   "name": "python",
   "nbconvert_exporter": "python",
   "pygments_lexer": "ipython3",
   "version": "3.9.6"
  }
 },
 "nbformat": 4,
 "nbformat_minor": 5
}
